{
 "metadata": {
  "name": "",
  "signature": "sha256:6fc8699153d614a9607d7fb3af94796708656954fb8e59eb8ebe21dfc341c4ab"
 },
 "nbformat": 3,
 "nbformat_minor": 0,
 "worksheets": [
  {
   "cells": [
    {
     "cell_type": "heading",
     "level": 1,
     "metadata": {},
     "source": [
      "Solar system simulation treatment"
     ]
    },
    {
     "cell_type": "code",
     "collapsed": false,
     "input": [
      "import pandas as pd\n",
      "import numpy as np\n",
      "import datetime\n",
      "import matplotlib\n",
      "\n",
      "from matplotlib.patches import Ellipse, Polygon  # Used to draw shapes inside plots\n",
      "from matplotlib.dates import MinuteLocator, DateFormatter, SecondLocator"
     ],
     "language": "python",
     "metadata": {},
     "outputs": [],
     "prompt_number": 268
    },
    {
     "cell_type": "code",
     "collapsed": false,
     "input": [
      "import matplotlib.pyplot as plt\n",
      "%matplotlib qt"
     ],
     "language": "python",
     "metadata": {},
     "outputs": [],
     "prompt_number": 3
    },
    {
     "cell_type": "heading",
     "level": 2,
     "metadata": {},
     "source": [
      "Fonctions"
     ]
    },
    {
     "cell_type": "code",
     "collapsed": false,
     "input": [
      "def convert_to_datetime(step, start=datetime.datetime(2014, 1, 1)):\n",
      "    \"\"\"\n",
      "      This parser convert to a real datetime format\n",
      "    \"\"\"\n",
      "    for el in step:\n",
      "        yield start + datetime.timedelta(seconds=int(el))"
     ],
     "language": "python",
     "metadata": {},
     "outputs": [],
     "prompt_number": 4
    },
    {
     "cell_type": "code",
     "collapsed": false,
     "input": [
      "def data_iterator(struct, start=0, steps=[], interval=None):\n",
      "    \"\"\"\n",
      "        Create an iterator to treat a dataframe part by parts\n",
      "        \n",
      "        example :\n",
      "            start=0\n",
      "            steps=[el*48 for el in (31, 28, 31, 30, 31, 30, 31, 31, 30, 31, 30, 31)]\n",
      "            interval=12\n",
      "        --> Month dataframe iterator\n",
      "    \"\"\"\n",
      "    end = start + steps[0]\n",
      "    yield struct[start:end]\n",
      "    for el in range(interval-1):\n",
      "        start = end\n",
      "        end += steps[el+1]\n",
      "        yield struct[start:end]"
     ],
     "language": "python",
     "metadata": {},
     "outputs": [],
     "prompt_number": 5
    },
    {
     "cell_type": "code",
     "collapsed": false,
     "input": [
      "def set_box_colors(box, colors=('#268bd2', '#002b36', '#268bd2', '#268bd2', '#dc322f'),\n",
      "                   linewidth=(1.5, 1, 1, 1, 1), marker=''): \n",
      "    \"\"\"\n",
      "        Change boxplot color structure\n",
      "        current display colors are : ('blue', 'black', 'blue', 'blue', 'red')\n",
      "    \"\"\"\n",
      "    plt.setp(box['boxes'], color=colors[0], linewidth=linewidth[0])  # boxes \n",
      "    plt.setp(box['caps'], color=colors[1], linewidth=linewidth[1])  # limits \n",
      "    plt.setp(box['whiskers'], color=colors[2], linewidth=linewidth[2])  # points \n",
      "    plt.setp(box['fliers'], color=colors[3], linewidth=linewidth[3],\n",
      "             marker=marker)  # markers\n",
      "    plt.setp(box['medians'], color=colors[4], linewidth=linewidth[4])  # medians "
     ],
     "language": "python",
     "metadata": {},
     "outputs": [],
     "prompt_number": 310
    },
    {
     "cell_type": "code",
     "collapsed": false,
     "input": [
      "# Not working !!!\n",
      "def color_boxes(box_plot, numBoxes, facecolor):\n",
      "    \"\"\"\n",
      "        Iterate (numBoxes iterations) over box_plot['boxes'] coordinates to draw\n",
      "        a polygon which matched box plot boxes.\n",
      "        Can be used to change boxes background color\n",
      "    \"\"\"\n",
      "    for i in range(numBoxes):\n",
      "        box = box_plot['boxes'][i]\n",
      "        boxX = (box.get_xdata()[j] for j in range(5))\n",
      "        boxY = (box.get_ydata()[j] for j in range(5))\n",
      "        yield Polygon(zip(boxX, boxY), facecolor=facecolor)"
     ],
     "language": "python",
     "metadata": {},
     "outputs": [],
     "prompt_number": 315
    },
    {
     "cell_type": "heading",
     "level": 2,
     "metadata": {},
     "source": [
      "Matplotlib parameters"
     ]
    },
    {
     "cell_type": "code",
     "collapsed": false,
     "input": [
      "# Change font properties\n",
      "font_base = {'family' : 'serif',\n",
      "             'size'   : 13}\n",
      "font_title = {'size'   : 18,\n",
      "              'family':'Anonymous Pro'}\n",
      "font_mainTitle = {'color': '#002b36',\n",
      "                  'weight': 'bold',\n",
      "                  'size': '25',\n",
      "                  'family': 'Anonymous Pro'}\n",
      "\n",
      "# Change default label settings\n",
      "matplotlib.rc('font', **font_base)\n",
      "matplotlib.rc('xtick', labelsize=10) \n",
      "matplotlib.rc('ytick', labelsize=10)\n",
      "matplotlib.rc('legend', fontsize=10)\n",
      "matplotlib.rc('legend', labelspacing=0.2)\n",
      "\n",
      "# font = matplotlib.font_manager.FontProperties(family='Tahoma', size=12)\n",
      "# matplotlib.rc('annotate', fontproperties=font)\n",
      "\n",
      "# Adding artist element\n",
      "el = Ellipse((2, -1), 0.5, 0.5)\n",
      "\n",
      "# Formatter\n",
      "minutes = MinuteLocator(interval=4)\n",
      "minutes_formatter = DateFormatter(\"%M:%S\")\n",
      "\n",
      "secondes = SecondLocator(interval=10)\n",
      "secondes_formatter = DateFormatter(\"%M:%S\")\n",
      "\n",
      "matplotlib.use('Qt4Agg')\n",
      "matplotlib.rcParams['backend.qt4']='PySide'"
     ],
     "language": "python",
     "metadata": {},
     "outputs": [],
     "prompt_number": 7
    },
    {
     "cell_type": "code",
     "collapsed": false,
     "input": [
      "# Here select folder\n",
      "%cd \"D:\\GitHub\\SolarSystem\\Outputs\\clean\""
     ],
     "language": "python",
     "metadata": {},
     "outputs": [
      {
       "output_type": "stream",
       "stream": "stdout",
       "text": [
        "D:\\GitHub\\SolarSystem\\Outputs\\clean\n"
       ]
      }
     ],
     "prompt_number": 8
    },
    {
     "cell_type": "code",
     "collapsed": false,
     "input": [
      "# Your Dataframe structure\n",
      "chambery = pd.read_csv('chambery_26062014.csv', skiprows=1, delimiter=\";\", index_col=\"Date\")\n",
      "# Convert to datetime index\n",
      "chambery.index = [ind for ind in convert_to_datetime(chambery.index)]\n",
      "# Removes duplicated values\n",
      "chambery = chambery.groupby(chambery.index).last()\n",
      "# Resample to keep only one value each 30min (reduce data treatment and increase speed)\n",
      "chambery = chambery[:].resample('30min')\n",
      "# Resample to have one value per incrementation (here per month)\n",
      "chambery_month = chambery[:].resample('1m')\n",
      "type(chambery.index)"
     ],
     "language": "python",
     "metadata": {},
     "outputs": [
      {
       "metadata": {},
       "output_type": "pyout",
       "prompt_number": 9,
       "text": [
        "pandas.tseries.index.DatetimeIndex"
       ]
      }
     ],
     "prompt_number": 9
    },
    {
     "cell_type": "code",
     "collapsed": false,
     "input": [
      "# Csv columns names\n",
      "for i, col in enumerate(chambery.columns):\n",
      "    print(\"column {} \\t\\t{}\".format(i, col))"
     ],
     "language": "python",
     "metadata": {},
     "outputs": [
      {
       "output_type": "stream",
       "stream": "stdout",
       "text": [
        "column 0 \t\tT1\n",
        "column 1 \t\tT2\n",
        "column 2 \t\tT3\n",
        "column 3 \t\tT4\n",
        "column 4 \t\tT5\n",
        "column 5 \t\tT7\n",
        "column 6 \t\tT8\n",
        "column 7 \t\tT9_ext\n",
        "column 8 \t\tT12_house\n",
        "column 9 \t\tS6_state\n",
        "column 10 \t\tS5_state\n",
        "column 11 \t\tS4_state\n",
        "column 12 \t\tS2_state\n",
        "column 13 \t\tFlow_S6\n",
        "column 14 \t\tFlow_S5\n",
        "column 15 \t\tFlow_S4\n",
        "column 16 \t\tFlow_S2\n",
        "column 17 \t\tVextra_state\n",
        "column 18 \t\tVsolar_state\n",
        "column 19 \t\tCHAUFF_state\n",
        "column 20 \t\tECS_state\n",
        "column 21 \t\tBackup_algo_state\n",
        "column 22 \t\tBackup_state\n",
        "column 23 \t\tFlow_Collector\n",
        "column 24 \t\tFlow_ExchTank_bot\n",
        "column 25 \t\tFlow_ExchTank_top\n",
        "column 26 \t\tFlow_ExchStorTank\n",
        "column 27 \t\tFlow_Boiler\n",
        "column 28 \t\tHDifHor\n",
        "column 29 \t\tHDirNor\n",
        "column 30 \t\tHDifTil_collector\n",
        "column 31 \t\tHDirTil_collector\n",
        "column 32 \t\tCollector_Energy\n",
        "column 33 \t\tBoiler_Energy\n",
        "column 34 \t\tRadiator_Energy\n",
        "column 35 \t\tDrawingUp_Energy\n"
       ]
      }
     ],
     "prompt_number": 10
    },
    {
     "cell_type": "heading",
     "level": 2,
     "metadata": {},
     "source": [
      "Box plot"
     ]
    },
    {
     "cell_type": "code",
     "collapsed": false,
     "input": [
      "# Month variation of temperatures\n",
      "months = (31, 28, 31, 30, 31, 30, 31, 31, 30, 31, 30, 31)\n",
      "# Store dataframe values of each months inside a tuple \n",
      "T3_T4_T5 = tuple(el for el in data_iterator(struct=chambery[['T3', 'T4', 'T5']],\n",
      "                                                 steps=[el*48 for el in months],\n",
      "                                                 interval=12))\n",
      "T1_Text = tuple(el for el in data_iterator(struct=chambery[['T1', 'T9_ext']],\n",
      "                                                 steps=[el*48 for el in months],\n",
      "                                                 interval=12))\n",
      "\n",
      "Hdif_Hdir = tuple(el for el in data_iterator(struct=chambery[['HDifHor', 'HDirNor']],\n",
      "                                                 steps=[el*48 for el in months],\n",
      "                                                 interval=12))\n",
      "len(chambery_month), len(T3_T4_T5), len(T1_Text), len(Hdif_Hdir)  # Testing"
     ],
     "language": "python",
     "metadata": {},
     "outputs": [
      {
       "metadata": {},
       "output_type": "pyout",
       "prompt_number": 236,
       "text": [
        "(13, 12, 12, 12)"
       ]
      }
     ],
     "prompt_number": 236
    },
    {
     "cell_type": "heading",
     "level": 3,
     "metadata": {},
     "source": [
      "T3 T4 T5"
     ]
    },
    {
     "cell_type": "code",
     "collapsed": false,
     "input": [
      "# Prepare figure and adjust it\n",
      "fig = plt.figure(figsize=(20, 10), facecolor=(0.84, 0.89, 0.9))\n",
      "ax11 = fig.add_subplot(1, 1, 1)\n",
      "fig.subplots_adjust(top=0.85,bottom=0.05,left=0.05,right=0.95)\n",
      "fig.canvas.manager.set_window_title(\"\")\n",
      "text = \"Evolution mensuel de la variation des temp\u00e9ratures des ballons\"\n",
      "plt.figtext(0.5, 0.9, text,\n",
      "            ha='center', fontdict=font_mainTitle)\n",
      "\n",
      "# Iterate to T3_T4 to get a specific column of values\n",
      "\n",
      "# Draw T3 boxes\n",
      "T3 = ax11.boxplot([el['T3'] for el in T3_T4_T5],\n",
      "                  positions=[el for el in range(0, 12*4, 4)], widths = 0.6)\n",
      "set_box_colors(T3, colors=('#268bd2', '#002b36', '#268bd2', '#268bd2', '#dc322f'))\n",
      "\n",
      "# Draw T4 boxes\n",
      "T4 = ax11.boxplot([el['T4'] for el in T3_T4_T5],\n",
      "                  positions=[el for el in range(1, 12*4, 4)], widths = 0.6)\n",
      "set_box_colors(T4, colors=('#586e75', '#002b36', '#586e75', '#586e75', '#dc322f'))\n",
      "    \n",
      "# Draw T5 boxes\n",
      "T5 = ax11.boxplot([el['T5'] for el in T3_T4_T5],\n",
      "                  positions=[el for el in range(2, 12*4, 4)], widths = 0.6)\n",
      "set_box_colors(T5, colors=('#859900', '#002b36', '#859900', '#859900', '#dc322f'))\n",
      "\n",
      "# Change xticks values to put xtickslabels between boxes (same tick per boxes pair)\n",
      "ax11.set_xticks([el for el in range(1, 12*4, 4)])\n",
      "ax11.set_xlim((-1, 12*4))\n",
      "ax11.set_xticklabels(['{:%B}'.format(el) for el in chambery_month.index])\n",
      "\n",
      "# Draw temporary lines and use them to create a legend\n",
      "h1, = ax11.plot([1,1], '#268bd2')\n",
      "h2, = ax11.plot([1,1], '#586e75')\n",
      "h3, = ax11.plot([1,1], '#859900')\n",
      "ax11.legend((h1, h2, h3),('T3', 'T4', 'T5'), prop=font_title)\n",
      "h1.set_visible(False)\n",
      "h2.set_visible(False)\n",
      "h3.set_visible(False)\n",
      "\n",
      "fig.autofmt_xdate(0.1)"
     ],
     "language": "python",
     "metadata": {},
     "outputs": [],
     "prompt_number": 314
    },
    {
     "cell_type": "heading",
     "level": 3,
     "metadata": {},
     "source": [
      "T1 Text"
     ]
    },
    {
     "cell_type": "code",
     "collapsed": false,
     "input": [
      "# Prepare figure and adjust it\n",
      "fig = plt.figure(figsize=(20, 10), facecolor=(0.84, 0.89, 0.9))\n",
      "ax11 = fig.add_subplot(1, 1, 1)\n",
      "fig.subplots_adjust(top=0.85,bottom=0.05,left=0.05,right=0.95)\n",
      "fig.canvas.manager.set_window_title(\"\")\n",
      "text = \"Evolution mensuel de la variation des temp\u00e9ratures\\n\" + \\\n",
      "       \" du collecteur (T1) et du ballon de stockage(T5)\"\n",
      "plt.figtext(0.5, 0.9, text,\n",
      "            ha='center', fontdict=font_mainTitle)\n",
      "\n",
      "# Iterate to T1_T5 to get a specific column of values\n",
      "\n",
      "# Draw T1 boxes\n",
      "T1 = ax11.boxplot([el['T1'] for el in T1_Text],\n",
      "                  positions=[el for el in range(0, 12*3, 3)], widths = 0.6)\n",
      "set_box_colors(T1, colors=('#268bd2', '#002b36', '#268bd2', '#268bd2', '#dc322f'))\n",
      "\n",
      "# Draw T5 boxes\n",
      "Text = ax11.boxplot([el['T9_ext'] for el in T1_Text],\n",
      "                  positions=[el for el in range(1, 12*3, 3)], widths = 0.6)\n",
      "set_box_colors(Text, colors=('#586e75', '#002b36', '#586e75', '#586e75', '#dc322f'))\n",
      "\n",
      "# Change xticks values to put xtickslabels between boxes (same tick per boxes pair)\n",
      "ax11.set_xticks(np.linspace(.5, 33.5, 12))  # float range\n",
      "ax11.set_xlim((-1, 12*3))\n",
      "ax11.set_xticklabels(['{:%B}'.format(el) for el in chambery_month.index])\n",
      "\n",
      "# Draw temporary lines and use them to create a legend\n",
      "h1, = ax11.plot([1,1], '#268bd2')\n",
      "h2, = ax11.plot([1,1], '#586e75')\n",
      "ax11.legend((h1, h2),('T1', 'T5'), prop=font_title)\n",
      "h1.set_visible(False)\n",
      "h2.set_visible(False)\n",
      "\n",
      "fig.autofmt_xdate(0.1)"
     ],
     "language": "python",
     "metadata": {},
     "outputs": [],
     "prompt_number": 234
    },
    {
     "cell_type": "heading",
     "level": 3,
     "metadata": {},
     "source": [
      "Rayonnement diffus et direct"
     ]
    },
    {
     "cell_type": "code",
     "collapsed": false,
     "input": [
      "# Prepare figure and adjust it\n",
      "fig = plt.figure(figsize=(20, 10), facecolor=(0.84, 0.89, 0.9))\n",
      "ax11 = fig.add_subplot(1, 1, 1)\n",
      "fig.subplots_adjust(top=0.85,bottom=0.05,left=0.05,right=0.95)\n",
      "fig.canvas.manager.set_window_title(\"\")\n",
      "text = \"Evolution mensuel de la variation du rayonnement\\n\" + \\\n",
      "       \" diffus (Hdif) et direct(Hdir)\"\n",
      "plt.figtext(0.5, 0.9, text,\n",
      "            ha='center', fontdict=font_mainTitle)\n",
      "\n",
      "# Iterate to T1_T5 to get a specific column of values\n",
      "\n",
      "# Draw hdif boxes\n",
      "hdif = ax11.boxplot([el['HDifHor'] for el in Hdif_Hdir],\n",
      "                  positions=[el for el in range(0, 12*3, 3)], widths = 0.6)\n",
      "set_box_colors(hdif, colors=('#268bd2', '#002b36', '#268bd2', '#268bd2', '#dc322f'))\n",
      "\n",
      "# Draw hdir boxes\n",
      "hdir = ax11.boxplot([el['HDirNor'] for el in Hdif_Hdir],\n",
      "                  positions=[el for el in range(1, 12*3, 3)], widths = 0.6)\n",
      "set_box_colors(hdir, colors=('#586e75', '#002b36', '#586e75', '#586e75', '#dc322f'))\n",
      "\n",
      "# Change xticks values to put xtickslabels between boxes (same tick per boxes pair)\n",
      "ax11.set_xticks(np.linspace(.5, 33.5, 12))  # float range\n",
      "ax11.set_xlim((-1, 12*3))\n",
      "ax11.set_ylim((-10, 1000))\n",
      "ax11.set_xticklabels(['{:%B}'.format(el) for el in chambery_month.index])\n",
      "\n",
      "# Draw temporary lines and use them to create a legend\n",
      "h1, = ax11.plot([1,1], '#268bd2')\n",
      "h2, = ax11.plot([1,1], '#586e75')\n",
      "ax11.legend((h1, h2),('Hdif', 'Hdir'), prop=font_title)\n",
      "h1.set_visible(False)\n",
      "h2.set_visible(False)\n",
      "\n",
      "fig.autofmt_xdate(0.1)"
     ],
     "language": "python",
     "metadata": {},
     "outputs": [
      {
       "ename": "AttributeError",
       "evalue": "'Line2D' object has no attribute 'set_facecolor'",
       "output_type": "pyerr",
       "traceback": [
        "\u001b[1;31m---------------------------------------------------------------------------\u001b[0m\n\u001b[1;31mAttributeError\u001b[0m                            Traceback (most recent call last)",
        "\u001b[1;32m<ipython-input-259-0697fefa5cb2>\u001b[0m in \u001b[0;36m<module>\u001b[1;34m()\u001b[0m\n\u001b[0;32m     13\u001b[0m hdif = ax11.boxplot([el['HDifHor'] for el in Hdif_Hdir],\n\u001b[0;32m     14\u001b[0m                   positions=[el for el in range(0, 12*3, 3)], widths = 0.6)\n\u001b[1;32m---> 15\u001b[1;33m \u001b[0mset_box_colors\u001b[0m\u001b[1;33m(\u001b[0m\u001b[0mhdif\u001b[0m\u001b[1;33m,\u001b[0m \u001b[0mcolors\u001b[0m\u001b[1;33m=\u001b[0m\u001b[1;33m(\u001b[0m\u001b[1;34m'#268bd2'\u001b[0m\u001b[1;33m,\u001b[0m \u001b[1;34m'#002b36'\u001b[0m\u001b[1;33m,\u001b[0m \u001b[1;34m'#268bd2'\u001b[0m\u001b[1;33m,\u001b[0m \u001b[1;34m'#268bd2'\u001b[0m\u001b[1;33m,\u001b[0m \u001b[1;34m'#dc322f'\u001b[0m\u001b[1;33m)\u001b[0m\u001b[1;33m)\u001b[0m\u001b[1;33m\u001b[0m\u001b[0m\n\u001b[0m\u001b[0;32m     16\u001b[0m \u001b[1;33m\u001b[0m\u001b[0m\n\u001b[0;32m     17\u001b[0m \u001b[1;31m# Draw hdir boxes\u001b[0m\u001b[1;33m\u001b[0m\u001b[1;33m\u001b[0m\u001b[0m\n",
        "\u001b[1;32m<ipython-input-258-7cc2757a47b8>\u001b[0m in \u001b[0;36mset_box_colors\u001b[1;34m(bp, colors, linewidth, facecolor)\u001b[0m\n\u001b[0;32m      6\u001b[0m     \"\"\"\n\u001b[0;32m      7\u001b[0m     plt.setp(bp['boxes'], color=colors[0], linewidth=linewidth[0],\n\u001b[1;32m----> 8\u001b[1;33m              facecolor=facecolor)  # boxes \n\u001b[0m\u001b[0;32m      9\u001b[0m     \u001b[0mplt\u001b[0m\u001b[1;33m.\u001b[0m\u001b[0msetp\u001b[0m\u001b[1;33m(\u001b[0m\u001b[0mbp\u001b[0m\u001b[1;33m[\u001b[0m\u001b[1;34m'caps'\u001b[0m\u001b[1;33m]\u001b[0m\u001b[1;33m,\u001b[0m \u001b[0mcolor\u001b[0m\u001b[1;33m=\u001b[0m\u001b[0mcolors\u001b[0m\u001b[1;33m[\u001b[0m\u001b[1;36m1\u001b[0m\u001b[1;33m]\u001b[0m\u001b[1;33m,\u001b[0m \u001b[0mlinewidth\u001b[0m\u001b[1;33m=\u001b[0m\u001b[0mlinewidth\u001b[0m\u001b[1;33m[\u001b[0m\u001b[1;36m1\u001b[0m\u001b[1;33m]\u001b[0m\u001b[1;33m)\u001b[0m  \u001b[1;31m# limits\u001b[0m\u001b[1;33m\u001b[0m\u001b[0m\n\u001b[0;32m     10\u001b[0m     \u001b[0mplt\u001b[0m\u001b[1;33m.\u001b[0m\u001b[0msetp\u001b[0m\u001b[1;33m(\u001b[0m\u001b[0mbp\u001b[0m\u001b[1;33m[\u001b[0m\u001b[1;34m'whiskers'\u001b[0m\u001b[1;33m]\u001b[0m\u001b[1;33m,\u001b[0m \u001b[0mcolor\u001b[0m\u001b[1;33m=\u001b[0m\u001b[0mcolors\u001b[0m\u001b[1;33m[\u001b[0m\u001b[1;36m2\u001b[0m\u001b[1;33m]\u001b[0m\u001b[1;33m,\u001b[0m \u001b[0mlinewidth\u001b[0m\u001b[1;33m=\u001b[0m\u001b[0mlinewidth\u001b[0m\u001b[1;33m[\u001b[0m\u001b[1;36m2\u001b[0m\u001b[1;33m]\u001b[0m\u001b[1;33m)\u001b[0m  \u001b[1;31m# points\u001b[0m\u001b[1;33m\u001b[0m\u001b[0m\n",
        "\u001b[1;32mC:\\Users\\bois\\Anaconda\\envs\\py33\\lib\\site-packages\\matplotlib\\pyplot.py\u001b[0m in \u001b[0;36msetp\u001b[1;34m(*args, **kwargs)\u001b[0m\n\u001b[0;32m    246\u001b[0m \u001b[1;33m@\u001b[0m\u001b[0mdocstring\u001b[0m\u001b[1;33m.\u001b[0m\u001b[0mcopy\u001b[0m\u001b[1;33m(\u001b[0m\u001b[0m_setp\u001b[0m\u001b[1;33m)\u001b[0m\u001b[1;33m\u001b[0m\u001b[0m\n\u001b[0;32m    247\u001b[0m \u001b[1;32mdef\u001b[0m \u001b[0msetp\u001b[0m\u001b[1;33m(\u001b[0m\u001b[1;33m*\u001b[0m\u001b[0margs\u001b[0m\u001b[1;33m,\u001b[0m \u001b[1;33m**\u001b[0m\u001b[0mkwargs\u001b[0m\u001b[1;33m)\u001b[0m\u001b[1;33m:\u001b[0m\u001b[1;33m\u001b[0m\u001b[0m\n\u001b[1;32m--> 248\u001b[1;33m     \u001b[0mret\u001b[0m \u001b[1;33m=\u001b[0m \u001b[0m_setp\u001b[0m\u001b[1;33m(\u001b[0m\u001b[1;33m*\u001b[0m\u001b[0margs\u001b[0m\u001b[1;33m,\u001b[0m \u001b[1;33m**\u001b[0m\u001b[0mkwargs\u001b[0m\u001b[1;33m)\u001b[0m\u001b[1;33m\u001b[0m\u001b[0m\n\u001b[0m\u001b[0;32m    249\u001b[0m     \u001b[0mdraw_if_interactive\u001b[0m\u001b[1;33m(\u001b[0m\u001b[1;33m)\u001b[0m\u001b[1;33m\u001b[0m\u001b[0m\n\u001b[0;32m    250\u001b[0m     \u001b[1;32mreturn\u001b[0m \u001b[0mret\u001b[0m\u001b[1;33m\u001b[0m\u001b[0m\n",
        "\u001b[1;32mC:\\Users\\bois\\Anaconda\\envs\\py33\\lib\\site-packages\\matplotlib\\artist.py\u001b[0m in \u001b[0;36msetp\u001b[1;34m(obj, *args, **kwargs)\u001b[0m\n\u001b[0;32m   1298\u001b[0m             \u001b[0ms\u001b[0m \u001b[1;33m=\u001b[0m \u001b[0ms\u001b[0m\u001b[1;33m.\u001b[0m\u001b[0mlower\u001b[0m\u001b[1;33m(\u001b[0m\u001b[1;33m)\u001b[0m\u001b[1;33m\u001b[0m\u001b[0m\n\u001b[0;32m   1299\u001b[0m             \u001b[0mfuncName\u001b[0m \u001b[1;33m=\u001b[0m \u001b[1;34m\"set_%s\"\u001b[0m \u001b[1;33m%\u001b[0m \u001b[0ms\u001b[0m\u001b[1;33m\u001b[0m\u001b[0m\n\u001b[1;32m-> 1300\u001b[1;33m             \u001b[0mfunc\u001b[0m \u001b[1;33m=\u001b[0m \u001b[0mgetattr\u001b[0m\u001b[1;33m(\u001b[0m\u001b[0mo\u001b[0m\u001b[1;33m,\u001b[0m \u001b[0mfuncName\u001b[0m\u001b[1;33m)\u001b[0m\u001b[1;33m\u001b[0m\u001b[0m\n\u001b[0m\u001b[0;32m   1301\u001b[0m             \u001b[0mret\u001b[0m\u001b[1;33m.\u001b[0m\u001b[0mextend\u001b[0m\u001b[1;33m(\u001b[0m\u001b[1;33m[\u001b[0m\u001b[0mfunc\u001b[0m\u001b[1;33m(\u001b[0m\u001b[0mval\u001b[0m\u001b[1;33m)\u001b[0m\u001b[1;33m]\u001b[0m\u001b[1;33m)\u001b[0m\u001b[1;33m\u001b[0m\u001b[0m\n\u001b[0;32m   1302\u001b[0m     \u001b[1;32mreturn\u001b[0m \u001b[1;33m[\u001b[0m\u001b[0mx\u001b[0m \u001b[1;32mfor\u001b[0m \u001b[0mx\u001b[0m \u001b[1;32min\u001b[0m \u001b[0mcbook\u001b[0m\u001b[1;33m.\u001b[0m\u001b[0mflatten\u001b[0m\u001b[1;33m(\u001b[0m\u001b[0mret\u001b[0m\u001b[1;33m)\u001b[0m\u001b[1;33m]\u001b[0m\u001b[1;33m\u001b[0m\u001b[0m\n",
        "\u001b[1;31mAttributeError\u001b[0m: 'Line2D' object has no attribute 'set_facecolor'"
       ]
      }
     ],
     "prompt_number": 259
    },
    {
     "cell_type": "heading",
     "level": 2,
     "metadata": {},
     "source": [
      "Pie chart"
     ]
    },
    {
     "cell_type": "code",
     "collapsed": false,
     "input": [
      "energy_final = chambery.ix[:, \"Collector_Energy\":\"DrawingUp_Energy\"]\n",
      "energy_final[\"Taux de couverture\"] = (energy_final[\"Collector_Energy\"] /\n",
      "                                    (energy_final[\"DrawingUp_Energy\"] +\n",
      "                                     energy_final[\"Radiator_Energy\"]))\n",
      "energy_final[\"Apports\"] = (energy_final[\"Collector_Energy\"] + \n",
      "                                 energy_final[\"Boiler_Energy\"])\n",
      "energy_final[\"Besoins\"] = (energy_final[\"DrawingUp_Energy\"] + \n",
      "                                 energy_final[\"Radiator_Energy\"])\n",
      "energy_final[\"Pertes\"] = energy_final[\"Apports\"]- energy_final[\"Besoins\"]\n",
      "energy_final[-1:]"
     ],
     "language": "python",
     "metadata": {},
     "outputs": [
      {
       "html": [
        "<div style=\"max-height:1000px;max-width:1500px;overflow:auto;\">\n",
        "<table border=\"1\" class=\"dataframe\">\n",
        "  <thead>\n",
        "    <tr style=\"text-align: right;\">\n",
        "      <th></th>\n",
        "      <th>Collector_Energy</th>\n",
        "      <th>Boiler_Energy</th>\n",
        "      <th>Radiator_Energy</th>\n",
        "      <th>DrawingUp_Energy</th>\n",
        "      <th>Taux de couverture</th>\n",
        "      <th>Apports</th>\n",
        "      <th>Besoins</th>\n",
        "      <th>Pertes</th>\n",
        "    </tr>\n",
        "  </thead>\n",
        "  <tbody>\n",
        "    <tr>\n",
        "      <th>2015-01-03 08:00:00</th>\n",
        "      <td> 3759.81</td>\n",
        "      <td> 11007.551667</td>\n",
        "      <td> 9845.694167</td>\n",
        "      <td> 2059.875</td>\n",
        "      <td> 0.315803</td>\n",
        "      <td> 14767.361667</td>\n",
        "      <td> 11905.569167</td>\n",
        "      <td> 2861.7925</td>\n",
        "    </tr>\n",
        "  </tbody>\n",
        "</table>\n",
        "<p>1 rows \u00d7 8 columns</p>\n",
        "</div>"
       ],
       "metadata": {},
       "output_type": "pyout",
       "prompt_number": 176,
       "text": [
        "                     Collector_Energy  Boiler_Energy  Radiator_Energy  \\\n",
        "2015-01-03 08:00:00           3759.81   11007.551667      9845.694167   \n",
        "\n",
        "                     DrawingUp_Energy  Taux de couverture       Apports  \\\n",
        "2015-01-03 08:00:00          2059.875            0.315803  14767.361667   \n",
        "\n",
        "                          Besoins     Pertes  \n",
        "2015-01-03 08:00:00  11905.569167  2861.7925  \n",
        "\n",
        "[1 rows x 8 columns]"
       ]
      }
     ],
     "prompt_number": 176
    },
    {
     "cell_type": "code",
     "collapsed": false,
     "input": [
      "# Pie charts values must be inside the same datframe column\n",
      "charts = (energy_final[['Pertes', 'Radiator_Energy', 'DrawingUp_Energy']][-1:]).T\n",
      "charts"
     ],
     "language": "python",
     "metadata": {},
     "outputs": [
      {
       "html": [
        "<div style=\"max-height:1000px;max-width:1500px;overflow:auto;\">\n",
        "<table border=\"1\" class=\"dataframe\">\n",
        "  <thead>\n",
        "    <tr style=\"text-align: right;\">\n",
        "      <th></th>\n",
        "      <th>2015-01-03 08:00:00</th>\n",
        "    </tr>\n",
        "  </thead>\n",
        "  <tbody>\n",
        "    <tr>\n",
        "      <th>Pertes</th>\n",
        "      <td> 2861.792500</td>\n",
        "    </tr>\n",
        "    <tr>\n",
        "      <th>Radiator_Energy</th>\n",
        "      <td> 9845.694167</td>\n",
        "    </tr>\n",
        "    <tr>\n",
        "      <th>DrawingUp_Energy</th>\n",
        "      <td> 2059.875000</td>\n",
        "    </tr>\n",
        "  </tbody>\n",
        "</table>\n",
        "<p>3 rows \u00d7 1 columns</p>\n",
        "</div>"
       ],
       "metadata": {},
       "output_type": "pyout",
       "prompt_number": 178,
       "text": [
        "                  2015-01-03 08:00:00\n",
        "Pertes                    2861.792500\n",
        "Radiator_Energy           9845.694167\n",
        "DrawingUp_Energy          2059.875000\n",
        "\n",
        "[3 rows x 1 columns]"
       ]
      }
     ],
     "prompt_number": 178
    },
    {
     "cell_type": "code",
     "collapsed": false,
     "input": [
      "solar_frac = pd.DataFrame(energy_final[[\"Collector_Energy\", 'Boiler_Energy']][-1:]).T\n",
      "solar_frac"
     ],
     "language": "python",
     "metadata": {},
     "outputs": [
      {
       "html": [
        "<div style=\"max-height:1000px;max-width:1500px;overflow:auto;\">\n",
        "<table border=\"1\" class=\"dataframe\">\n",
        "  <thead>\n",
        "    <tr style=\"text-align: right;\">\n",
        "      <th></th>\n",
        "      <th>2015-01-03 08:00:00</th>\n",
        "    </tr>\n",
        "  </thead>\n",
        "  <tbody>\n",
        "    <tr>\n",
        "      <th>Collector_Energy</th>\n",
        "      <td>  3759.810000</td>\n",
        "    </tr>\n",
        "    <tr>\n",
        "      <th>Boiler_Energy</th>\n",
        "      <td> 11007.551667</td>\n",
        "    </tr>\n",
        "  </tbody>\n",
        "</table>\n",
        "<p>2 rows \u00d7 1 columns</p>\n",
        "</div>"
       ],
       "metadata": {},
       "output_type": "pyout",
       "prompt_number": 179,
       "text": [
        "                  2015-01-03 08:00:00\n",
        "Collector_Energy          3759.810000\n",
        "Boiler_Energy            11007.551667\n",
        "\n",
        "[2 rows x 1 columns]"
       ]
      }
     ],
     "prompt_number": 179
    },
    {
     "cell_type": "heading",
     "level": 3,
     "metadata": {},
     "source": [
      "Collector, boiler and heating, drawing up, losses"
     ]
    },
    {
     "cell_type": "code",
     "collapsed": false,
     "input": [
      "explode = (0.1, 0, 0)  # only \"explode\" the 1st slice (i.e. 'Collector_Energy')\n",
      "# Colors    green      blue      orange      black     magenta\n",
      "colors = ['#859900', '#268bd2', '#cb4b16', '#073642', '#d33682']\n",
      "colors1 = ['#859900', '#268bd2', '#cb4b16']  \n",
      "colors2 = ['#859900', '#268bd2']\n",
      "labels = ['Solaire', 'Chaudi\u00e8re', 'Pertes', 'Chauffage', 'ECS']\n",
      "\n",
      "# Prepare figure and adjust it\n",
      "fig = plt.figure(figsize=(20, 10), facecolor=(0.84, 0.89, 0.9))\n",
      "fig.subplots_adjust(top=0.85,bottom=0.05,left=0.05,right=0.95)\n",
      "fig.canvas.manager.set_window_title(\"\")\n",
      "text = \"Taux de couverture solaire de \" + \\\n",
      "       \"{:.2%}\".format(energy_final['Taux de couverture'][-1:].values[0])\n",
      "plt.figtext(0.5, 0.9, text,\n",
      "            ha='center', fontdict=font_mainTitle)\n",
      "fig.subplots_adjust(top=0.8,bottom=0.05,left=0.05, right=0.95, wspace=0.2)\n",
      "\n",
      "ax11 = fig.add_subplot(1, 2, 1)\n",
      "ax21 = fig.add_subplot(1, 2, 2)\n",
      "# Change title parameters\n",
      "ax11.set_title(label=\"Consommations\",\n",
      "               fontdict=font_title)\n",
      "ax21.set_title(label=\"R\u00e9partition des consommations\",\n",
      "               fontdict=font_title)\n",
      "\n",
      "ax11.pie(solar_frac,\n",
      "         explode=explode[:2], colors=colors2,\n",
      "         labels=labels[:2],\n",
      "         autopct='%1.1f%%', shadow=True, startangle=90)\n",
      "ax21.pie(charts,\n",
      "         explode=explode, colors=colors1,\n",
      "         labels=labels[2:],\n",
      "         autopct='%1.1f%%', shadow=True, startangle=90)\n",
      "\n",
      "# Set aspect ratio to be equal so that pie is drawn as a circle.\n",
      "# plt.axis('equal')"
     ],
     "language": "python",
     "metadata": {},
     "outputs": [
      {
       "metadata": {},
       "output_type": "pyout",
       "prompt_number": 252,
       "text": [
        "([<matplotlib.patches.Wedge at 0xf3790f0>,\n",
        "  <matplotlib.patches.Wedge at 0xf37f8d0>,\n",
        "  <matplotlib.patches.Wedge at 0xf38b0f0>],\n",
        " [<matplotlib.text.Text at 0xf379da0>,\n",
        "  <matplotlib.text.Text at 0xf3865c0>,\n",
        "  <matplotlib.text.Text at 0xf38bda0>],\n",
        " [<matplotlib.text.Text at 0xf37f390>,\n",
        "  <matplotlib.text.Text at 0xf386b70>,\n",
        "  <matplotlib.text.Text at 0xf38f390>])"
       ]
      }
     ],
     "prompt_number": 252
    },
    {
     "cell_type": "heading",
     "level": 2,
     "metadata": {},
     "source": [
      "Testing"
     ]
    },
    {
     "cell_type": "code",
     "collapsed": false,
     "input": [
      "# Group data per month and check index values\n",
      "for el in data_iterator(struct=chambery.index,\n",
      "                             steps=[el*48 for el in (31, 28, 31, 30, 31, 30, 31, 31, 30, 31, 30, 31)],\n",
      "                             interval=12):\n",
      "    print(len(el), \"\\t\", \"month day :\", len(el)//(24*2), \"\\t\", el[0], \"\\t\", el[-1])\n",
      "print(\"\\nLast index value are : \", chambery.index[-1])"
     ],
     "language": "python",
     "metadata": {},
     "outputs": [
      {
       "output_type": "stream",
       "stream": "stdout",
       "text": [
        "1488 \t month day : 31 \t 2014-01-01 00:00:00 \t 2014-01-31 23:30:00\n",
        "1344 \t month day : 28 \t 2014-02-01 00:00:00 \t 2014-02-28 23:30:00\n",
        "1488 \t month day : 31 \t 2014-03-01 00:00:00 \t 2014-03-31 23:30:00\n",
        "1440 \t month day : 30 \t 2014-04-01 00:00:00 \t 2014-04-30 23:30:00\n",
        "1488 \t month day : 31 \t 2014-05-01 00:00:00 \t 2014-05-31 23:30:00\n",
        "1440 \t month day : 30 \t 2014-06-01 00:00:00 \t 2014-06-30 23:30:00\n",
        "1488 \t month day : 31 \t 2014-07-01 00:00:00 \t 2014-07-31 23:30:00\n",
        "1488 \t month day : 31 \t 2014-08-01 00:00:00 \t 2014-08-31 23:30:00\n",
        "1440 \t month day : 30 \t 2014-09-01 00:00:00 \t 2014-09-30 23:30:00\n",
        "1488 \t month day : 31 \t 2014-10-01 00:00:00 \t 2014-10-31 23:30:00\n",
        "1440 \t month day : 30 \t 2014-11-01 00:00:00 \t 2014-11-30 23:30:00\n",
        "17 \t month day : 0 \t 2014-12-01 00:00:00 \t 2014-12-01 08:00:00\n",
        "\n",
        "Last index value are :  2014-12-01 08:00:00\n"
       ]
      }
     ],
     "prompt_number": 23
    },
    {
     "cell_type": "code",
     "collapsed": false,
     "input": [
      "# Testing float range\n",
      "np.linspace(1.5, 34.5, 12)"
     ],
     "language": "python",
     "metadata": {},
     "outputs": [
      {
       "metadata": {},
       "output_type": "pyout",
       "prompt_number": 24,
       "text": [
        "array([  1.5,   4.5,   7.5,  10.5,  13.5,  16.5,  19.5,  22.5,  25.5,\n",
        "        28.5,  31.5,  34.5])"
       ]
      }
     ],
     "prompt_number": 24
    },
    {
     "cell_type": "code",
     "collapsed": false,
     "input": [
      "# Get all colormaps\n",
      "maps=[m for m in matplotlib.colorbar.cm.datad if not m.endswith(\"_r\")]\n",
      "maps.sort()\n",
      "for i, m in enumerate(maps):\n",
      "    print(i, m)"
     ],
     "language": "python",
     "metadata": {},
     "outputs": [
      {
       "output_type": "stream",
       "stream": "stdout",
       "text": [
        "0 Accent\n",
        "1 Blues\n",
        "2 BrBG\n",
        "3 BuGn\n",
        "4 BuPu\n",
        "5 CMRmap\n",
        "6 Dark2\n",
        "7 GnBu\n",
        "8 Greens\n",
        "9 Greys\n",
        "10 OrRd\n",
        "11 Oranges\n",
        "12 PRGn\n",
        "13 Paired\n",
        "14 Pastel1\n",
        "15 Pastel2\n",
        "16 PiYG\n",
        "17 PuBu\n",
        "18 PuBuGn\n",
        "19 PuOr\n",
        "20 PuRd\n",
        "21 Purples\n",
        "22 RdBu\n",
        "23 RdGy\n",
        "24 RdPu\n",
        "25 RdYlBu\n",
        "26 RdYlGn\n",
        "27 Reds\n",
        "28 Set1\n",
        "29 Set2\n",
        "30 Set3\n",
        "31 Spectral\n",
        "32 YlGn\n",
        "33 YlGnBu\n",
        "34 YlOrBr\n",
        "35 YlOrRd\n",
        "36 afmhot\n",
        "37 autumn\n",
        "38 binary\n",
        "39 bone\n",
        "40 brg\n",
        "41 bwr\n",
        "42 cool\n",
        "43 coolwarm\n",
        "44 copper\n",
        "45 cubehelix\n",
        "46 flag\n",
        "47 gist_earth\n",
        "48 gist_gray\n",
        "49 gist_heat\n",
        "50 gist_ncar\n",
        "51 gist_rainbow\n",
        "52 gist_stern\n",
        "53 gist_yarg\n",
        "54 gnuplot\n",
        "55 gnuplot2\n",
        "56 gray\n",
        "57 hot\n",
        "58 hsv\n",
        "59 jet\n",
        "60 nipy_spectral\n",
        "61 ocean\n",
        "62 pink\n",
        "63 prism\n",
        "64 rainbow\n",
        "65 seismic\n",
        "66 spectral\n",
        "67 spring\n",
        "68 summer\n",
        "69 terrain\n",
        "70 winter\n"
       ]
      }
     ],
     "prompt_number": 25
    },
    {
     "cell_type": "code",
     "collapsed": false,
     "input": [
      "energy_final[['Collector_Energy', 'Boiler_Energy',\n",
      "                       'DrawingUp_Energy', 'Radiator_Energy', 'Pertes']][-1:]"
     ],
     "language": "python",
     "metadata": {},
     "outputs": [
      {
       "html": [
        "<div style=\"max-height:1000px;max-width:1500px;overflow:auto;\">\n",
        "<table border=\"1\" class=\"dataframe\">\n",
        "  <thead>\n",
        "    <tr style=\"text-align: right;\">\n",
        "      <th></th>\n",
        "      <th>Collector_Energy</th>\n",
        "      <th>Boiler_Energy</th>\n",
        "      <th>DrawingUp_Energy</th>\n",
        "      <th>Radiator_Energy</th>\n",
        "      <th>Pertes</th>\n",
        "    </tr>\n",
        "  </thead>\n",
        "  <tbody>\n",
        "    <tr>\n",
        "      <th>2015-01-03 08:00:00</th>\n",
        "      <td> 3759.81</td>\n",
        "      <td> 11007.551667</td>\n",
        "      <td> 2059.875</td>\n",
        "      <td> 9845.694167</td>\n",
        "      <td> 2861.7925</td>\n",
        "    </tr>\n",
        "  </tbody>\n",
        "</table>\n",
        "<p>1 rows \u00d7 5 columns</p>\n",
        "</div>"
       ],
       "metadata": {},
       "output_type": "pyout",
       "prompt_number": 106,
       "text": [
        "                     Collector_Energy  Boiler_Energy  DrawingUp_Energy  \\\n",
        "2015-01-03 08:00:00           3759.81   11007.551667          2059.875   \n",
        "\n",
        "                     Radiator_Energy     Pertes  \n",
        "2015-01-03 08:00:00      9845.694167  2861.7925  \n",
        "\n",
        "[1 rows x 5 columns]"
       ]
      }
     ],
     "prompt_number": 106
    },
    {
     "cell_type": "code",
     "collapsed": false,
     "input": [
      "len(explode[:2]) == len(colors2) == len((1, 2))"
     ],
     "language": "python",
     "metadata": {},
     "outputs": [
      {
       "metadata": {},
       "output_type": "pyout",
       "prompt_number": 128,
       "text": [
        "True"
       ]
      }
     ],
     "prompt_number": 128
    },
    {
     "cell_type": "code",
     "collapsed": false,
     "input": [
      "explode[:2]"
     ],
     "language": "python",
     "metadata": {},
     "outputs": [
      {
       "metadata": {},
       "output_type": "pyout",
       "prompt_number": 130,
       "text": [
        "(0.1, 0)"
       ]
      }
     ],
     "prompt_number": 130
    },
    {
     "cell_type": "code",
     "collapsed": false,
     "input": [],
     "language": "python",
     "metadata": {},
     "outputs": []
    }
   ],
   "metadata": {}
  }
 ]
}