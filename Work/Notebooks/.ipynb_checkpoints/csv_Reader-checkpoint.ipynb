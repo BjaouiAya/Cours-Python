{
 "metadata": {
  "name": "",
  "signature": "sha256:76c1f6b980157fc537c9014d23ad70a589295e2e002e51e42b3812d4e6f8a2d1"
 },
 "nbformat": 3,
 "nbformat_minor": 0,
 "worksheets": [
  {
   "cells": [
    {
     "cell_type": "heading",
     "level": 1,
     "metadata": {},
     "source": [
      "Reader"
     ]
    },
    {
     "cell_type": "code",
     "collapsed": false,
     "input": [
      "import pandas as pd\n",
      "import datetime\n",
      "import matplotlib\n",
      "\n",
      "from matplotlib.patches import Ellipse  # Used to draw shapes inside plots"
     ],
     "language": "python",
     "metadata": {},
     "outputs": [],
     "prompt_number": 91
    },
    {
     "cell_type": "code",
     "collapsed": false,
     "input": [
      "import matplotlib.pyplot as plt\n",
      "%matplotlib qt"
     ],
     "language": "python",
     "metadata": {},
     "outputs": [],
     "prompt_number": 92
    },
    {
     "cell_type": "code",
     "collapsed": false,
     "input": [
      "# This parser convert to a real datetime format\n",
      "def convert_to_datetime(step, start=datetime.datetime(2014, 1, 1)):\n",
      "    \"\"\"\n",
      "      This parser convert to a real datetime format\n",
      "    \"\"\"\n",
      "    for el in step:\n",
      "        yield start + datetime.timedelta(seconds=int(el))"
     ],
     "language": "python",
     "metadata": {},
     "outputs": [],
     "prompt_number": 93
    },
    {
     "cell_type": "code",
     "collapsed": false,
     "input": [
      "# Change font properties\n",
      "font_base = {'family' : 'Time',\n",
      "        'size'   : 15}\n",
      "# Changing graphs' title parameters\n",
      "font_title = {'family' : 'Time',\n",
      "              'size'   : 20}\n",
      "\n",
      "# Change default label settings\n",
      "matplotlib.rc('font', **font_base)  # Overwrite default fonts parameters\n",
      "matplotlib.rc('xtick', labelsize=20) \n",
      "matplotlib.rc('ytick', labelsize=20) "
     ],
     "language": "python",
     "metadata": {},
     "outputs": [],
     "prompt_number": 166
    },
    {
     "cell_type": "heading",
     "level": 2,
     "metadata": {},
     "source": [
      "Olivier House"
     ]
    },
    {
     "cell_type": "code",
     "collapsed": false,
     "input": [
      "# Here select folder\n",
      "%cd \"C:\\Users\\bois\\Documents\\GitHub\\SolarSystem\\Outputs\\clean\""
     ],
     "language": "python",
     "metadata": {},
     "outputs": [
      {
       "output_type": "stream",
       "stream": "stdout",
       "text": [
        "C:\\Users\\bois\\Documents\\GitHub\\SolarSystem\\Outputs\\clean\n"
       ]
      }
     ],
     "prompt_number": 1
    },
    {
     "cell_type": "code",
     "collapsed": false,
     "input": [
      "# Here select file inside current folder\n",
      "clean_csv = \"olivier_house_read.csv\""
     ],
     "language": "python",
     "metadata": {},
     "outputs": [],
     "prompt_number": 237
    },
    {
     "cell_type": "code",
     "collapsed": false,
     "input": [
      "# Your Dataframe structure\n",
      "datas = pd.read_csv(clean_csv, skiprows=1, delimiter=\";\", index_col=\"Date\")\n",
      "# Convert to datetime index\n",
      "datas.index = [ind for ind in convert_to_datetime(datas.index)]\n",
      "type(datas.index)"
     ],
     "language": "python",
     "metadata": {},
     "outputs": [
      {
       "metadata": {},
       "output_type": "pyout",
       "prompt_number": 7,
       "text": [
        "pandas.tseries.index.DatetimeIndex"
       ]
      }
     ],
     "prompt_number": 7
    },
    {
     "cell_type": "code",
     "collapsed": false,
     "input": [
      "# Csv columns names\n",
      "for i, col in enumerate(datas.columns):\n",
      "    print(\"column {} \\t\\t{}\".format(i, col))"
     ],
     "language": "python",
     "metadata": {},
     "outputs": [
      {
       "output_type": "stream",
       "stream": "stdout",
       "text": [
        "column 0 \t\tT12_house\n",
        "column 1 \t\tT12_rad_house\n",
        "column 2 \t\tT9_mini\n",
        "column 3 \t\tT9_moy\n",
        "column 4 \t\tT9_ext\n",
        "column 5 \t\tFlow_Extraction\n",
        "column 6 \t\tHouse_Power\n",
        "column 7 \t\tHouse_Energy\n"
       ]
      }
     ],
     "prompt_number": 238
    },
    {
     "cell_type": "code",
     "collapsed": false,
     "input": [
      "# Data reduce to accurate rendering\n",
      "datas_mini = datas[:].resample('60min')          # Keep only one value per hour\n",
      "# datas[\"T9_ext\"][:5], datas_mini[\"T9_ext\"][:5]  # Activate to check data reduce"
     ],
     "language": "python",
     "metadata": {},
     "outputs": [],
     "prompt_number": 240
    },
    {
     "cell_type": "code",
     "collapsed": false,
     "input": [
      "# Here to choose what you want to print (one printer per graph)\n",
      "printer1 = ['House_Energy']\n",
      "printer2 = ['House_Power']\n",
      "printer3 = ['T12_house', 'T12_rad_house', 'T9_ext']\n",
      "\n",
      "# Dataframe of selected columns (one plotting per printer)\n",
      "plotting1 = datas_mini[printer1]\n",
      "plotting2 = datas_mini[printer2]\n",
      "plotting3 = datas_mini[printer3]"
     ],
     "language": "python",
     "metadata": {},
     "outputs": [],
     "prompt_number": 207
    },
    {
     "cell_type": "code",
     "collapsed": false,
     "input": [
      "# Multi plot anywhere\n",
      "fig = plt.figure(figsize=(30, 18), facecolor=(0.84, 0.89, 0.9))\n",
      "fig.canvas.manager.set_window_title(\"House Reader\") \n",
      "\n",
      "# Drawing graphs\n",
      "ax1 = fig.add_axes( [.02, 0.55, .52, .4] )  # First point (0, 0 at bottom left) and length\n",
      "ax2 = fig.add_axes( [.02, 0.05, .52, .4] )  \n",
      "ax3 = fig.add_axes( [0.6, 0.05, 0.38, 0.9] )\n",
      "\n",
      "# Change title parameters\n",
      "ax1.set_title(label=\"Evolution de l'\u00e9nergie au cours de l'ann\u00e9e\", fontdict=font)\n",
      "ax2.set_title(label=\"Evolution de la demande en chauffage au cours de l'ann\u00e9e\", fontdict=font)\n",
      "ax3.set_title(label=\"Evolution des temp\u00e9ratures au cours de l'ann\u00e9e\", fontdict=font)\n",
      "\n",
      "# Adding plots to graphs\n",
      "plotting1.plot(ax=ax3, color=\"#268bd2\", linewidth=5, linestyle=\"-\")\n",
      "plotting2.plot(ax=ax2, color='#268bd2', linewidth=2, linestyle=\"-\", )\n",
      "plotting3.plot(ax=ax1, color=('#dc322f', '#859900', '#268bd2'), linewidth=2, linestyle=\"-\", )\n",
      "\n",
      "# Adding value emphazing\n",
      "el = Ellipse((2, -1), 0.5, 0.5)\n",
      "ax3.add_patch(el)\n",
      "# Max\n",
      "ax3.annotate(\n",
      "            \"Energie consomm\u00e9e : {1:.0f} kWh \\n{0:%Y-%m-%d}\".format(datas_mini.idxmax(axis=0)[\"House_Energy\"], datas_mini.max(axis=0)[\"House_Energy\"]),\n",
      "            xy=(datas_mini.idxmax(axis=0)[\"House_Energy\"], datas_mini.max(axis=0)[\"House_Energy\"]),\n",
      "            xycoords='data', xytext=(-150, 50), textcoords='offset points',\n",
      "            size=15, va=\"center\", ha=\"center\",\n",
      "            bbox=dict(boxstyle=\"round\", fc=(0.84, 0.89, 0.9), ec=\"none\"),\n",
      "            arrowprops=dict(arrowstyle=\"wedge,tail_width=1.\",\n",
      "                            fc=(0.84, 0.89, 0.9), ec=\"none\",\n",
      "                            patchA=el,\n",
      "                            relpos=(0.2, 0.5),\n",
      "                            )\n",
      "            )\n",
      "# All solar use start\n",
      "ax3.annotate(\n",
      "            \"Energie consomm\u00e9e : {1:.0f} kWh \\n{0}\".format(\"2014-05-19\", datas_mini[\"House_Energy\"][\"2014-05-19 9:00:00\"]),\n",
      "            xy=(\"2014-05-19 9:00:00\", datas_mini[\"House_Energy\"][\"2014-05-19 9:00:00\"]),\n",
      "            xycoords='data', xytext=(-150, 50), textcoords='offset points',\n",
      "            size=15, va=\"center\", ha=\"center\",\n",
      "            bbox=dict(boxstyle=\"round\", fc=(0.84, 0.89, 0.9), ec=\"none\"),\n",
      "            arrowprops=dict(arrowstyle=\"wedge,tail_width=1.\",\n",
      "                            fc=(0.84, 0.89, 0.9), ec=\"none\",\n",
      "                            patchA=el,\n",
      "                            relpos=(0.2, 0.5),\n",
      "                            )\n",
      "            )\n",
      "# All solar use end\n",
      "ax3.annotate(\n",
      "            \"Energie consomm\u00e9e : {1:.0f} kWh \\n{0}\".format(\"2014-10-01\", datas_mini[\"House_Energy\"][\"2014-10-01 9:00:00\"]),\n",
      "            xy=(\"2014-10-01 9:00:00\", datas_mini[\"House_Energy\"][\"2014-10-01 9:00:00\"]),\n",
      "            xycoords='data', xytext=(-150, 50), textcoords='offset points',\n",
      "            size=15, va=\"center\", ha=\"center\",\n",
      "            bbox=dict(boxstyle=\"round\", fc=(0.84, 0.89, 0.9), ec=\"none\"),\n",
      "            arrowprops=dict(arrowstyle=\"wedge,tail_width=1.\",\n",
      "                            fc=(0.84, 0.89, 0.9), ec=\"none\",\n",
      "                            patchA=el,\n",
      "                            relpos=(0.2, 0.5),\n",
      "                            )\n",
      "            )  "
     ],
     "language": "python",
     "metadata": {},
     "outputs": [
      {
       "metadata": {},
       "output_type": "pyout",
       "prompt_number": 246,
       "text": [
        "<matplotlib.text.Annotation at 0x32785bd30>"
       ]
      }
     ],
     "prompt_number": 246
    },
    {
     "cell_type": "heading",
     "level": 2,
     "metadata": {},
     "source": [
      "Algo pump mass flow rate"
     ]
    },
    {
     "cell_type": "code",
     "collapsed": false,
     "input": [
      "# Here select folder\n",
      "%cd \"C:\\Users\\bois\\Documents\\GitHub\\SolarSystem\\Outputs\\Issues\\Algo_flow\""
     ],
     "language": "python",
     "metadata": {},
     "outputs": [
      {
       "output_type": "stream",
       "stream": "stdout",
       "text": [
        "C:\\Users\\bois\\Documents\\GitHub\\SolarSystem\\Outputs\\Issues\\Algo_flow\n"
       ]
      }
     ],
     "prompt_number": 5
    },
    {
     "cell_type": "code",
     "collapsed": false,
     "input": [
      "# Here select file inside current folder\n",
      "pump_algo_csv = \"algo_flow_mod_01_clean.csv\""
     ],
     "language": "python",
     "metadata": {},
     "outputs": [],
     "prompt_number": 6
    },
    {
     "cell_type": "code",
     "collapsed": false,
     "input": [
      "# Your Dataframe structure\n",
      "pump_algo = pd.read_csv(pump_algo_csv, skiprows=1, delimiter=\";\", index_col=\"Date\")\n",
      "# Convert to datetime index\n",
      "pump_algo.index = [ind for ind in convert_to_datetime(pump_algo.index)]\n",
      "type(pump_algo.index)"
     ],
     "language": "python",
     "metadata": {},
     "outputs": [
      {
       "metadata": {},
       "output_type": "pyout",
       "prompt_number": 7,
       "text": [
        "pandas.tseries.index.DatetimeIndex"
       ]
      }
     ],
     "prompt_number": 7
    },
    {
     "cell_type": "code",
     "collapsed": false,
     "input": [
      "# Csv columns names\n",
      "for i, col in enumerate(pump_algo.columns):\n",
      "    print(\"column {} \\t\\t{}\".format(i, col))"
     ],
     "language": "python",
     "metadata": {},
     "outputs": [
      {
       "output_type": "stream",
       "stream": "stdout",
       "text": [
        "column 0 \t\tFlow_Solar\n",
        "column 1 \t\tFlow_Heating\n",
        "column 2 \t\tFlow_S6_out\n",
        "column 3 \t\tFlow_S5_out\n",
        "column 4 \t\tFlow_S4_out\n",
        "column 5 \t\tFlow_S1_out\n",
        "column 6 \t\tFlow_S2_out\n",
        "column 7 \t\tFlow_S3_out\n",
        "column 8 \t\tFlow_S6_in\n",
        "column 9 \t\tFlow_S5_in\n",
        "column 10 \t\tFlow_S4_in\n",
        "column 11 \t\tFlow_S1_in\n",
        "column 12 \t\tFlow_S2_in\n",
        "column 13 \t\tFlow_S3_in\n",
        "column 14 \t\tVextra_state\n",
        "column 15 \t\tPump_nb_solar\n",
        "column 16 \t\tPump_nb_heating\n"
       ]
      }
     ],
     "prompt_number": 8
    },
    {
     "cell_type": "code",
     "collapsed": false,
     "input": [
      "# Data reduce to accurate rendering\n",
      "pump_algo = pump_algo[:].resample('10s')          # Keep only one value per hour\n",
      "# datas[\"T9_ext\"][:5], datas_mini[\"T9_ext\"][:5]  # Activate to check data reduce"
     ],
     "language": "python",
     "metadata": {},
     "outputs": [],
     "prompt_number": 9
    },
    {
     "cell_type": "code",
     "collapsed": false,
     "input": [
      "# Here to choose what you want to print (one printer per graph)\n",
      "printer1 = ['Flow_S6_out', 'Flow_S5_out', 'Flow_Solar', 'Flow_S6_in', 'Flow_S5_in', 'Pump_nb_solar']\n",
      "printer2 = ['Flow_S2_out', 'Flow_S4_out', 'Flow_S1_out', 'Flow_S2_in', 'Flow_S4_in', 'Flow_S1_in',\n",
      "            'Flow_Heating', 'Vextra_state', 'Pump_nb_heating' ]\n",
      "\n",
      "# Dataframe of selected columns (one plotting per printer)\n",
      "plotting1 = pump_algo[printer1]\n",
      "plotting2 = pump_algo[printer2]"
     ],
     "language": "python",
     "metadata": {},
     "outputs": [],
     "prompt_number": 105
    },
    {
     "cell_type": "code",
     "collapsed": false,
     "input": [
      "# Multi plot on a figure\n",
      "fig = plt.figure(figsize=(30, 18), facecolor=(0.84, 0.89, 0.9))\n",
      "fig.canvas.manager.set_window_title(\"Algo : pump mass flow rate\")"
     ],
     "language": "python",
     "metadata": {},
     "outputs": [],
     "prompt_number": 122
    },
    {
     "cell_type": "code",
     "collapsed": false,
     "input": [
      "# First plot\n",
      "\n",
      "#############################################################\n",
      "# Multi plot on a figure\n",
      "fig = plt.figure(figsize=(30, 18), facecolor=(0.84, 0.89, 0.9))\n",
      "fig.canvas.manager.set_window_title(\"Algo : pump mass flow rate\")\n",
      "#############################################################\n",
      "\n",
      "# Create Axes instance to plot in\n",
      "ax11 = fig.add_subplot(2, 1, 1)\n",
      "ax11.set_title(label=\"Evolution du d\u00e9bit des pompes solaires en fonction du nombre de pompe\", fontdict=font_title)\n",
      "\n",
      "# Primary y axis\n",
      "nb1 = plotting1.ix[:,:'Flow_S5_in'].plot(ax=ax11, colormap='jet',\n",
      "                     style={'Flow_S6_out': \"-\", 'Flow_S5_out': \"-\", 'Flow_Solar': \"--\",\n",
      "                            'Flow_S6_in': \"-\", 'Flow_S5_in': \"-\"},\n",
      "                     ylim=(0, 80), xlim=(10,100), linewidth=3)\n",
      "# Secondary y axis\n",
      "ax12 = ax11.twinx()  # Allow second \"y\" axis with different scale but with same \"x\" axis\n",
      "\n",
      "# Plot pump number on this new axis and add color match between them\n",
      "plotting1['Pump_nb_solar'].plot(ax=ax12, style=\"-\", linewidth=3, color='#859900', ylim=(0, 5), label=\"nb\")\n",
      "for ytics in ax12.get_yticklabels():\n",
      "    ytics.set_color(ax12.lines[0].get_color())\n",
      "\n",
      "# Change lines style for 'Flow_Solar'\n",
      "nb1.lines[2].set_linewidth(5)\n",
      "nb1.lines[2].set_color('#dc322f')\n",
      "\n",
      "# Update legend width multiple columns (need to update for each axes)\n",
      "ax11.legend(ncol=2, loc = 'upper left')\n",
      "ax12.legend(loc = 'upper right')"
     ],
     "language": "python",
     "metadata": {},
     "outputs": [
      {
       "metadata": {},
       "output_type": "pyout",
       "prompt_number": 179,
       "text": [
        "<matplotlib.legend.Legend at 0xcd070470>"
       ]
      }
     ],
     "prompt_number": 179
    },
    {
     "cell_type": "code",
     "collapsed": false,
     "input": [
      "# Second plot\n",
      "\n",
      "#############################################################\n",
      "# Multi plot on a figure\n",
      "fig = plt.figure(figsize=(30, 18), facecolor=(0.84, 0.89, 0.9))\n",
      "fig.canvas.manager.set_window_title(\"Algo : pump mass flow rate\")\n",
      "#############################################################\n",
      "\n",
      "# Create Axes instance to plot in\n",
      "ax21 = fig.add_subplot(2, 1, 2)\n",
      "ax21.set_title(label=\"Evolution du d\u00e9bit des pompes de chauffage en fonction du nombre de pompe\", fontdict=font_title)\n",
      "\n",
      "# Draw first plot and change style.\n",
      "nb2 = plotting2.ix[:,:'Vextra_state'].plot(ax=ax21, colormap='Set1',\n",
      "                     style={'Flow_Heating': \"--\", 'Flow_S4_out': \"-\", 'Flow_S1_out': \"-\", 'Flow_S2_out': \"-\",\n",
      "                            'Flow_S4_in': \"-\", 'Flow_S1_in': \"-\", 'Flow_S2_in': \"-\", 'Vextra_state': \"k:\",\n",
      "                            'Pump_nb_heating': \"-\"},\n",
      "                     ylim=(0, 130), linewidth=3)\n",
      "\n",
      "# Secondary y axis\n",
      "ax22 = ax21.twinx()  # Allow second \"y\" axis with different scale but with same \"x\" axis\n",
      "\n",
      "# Plot pump number on this new axis and add color match between them\n",
      "plotting2['Pump_nb_heating'].plot(ax=ax22, style=\"-\", linewidth=3, color='#859900', ylim=(0, 6), label=\"nb\")\n",
      "    \n",
      "# Change lines style for 'Flow_Solar'\n",
      "nb2.lines[7].set_linewidth(5)\n",
      "nb2.lines[2].set_color('#dc322f')\n",
      "\n",
      "# Update legend width multiple columns (need to update for each axes)\n",
      "ax21.legend(ncol=3, loc = 'upper left')\n",
      "ax22.legend(loc = 'upper right')"
     ],
     "language": "python",
     "metadata": {},
     "outputs": [
      {
       "metadata": {},
       "output_type": "pyout",
       "prompt_number": 159,
       "text": [
        "<matplotlib.legend.Legend at 0xbac0ccc0>"
       ]
      }
     ],
     "prompt_number": 159
    },
    {
     "cell_type": "heading",
     "level": 3,
     "metadata": {},
     "source": [
      "Testing"
     ]
    },
    {
     "cell_type": "code",
     "collapsed": false,
     "input": [
      "datas_mini.max(axis=0)"
     ],
     "language": "python",
     "metadata": {},
     "outputs": [
      {
       "metadata": {},
       "output_type": "pyout",
       "prompt_number": 314,
       "text": [
        "10629.75"
       ]
      }
     ],
     "prompt_number": 314
    },
    {
     "cell_type": "code",
     "collapsed": false,
     "input": [
      "datas_mini.idxmax(axis=0)[]"
     ],
     "language": "python",
     "metadata": {},
     "outputs": [
      {
       "metadata": {},
       "output_type": "pyout",
       "prompt_number": 309,
       "text": [
        "T12_house         2014-07-29 17:00:00\n",
        "T12_rad_house     2014-07-29 18:00:00\n",
        "T9_mini           2014-07-21 00:00:00\n",
        "T9_moy            2014-07-21 00:00:00\n",
        "T9_ext            2014-07-09 17:00:00\n",
        "Flow_Extraction   2014-01-01 00:00:00\n",
        "House_Power       2014-01-15 10:00:00\n",
        "House_Energy      2015-01-01 00:00:00\n",
        "dtype: datetime64[ns]"
       ]
      }
     ],
     "prompt_number": 309
    },
    {
     "cell_type": "code",
     "collapsed": false,
     "input": [
      "datas_mini[\"2014-10-29 9:00:00\":\"2014-05-19 9:00:00\"][\"House_Energy\"]"
     ],
     "language": "python",
     "metadata": {},
     "outputs": [
      {
       "metadata": {},
       "output_type": "pyout",
       "prompt_number": 20,
       "text": [
        "2014-05-19 09:00:00    6081.014\n",
        "Freq: 60T, Name: House_Energy, dtype: float64"
       ]
      }
     ],
     "prompt_number": 20
    },
    {
     "cell_type": "code",
     "collapsed": false,
     "input": [
      "datas_mini[\"House_Energy\"][\"2014-10-29 9:00:00\"]"
     ],
     "language": "python",
     "metadata": {},
     "outputs": [
      {
       "metadata": {},
       "output_type": "pyout",
       "prompt_number": 63,
       "text": [
        "6752.6620000000003"
       ]
      }
     ],
     "prompt_number": 63
    },
    {
     "cell_type": "code",
     "collapsed": false,
     "input": [
      "# Change line style and update legend with nb1 is a matplotlib.axes.AxesSubplot instance\n",
      "nb1.lines[1].set_linewidth(4)\n",
      "nb1.lines[1].set_linestyle('--')\n",
      "nb1.legend(ncol=2)"
     ],
     "language": "python",
     "metadata": {},
     "outputs": [],
     "prompt_number": 141
    },
    {
     "cell_type": "code",
     "collapsed": false,
     "input": [
      "# Create new colormap\n",
      "import numpy as np\n",
      "\n",
      "cdict = {'red': ((0.0, 0.0, 0.0),\n",
      "                 (0.5, 1.0, 0.7),\n",
      "                 (1.0, 1.0, 1.0)),\n",
      "         'green': ((0.0, 0.0, 0.0),\n",
      "                   (0.5, 1.0, 0.0),\n",
      "                   (1.0, 1.0, 1.0)),\n",
      "         'blue': ((0.0, 0.0, 0.0),\n",
      "                  (0.5, 1.0, 0.0),\n",
      "                  (1.0, 0.5, 1.0))}\n",
      "my_cmap = matplotlib.colors.LinearSegmentedColormap('my_colormap',cdict,256)\n",
      "plt.pcolor(np.random.rand(10,10),cmap=my_cmap)\n",
      "colorbar()"
     ],
     "language": "python",
     "metadata": {},
     "outputs": [
      {
       "metadata": {},
       "output_type": "pyout",
       "prompt_number": 180,
       "text": [
        "<matplotlib.colorbar.Colorbar at 0x696d1518>"
       ]
      }
     ],
     "prompt_number": 180
    },
    {
     "cell_type": "code",
     "collapsed": false,
     "input": [
      "# Filter by column and slicing\n",
      "# plotting1.ix[:,:'Flow_S5_in']"
     ],
     "language": "python",
     "metadata": {},
     "outputs": [],
     "prompt_number": 37
    },
    {
     "cell_type": "code",
     "collapsed": false,
     "input": [
      "# Recup axes colors\n",
      "a = ax1.lines\n",
      "for el in a:\n",
      "    el.get_linestyle"
     ],
     "language": "python",
     "metadata": {},
     "outputs": [
      {
       "output_type": "stream",
       "stream": "stdout",
       "text": [
        "Line2D(Flow_S6_out)\n",
        "Line2D(Flow_S5_out)\n",
        "Line2D(Flow_Solar)\n",
        "Line2D(Flow_S6_in)\n",
        "Line2D(Flow_S5_in)\n"
       ]
      }
     ],
     "prompt_number": 48
    },
    {
     "cell_type": "code",
     "collapsed": false,
     "input": [
      "ax12.lines[0].get_color()"
     ],
     "language": "python",
     "metadata": {},
     "outputs": [
      {
       "metadata": {},
       "output_type": "pyout",
       "prompt_number": 52,
       "text": [
        "'b'"
       ]
      }
     ],
     "prompt_number": 52
    },
    {
     "cell_type": "code",
     "collapsed": false,
     "input": [
      "print(plotting1.index[-1], type(plotting1.index[-1]))"
     ],
     "language": "python",
     "metadata": {},
     "outputs": [
      {
       "output_type": "stream",
       "stream": "stdout",
       "text": [
        "2014-01-01 00:16:40 <class 'pandas.tslib.Timestamp'>\n"
       ]
      }
     ],
     "prompt_number": 183
    },
    {
     "cell_type": "code",
     "collapsed": false,
     "input": [],
     "language": "python",
     "metadata": {},
     "outputs": []
    }
   ],
   "metadata": {}
  }
 ]
}