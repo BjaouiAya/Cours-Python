{
 "metadata": {
  "name": "",
  "signature": "sha256:4fcfdf7fc9d49b4534de912e22005255d319928c9290afade607b0df9ddfcef2"
 },
 "nbformat": 3,
 "nbformat_minor": 0,
 "worksheets": [
  {
   "cells": [
    {
     "cell_type": "heading",
     "level": 1,
     "metadata": {},
     "source": [
      "Reader"
     ]
    },
    {
     "cell_type": "code",
     "collapsed": false,
     "input": [
      "import pandas as pd\n",
      "import numpy as np\n",
      "import datetime\n",
      "import matplotlib\n",
      "\n",
      "from matplotlib.patches import Ellipse  # Used to draw shapes inside plots\n",
      "from matplotlib.dates import MinuteLocator, DateFormatter, SecondLocator"
     ],
     "language": "python",
     "metadata": {},
     "outputs": [],
     "prompt_number": 417
    },
    {
     "cell_type": "code",
     "collapsed": false,
     "input": [
      "import matplotlib.pyplot as plt\n",
      "%matplotlib qt"
     ],
     "language": "python",
     "metadata": {},
     "outputs": [],
     "prompt_number": 2
    },
    {
     "cell_type": "code",
     "collapsed": false,
     "input": [
      "# This parser convert to a real datetime format\n",
      "def convert_to_datetime(step, start=datetime.datetime(2014, 1, 1)):\n",
      "    \"\"\"\n",
      "      This parser convert to a real datetime format\n",
      "    \"\"\"\n",
      "    for el in step:\n",
      "        yield start + datetime.timedelta(seconds=int(el))"
     ],
     "language": "python",
     "metadata": {},
     "outputs": [],
     "prompt_number": 405
    },
    {
     "cell_type": "code",
     "collapsed": false,
     "input": [
      "# Change font properties\n",
      "font_base = {'family' : 'serif',\n",
      "             'size'   : 15}\n",
      "# Changing graphs' title parameters\n",
      "font_title = {'family' : 'serif',\n",
      "              'size'   : 20}\n",
      "\n",
      "# Change default label settings\n",
      "matplotlib.rc('font', **font_base)  # Overwrite default fonts parameters\n",
      "matplotlib.rc('xtick', labelsize=20) \n",
      "matplotlib.rc('ytick', labelsize=20) "
     ],
     "language": "python",
     "metadata": {},
     "outputs": [],
     "prompt_number": 4
    },
    {
     "cell_type": "heading",
     "level": 2,
     "metadata": {},
     "source": [
      "Olivier House"
     ]
    },
    {
     "cell_type": "code",
     "collapsed": false,
     "input": [
      "# Here select folder\n",
      "%cd \"C:\\Users\\bois\\Documents\\GitHub\\SolarSystem\\Outputs\\clean\""
     ],
     "language": "python",
     "metadata": {},
     "outputs": [
      {
       "output_type": "stream",
       "stream": "stdout",
       "text": [
        "C:\\Users\\bois\\Documents\\GitHub\\SolarSystem\\Outputs\\clean\n"
       ]
      }
     ],
     "prompt_number": 1
    },
    {
     "cell_type": "code",
     "collapsed": false,
     "input": [
      "# Here select file inside current folder\n",
      "clean_csv = \"olivier_house_read.csv\""
     ],
     "language": "python",
     "metadata": {},
     "outputs": [],
     "prompt_number": 237
    },
    {
     "cell_type": "code",
     "collapsed": false,
     "input": [
      "# Your Dataframe structure\n",
      "datas = pd.read_csv(clean_csv, skiprows=1, delimiter=\";\", index_col=\"Date\")\n",
      "# Convert to datetime index\n",
      "datas.index = [ind for ind in convert_to_datetime(datas.index)]\n",
      "type(datas.index)"
     ],
     "language": "python",
     "metadata": {},
     "outputs": [
      {
       "metadata": {},
       "output_type": "pyout",
       "prompt_number": 7,
       "text": [
        "pandas.tseries.index.DatetimeIndex"
       ]
      }
     ],
     "prompt_number": 7
    },
    {
     "cell_type": "code",
     "collapsed": false,
     "input": [
      "# Csv columns names\n",
      "for i, col in enumerate(datas.columns):\n",
      "    print(\"column {} \\t\\t{}\".format(i, col))"
     ],
     "language": "python",
     "metadata": {},
     "outputs": [
      {
       "output_type": "stream",
       "stream": "stdout",
       "text": [
        "column 0 \t\tT12_house\n",
        "column 1 \t\tT12_rad_house\n",
        "column 2 \t\tT9_mini\n",
        "column 3 \t\tT9_moy\n",
        "column 4 \t\tT9_ext\n",
        "column 5 \t\tFlow_Extraction\n",
        "column 6 \t\tHouse_Power\n",
        "column 7 \t\tHouse_Energy\n"
       ]
      }
     ],
     "prompt_number": 238
    },
    {
     "cell_type": "code",
     "collapsed": false,
     "input": [
      "# Data reduce to accurate rendering\n",
      "datas_mini = datas[:].resample('60min')          # Keep only one value per hour\n",
      "# datas[\"T9_ext\"][:5], datas_mini[\"T9_ext\"][:5]  # Activate to check data reduce"
     ],
     "language": "python",
     "metadata": {},
     "outputs": [],
     "prompt_number": 240
    },
    {
     "cell_type": "code",
     "collapsed": false,
     "input": [
      "# Here to choose what you want to print (one printer per graph)\n",
      "printer1 = ['House_Energy']\n",
      "printer2 = ['House_Power']\n",
      "printer3 = ['T12_house', 'T12_rad_house', 'T9_ext']\n",
      "\n",
      "# Dataframe of selected columns (one plotting per printer)\n",
      "plotting1 = datas_mini[printer1]\n",
      "plotting2 = datas_mini[printer2]\n",
      "plotting3 = datas_mini[printer3]"
     ],
     "language": "python",
     "metadata": {},
     "outputs": [],
     "prompt_number": 207
    },
    {
     "cell_type": "code",
     "collapsed": false,
     "input": [
      "# Multi plot anywhere\n",
      "fig = plt.figure(figsize=(30, 18), facecolor=(0.84, 0.89, 0.9))\n",
      "fig.canvas.manager.set_window_title(\"House Reader\") \n",
      "\n",
      "# Drawing graphs\n",
      "ax1 = fig.add_axes( [.02, 0.55, .52, .4] )  # First point (0, 0 at bottom left) and length\n",
      "ax2 = fig.add_axes( [.02, 0.05, .52, .4] )  \n",
      "ax3 = fig.add_axes( [0.6, 0.05, 0.38, 0.9] )\n",
      "\n",
      "# Change title parameters\n",
      "ax1.set_title(label=\"Evolution de l'\u00e9nergie au cours de l'ann\u00e9e\", fontdict=font)\n",
      "ax2.set_title(label=\"Evolution de la demande en chauffage au cours de l'ann\u00e9e\", fontdict=font)\n",
      "ax3.set_title(label=\"Evolution des temp\u00e9ratures au cours de l'ann\u00e9e\", fontdict=font)\n",
      "\n",
      "# Adding plots to graphs\n",
      "plotting1.plot(ax=ax3, color=\"#268bd2\", linewidth=5, linestyle=\"-\")\n",
      "plotting2.plot(ax=ax2, color='#268bd2', linewidth=2, linestyle=\"-\", )\n",
      "plotting3.plot(ax=ax1, color=('#dc322f', '#859900', '#268bd2'), linewidth=2, linestyle=\"-\", )\n",
      "\n",
      "# Adding value emphazing\n",
      "el = Ellipse((2, -1), 0.5, 0.5)\n",
      "ax3.add_patch(el)\n",
      "# Max\n",
      "ax3.annotate(\n",
      "            \"Energie consomm\u00e9e : {1:.0f} kWh \\n{0:%Y-%m-%d}\".format(datas_mini.idxmax(axis=0)[\"House_Energy\"], datas_mini.max(axis=0)[\"House_Energy\"]),\n",
      "            xy=(datas_mini.idxmax(axis=0)[\"House_Energy\"], datas_mini.max(axis=0)[\"House_Energy\"]),\n",
      "            xycoords='data', xytext=(-150, 50), textcoords='offset points',\n",
      "            size=15, va=\"center\", ha=\"center\",\n",
      "            bbox=dict(boxstyle=\"round\", fc=(0.84, 0.89, 0.9), ec=\"none\"),\n",
      "            arrowprops=dict(arrowstyle=\"wedge,tail_width=1.\",\n",
      "                            fc=(0.84, 0.89, 0.9), ec=\"none\",\n",
      "                            patchA=el,\n",
      "                            relpos=(0.2, 0.5),\n",
      "                            )\n",
      "            )\n",
      "# All solar use start\n",
      "ax3.annotate(\n",
      "            \"Energie consomm\u00e9e : {1:.0f} kWh \\n{0}\".format(\"2014-05-19\", datas_mini[\"House_Energy\"][\"2014-05-19 9:00:00\"]),\n",
      "            xy=(\"2014-05-19 9:00:00\", datas_mini[\"House_Energy\"][\"2014-05-19 9:00:00\"]),\n",
      "            xycoords='data', xytext=(-150, 50), textcoords='offset points',\n",
      "            size=15, va=\"center\", ha=\"center\",\n",
      "            bbox=dict(boxstyle=\"round\", fc=(0.84, 0.89, 0.9), ec=\"none\"),\n",
      "            arrowprops=dict(arrowstyle=\"wedge,tail_width=1.\",\n",
      "                            fc=(0.84, 0.89, 0.9), ec=\"none\",\n",
      "                            patchA=el,\n",
      "                            relpos=(0.2, 0.5),\n",
      "                            )\n",
      "            )\n",
      "# All solar use end\n",
      "ax3.annotate(\n",
      "            \"Energie consomm\u00e9e : {1:.0f} kWh \\n{0}\".format(\"2014-10-01\", datas_mini[\"House_Energy\"][\"2014-10-01 9:00:00\"]),\n",
      "            xy=(\"2014-10-01 9:00:00\", datas_mini[\"House_Energy\"][\"2014-10-01 9:00:00\"]),\n",
      "            xycoords='data', xytext=(-150, 50), textcoords='offset points',\n",
      "            size=15, va=\"center\", ha=\"center\",\n",
      "            bbox=dict(boxstyle=\"round\", fc=(0.84, 0.89, 0.9), ec=\"none\"),\n",
      "            arrowprops=dict(arrowstyle=\"wedge,tail_width=1.\",\n",
      "                            fc=(0.84, 0.89, 0.9), ec=\"none\",\n",
      "                            patchA=el,\n",
      "                            relpos=(0.2, 0.5),\n",
      "                            )\n",
      "            )  "
     ],
     "language": "python",
     "metadata": {},
     "outputs": [
      {
       "metadata": {},
       "output_type": "pyout",
       "prompt_number": 246,
       "text": [
        "<matplotlib.text.Annotation at 0x32785bd30>"
       ]
      }
     ],
     "prompt_number": 246
    },
    {
     "cell_type": "heading",
     "level": 2,
     "metadata": {},
     "source": [
      "Algo pump mass flow rate"
     ]
    },
    {
     "cell_type": "code",
     "collapsed": false,
     "input": [
      "# Here select folder\n",
      "%cd \"C:\\Users\\bois\\Documents\\GitHub\\SolarSystem\\Outputs\\Issues\\Algo_flow\""
     ],
     "language": "python",
     "metadata": {},
     "outputs": [
      {
       "output_type": "stream",
       "stream": "stdout",
       "text": [
        "C:\\Users\\bois\\Documents\\GitHub\\SolarSystem\\Outputs\\Issues\\Algo_flow\n"
       ]
      }
     ],
     "prompt_number": 387
    },
    {
     "cell_type": "code",
     "collapsed": false,
     "input": [
      "# Here select file inside current folder\n",
      "pump_algo_csv = \"algo_flow_mod_01_clean.csv\""
     ],
     "language": "python",
     "metadata": {},
     "outputs": [],
     "prompt_number": 388
    },
    {
     "cell_type": "code",
     "collapsed": false,
     "input": [
      "# Your Dataframe structure\n",
      "pump_algo = pd.read_csv(pump_algo_csv, skiprows=1, delimiter=\";\", index_col=\"Date\")\n",
      "# Convert to datetime index\n",
      "pump_algo.index = [ind for ind in convert_to_datetime(pump_algo.index)]\n",
      "type(pump_algo.index)"
     ],
     "language": "python",
     "metadata": {},
     "outputs": [
      {
       "metadata": {},
       "output_type": "pyout",
       "prompt_number": 389,
       "text": [
        "pandas.tseries.index.DatetimeIndex"
       ]
      }
     ],
     "prompt_number": 389
    },
    {
     "cell_type": "code",
     "collapsed": false,
     "input": [
      "# Csv columns names\n",
      "for i, col in enumerate(pump_algo.columns):\n",
      "    print(\"column {} \\t\\t{}\".format(i, col))"
     ],
     "language": "python",
     "metadata": {},
     "outputs": [
      {
       "output_type": "stream",
       "stream": "stdout",
       "text": [
        "column 0 \t\tFlow_Solar\n",
        "column 1 \t\tFlow_Heating\n",
        "column 2 \t\tFlow_S6_out\n",
        "column 3 \t\tFlow_S5_out\n",
        "column 4 \t\tFlow_S4_out\n",
        "column 5 \t\tFlow_S1_out\n",
        "column 6 \t\tFlow_S2_out\n",
        "column 7 \t\tFlow_S3_out\n",
        "column 8 \t\tS6_state\n",
        "column 9 \t\tS5_state\n",
        "column 10 \t\tS4_state\n",
        "column 11 \t\tS1_state\n",
        "column 12 \t\tS2_state\n",
        "column 13 \t\tS3_state\n",
        "column 14 \t\tVextra_state\n",
        "column 15 \t\tPump_nb_solar\n",
        "column 16 \t\tPump_nb_heating\n"
       ]
      }
     ],
     "prompt_number": 390
    },
    {
     "cell_type": "code",
     "collapsed": false,
     "input": [
      "# Data reduce to accurate rendering\n",
      "# pump_algo = pump_algo[:].resample('10s') .interpolate()         # Keep only one value per hour\n",
      "# datas[\"T9_ext\"][:5], datas_mini[\"T9_ext\"][:5]  # Activate to check data reduce"
     ],
     "language": "python",
     "metadata": {},
     "outputs": [],
     "prompt_number": 386
    },
    {
     "cell_type": "heading",
     "level": 3,
     "metadata": {},
     "source": [
      "Multiplot with multi y axis"
     ]
    },
    {
     "cell_type": "code",
     "collapsed": false,
     "input": [
      "# Here to choose what you want to print (one printer per graph)\n",
      "printer1 = ['Flow_S6_out', 'Flow_S5_out', 'Flow_Solar', 'Flow_S6_in', 'Flow_S5_in', 'Pump_nb_solar']\n",
      "printer2 = ['Flow_S2_out', 'Flow_S4_out', 'Flow_S1_out', 'Flow_S2_in', 'Flow_S4_in', 'Flow_S1_in',\n",
      "            'Flow_Heating', 'Vextra_state', 'Pump_nb_heating' ]\n",
      "\n",
      "# Dataframe of selected columns (one plotting per printer)\n",
      "plotting1 = pump_algo[printer1]\n",
      "plotting2 = pump_algo[printer2]"
     ],
     "language": "python",
     "metadata": {},
     "outputs": [],
     "prompt_number": 10
    },
    {
     "cell_type": "code",
     "collapsed": false,
     "input": [
      "# Multi plot on a figure\n",
      "fig = plt.figure(figsize=(30, 18), facecolor=(0.84, 0.89, 0.9))\n",
      "fig.canvas.manager.set_window_title(\"Algo : pump mass flow rate\")"
     ],
     "language": "python",
     "metadata": {},
     "outputs": [],
     "prompt_number": 11
    },
    {
     "cell_type": "code",
     "collapsed": false,
     "input": [
      "# First plot\n",
      "\n",
      "#############################################################\n",
      "# Multi plot on a figure\n",
      "fig = plt.figure(figsize=(30, 18), facecolor=(0.84, 0.89, 0.9))\n",
      "fig.canvas.manager.set_window_title(\"Algo : pump mass flow rate\")\n",
      "#############################################################\n",
      "\n",
      "# Create Axes instance to plot in\n",
      "ax11 = fig.add_subplot(2, 1, 1)\n",
      "ax11.set_title(label=\"Evolution du d\u00e9bit des pompes solaires en fonction du nombre de pompe\", fontdict=font_title)\n",
      "\n",
      "# Primary y axis\n",
      "nb1 = plotting1.ix[:,:'Flow_S5_in'].plot(ax=ax11, colormap='jet',\n",
      "                     style={'Flow_S6_out': \"-\", 'Flow_S5_out': \"-\", 'Flow_Solar': \"--\",\n",
      "                            'Flow_S6_in': \"-\", 'Flow_S5_in': \"-\"},\n",
      "                     ylim=(0, 80), xlim=(10,100), linewidth=3)\n",
      "# Secondary y axis\n",
      "ax12 = ax11.twinx()  # Allow second \"y\" axis with different scale but with same \"x\" axis\n",
      "\n",
      "# Plot pump number on this new axis and add color match between them\n",
      "plotting1['Pump_nb_solar'].plot(ax=ax12, style=\"-\", linewidth=3, color='#859900', ylim=(0, 5), label=\"nb\")\n",
      "for ytics in ax12.get_yticklabels():\n",
      "    ytics.set_color(ax12.lines[0].get_color())\n",
      "\n",
      "# Change lines style for 'Flow_Solar'\n",
      "nb1.lines[2].set_linewidth(5)\n",
      "nb1.lines[2].set_color('#dc322f')\n",
      "\n",
      "# Update legend width multiple columns (need to update for each axes)\n",
      "ax11.legend(ncol=2, loc = 'upper left')\n",
      "ax12.legend(loc = 'upper right')"
     ],
     "language": "python",
     "metadata": {},
     "outputs": [
      {
       "metadata": {},
       "output_type": "pyout",
       "prompt_number": 43,
       "text": [
        "<matplotlib.legend.Legend at 0x18e91128>"
       ]
      }
     ],
     "prompt_number": 43
    },
    {
     "cell_type": "code",
     "collapsed": false,
     "input": [
      "# Second plot\n",
      "\n",
      "#############################################################\n",
      "# Multi plot on a figure\n",
      "fig = plt.figure(figsize=(30, 18), facecolor=(0.84, 0.89, 0.9))\n",
      "fig.canvas.manager.set_window_title(\"Algo : pump mass flow rate\")\n",
      "#############################################################\n",
      "\n",
      "# Create Axes instance to plot in\n",
      "ax21 = fig.add_subplot(2, 1, 2)\n",
      "ax21.set_title(label=\"Evolution du d\u00e9bit des pompes de chauffage en fonction du nombre de pompe\", fontdict=font_title)\n",
      "\n",
      "# Draw first plot and change style.\n",
      "nb2 = plotting2.ix[:,:'Vextra_state'].plot(ax=ax21, colormap='Set1',\n",
      "                     style={'Flow_Heating': \"--\", 'Flow_S4_out': \"-\", 'Flow_S1_out': \"-\", 'Flow_S2_out': \"-\",\n",
      "                            'Flow_S4_in': \"-\", 'Flow_S1_in': \"-\", 'Flow_S2_in': \"-\", 'Vextra_state': \"k:\",\n",
      "                            'Pump_nb_heating': \"-\"},\n",
      "                     ylim=(0, 130), linewidth=3)\n",
      "\n",
      "# Secondary y axis\n",
      "ax22 = ax21.twinx()  # Allow second \"y\" axis with different scale but with same \"x\" axis\n",
      "\n",
      "# Plot pump number on this new axis and add color match between them\n",
      "plotting2['Pump_nb_heating'].plot(ax=ax22, style=\"-\", linewidth=3, color='#859900', ylim=(0, 6), label=\"nb\")\n",
      "    \n",
      "# Change lines style for 'Flow_Solar'\n",
      "nb2.lines[7].set_linewidth(5)\n",
      "nb2.lines[2].set_color('#dc322f')\n",
      "\n",
      "# Update legend width multiple columns (need to update for each axes)\n",
      "ax21.legend(ncol=3, loc = 'upper left')\n",
      "ax22.legend(loc = 'upper right')"
     ],
     "language": "python",
     "metadata": {},
     "outputs": [
      {
       "metadata": {},
       "output_type": "pyout",
       "prompt_number": 66,
       "text": [
        "<matplotlib.legend.Legend at 0x39739128>"
       ]
      }
     ],
     "prompt_number": 66
    },
    {
     "cell_type": "heading",
     "level": 3,
     "metadata": {},
     "source": [
      "Multi plot with share x axis"
     ]
    },
    {
     "cell_type": "code",
     "collapsed": false,
     "input": [
      "# Dict of all style for each column\n",
      "style={'Vextra_state': \"k:\", 'Pump_nb_solar': '-', 'Pump_nb_heating': \"-\",\n",
      "       'Flow_Solar': \"--\", 'Flow_Heating': \"--\",\n",
      "       'Flow_S6_out': \"-\", 'Flow_S5_out': \"-\", 'Flow_S4_out': \"-\", 'Flow_S1_out': \"-\", 'Flow_S2_out': \"-\", 'Flow_S3_out': \"-\",\n",
      "       'S6_state': \"-\", 'S5_state': \"-\", 'S4_state': \"-\", 'S1_state': \"-\", 'S2_state': \"-\", 'S3_state': \"--\",\n",
      "       }"
     ],
     "language": "python",
     "metadata": {},
     "outputs": [],
     "prompt_number": 377
    },
    {
     "cell_type": "code",
     "collapsed": false,
     "input": [
      "# First plot with share x\n",
      "\n",
      "#############################################################\n",
      "# Multi plot on a figure\n",
      "fig = plt.figure(figsize=(30, 18), facecolor=(0.84, 0.89, 0.9))\n",
      "fig.canvas.manager.set_window_title(\"Algo : pump mass flow rate\")\n",
      "#############################################################\n",
      "\n",
      "# Create Axes instance to plot in\n",
      "ax11 = fig.add_subplot(3, 2, 1)\n",
      "ax11.set_title(label=\"Evolution du d\u00e9bit des pompes solaires\", fontdict=font_title)\n",
      "ax12 = fig.add_subplot(3, 2, 3, sharex=ax11)  # sharex allow to share x axis for all actions like zoom\n",
      "ax13 = fig.add_subplot(3, 2, 5, sharex=ax11)\n",
      "\n",
      "ax21 = fig.add_subplot(3, 2, 2)\n",
      "ax21.set_title(label=\"Evolution du d\u00e9bit des pompes de chauffage\", fontdict=font_title)\n",
      "ax22 = fig.add_subplot(3, 2, 4, sharex=ax21)\n",
      "ax23 = fig.add_subplot(3, 2, 6, sharex=ax21)\n",
      "\n",
      "# Add plot in each axes\n",
      "# First plot\n",
      "flow_mini1 = pump_algo[['Flow_Solar', 'Vextra_state']].plot(ax=ax11, color=('#cb4b16', '#859900'),\n",
      "                                                            ylim=(0, 120), linewidth=3)\n",
      "ax11_bis = ax11.twinx()\n",
      "state = pump_algo['Pump_nb_solar'].plot(ax=ax11_bis, color='#268bd2', ylim=(0, 6), linewidth=3)\n",
      "ax11.legend(loc = 'upper left')\n",
      "ax11_bis.legend(loc = 'upper right')\n",
      "\n",
      "flow_mini2 = pump_algo[['Flow_Heating', 'Vextra_state']].plot(ax=ax21, color=('#cb4b16', '#859900'),\n",
      "                                                              ylim=(0, 120), linewidth=3)\n",
      "ax21_bis = ax21.twinx()\n",
      "state = pump_algo['Pump_nb_heating'].plot(ax=ax21_bis, color='#268bd2', ylim=(0, 6), linewidth=3)\n",
      "ax21.legend(loc = 'upper left')\n",
      "ax21_bis.legend(loc = 'upper right')\n",
      "    \n",
      "# Second plot\n",
      "state1 = pump_algo.ix[:,'S6_state':'S5_state'].plot(ax=ax12, colormap='Accent', style=style,\n",
      "                     ylim=(0, 130), linewidth=3)\n",
      "state2 = pump_algo.ix[:,'S4_state':'S3_state'].plot(ax=ax22, colormap='Accent', style=style,\n",
      "                     ylim=(0, 130), linewidth=3)\n",
      "# Third plot\n",
      "flow_out1 = pump_algo.ix[:,'Flow_S6_out':'Flow_S5_out'].plot(ax=ax13, colormap='Accent', style=style,\n",
      "                     ylim=(0, 80), linewidth=3)\n",
      "flow_out2 = pump_algo.ix[:,'Flow_S4_out':'Flow_S3_out'].plot(ax=ax23, colormap='Accent', style=style,\n",
      "                     ylim=(0, 100), linewidth=3)\n",
      "\n",
      "# Color match between yaxis and lines\n",
      "for ytics in ax11_bis.get_yticklabels():\n",
      "    ytics.set_color(ax11_bis.lines[0].get_color())   \n",
      "for ytics in ax21_bis.get_yticklabels():\n",
      "    ytics.set_color(ax21_bis.lines[0].get_color())\n",
      "\n",
      "# minutes = MinuteLocator(interval=4)\n",
      "# minutes_formatter = DateFormatter(\"%H:%M:%S\")\n",
      "# ax11.xaxis.set_major_locator(minutes)\n",
      "# ax11.xaxis.set_major_formatter(minutes_formatter)\n",
      "\n",
      "# secondes = SecondLocator(interval=60)\n",
      "# secondes_formatter = DateFormatter(\"%H:%M:%S\")\n",
      "# ax11.xaxis.set_minor_locator(secondes)\n",
      "# ax11.xaxis.set_minor_formatter(secondes_formatter)\n",
      "\n",
      "    \n",
      "# Avoid overlapping\n",
      "# ax11.set_xticklabels(labels=list(convert_to_datetime(ax11.get_xticks())), fontdict=font_base)\n",
      "# ax12.set_xticklabels([\"\"])\n",
      "# ax13.set_xticklabels([\"\"])\n",
      "# ax21.set_xticklabels([\"\"])\n",
      "# ax22.set_xticklabels([\"\"])\n",
      "# ax23.set_xticklabels([\"\"])\n",
      "\n",
      "# Update legend after all modifications\n",
      "ax12.legend(loc='best', ncol=2)\n",
      "ax22.legend(loc='best', ncol=2)\n",
      "\n",
      "# Adding artist element\n",
      "el = Ellipse((2, -1), 0.5, 0.5)\n",
      "ax11.add_patch(el)\n",
      "ax21.add_patch(el)\n",
      "\n",
      "# Max flow and nb_pumps\n",
      "ax11.annotate(\n",
      "            \"Max 'Flow_Solar'\",\n",
      "            xy=('2014-01-01 00:02:00',\n",
      "                pump_algo['Flow_Solar']['2014-01-01 00:02:00']),\n",
      "            xycoords='data', xytext=(0, 20), textcoords='offset points',\n",
      "            size=15, va=\"center\", ha=\"center\",\n",
      "            bbox=dict(boxstyle=\"round\", fc=(0.84, 0.89, 0.9), ec=\"none\"),\n",
      "            arrowprops=dict(arrowstyle=\"wedge,tail_width=1.\",\n",
      "                            fc=(0.84, 0.89, 0.9), ec=\"none\",\n",
      "                            patchA=el,\n",
      "                            relpos=(0.2, 0.5),\n",
      "                            )\n",
      "            )\n",
      "ax11_bis.annotate(\n",
      "            \"Mini 'Pump_nb_solar'\",\n",
      "            xy=('2014-01-01 00:02:00',\n",
      "                pump_algo['Pump_nb_solar']['2014-01-01 00:02:00']),\n",
      "            xycoords='data', xytext=(0, -20), textcoords='offset points',\n",
      "            size=15, va=\"center\", ha=\"center\",\n",
      "            bbox=dict(boxstyle=\"round\", fc=(0.84, 0.89, 0.9), ec=\"none\"),\n",
      "            arrowprops=dict(arrowstyle=\"wedge,tail_width=1.\",\n",
      "                            fc=(0.84, 0.89, 0.9), ec=\"none\",\n",
      "                            patchA=el,\n",
      "                            relpos=(0.8, 0.5),\n",
      "                            )\n",
      "            )\n",
      "\n",
      "# Extra valve switch\n",
      "ax11.annotate(\n",
      "            \"Ouvert vers appoint\",\n",
      "            xy=(pump_algo.index[np.where(pump_algo['Vextra_state']>1)[0][0]],\n",
      "                pump_algo['Vextra_state'][pump_algo.index[np.where(pump_algo['Vextra_state']>1)[0][0]]]),\n",
      "            xycoords='data', xytext=(50, 30), textcoords='offset points',\n",
      "            size=15, va=\"center\", ha=\"center\",\n",
      "            bbox=dict(boxstyle=\"round\", fc=(0.84, 0.89, 0.9), ec=\"none\"),\n",
      "            arrowprops=dict(arrowstyle=\"wedge,tail_width=1.\",\n",
      "                            fc=(0.84, 0.89, 0.9), ec=\"none\",\n",
      "                            patchA=el,\n",
      "                            relpos=(0.2, 0.5),\n",
      "                            )\n",
      "            )\n",
      "ax21.annotate(\n",
      "            \"Ouvert vers appoint\",\n",
      "            xy=(pump_algo.index[np.where(pump_algo['Vextra_state']>1)[0][0]],\n",
      "                pump_algo['Vextra_state'][pump_algo.index[np.where(pump_algo['Vextra_state']>1)[0][0]]]),\n",
      "            xycoords='data', xytext=(50, 30), textcoords='offset points',\n",
      "            size=15, va=\"center\", ha=\"center\",\n",
      "            bbox=dict(boxstyle=\"round\", fc=(0.84, 0.89, 0.9), ec=\"none\"),\n",
      "            arrowprops=dict(arrowstyle=\"wedge,tail_width=1.\",\n",
      "                            fc=(0.84, 0.89, 0.9), ec=\"none\",\n",
      "                            patchA=el,\n",
      "                            relpos=(0.2, 0.5),\n",
      "                            )\n",
      "            )\n",
      "\n",
      "# Modulation\n",
      "ax13.annotate(\n",
      "            \"S5 : 50%\",\n",
      "            xy=(pump_algo.index[np.where(pump_algo['Flow_S5_out']==45/2)[0][1]],\n",
      "                pump_algo['Flow_S5_out'][pump_algo.index[np.where(pump_algo['Flow_S5_out']==45/2)[0][1]]]),\n",
      "            xycoords='data', xytext=(50, -30), textcoords='offset points',\n",
      "            size=15, va=\"center\", ha=\"center\",\n",
      "            bbox=dict(boxstyle=\"round\", fc=(0.84, 0.89, 0.9), ec=\"none\"),\n",
      "            arrowprops=dict(arrowstyle=\"wedge,tail_width=1.\",\n",
      "                            fc=(0.84, 0.89, 0.9), ec=\"none\",\n",
      "                            patchA=el,\n",
      "                            relpos=(0.2, 0.5),\n",
      "                            )\n",
      "            )\n",
      "ax13.annotate(\n",
      "            \"S6 : 50%\",\n",
      "            xy=(pump_algo.index[np.where(pump_algo['Flow_S6_out']==30)[0][1]],\n",
      "                pump_algo['Flow_S6_out'][pump_algo.index[np.where(pump_algo['Flow_S6_out']==30)[0][1]]]),\n",
      "            xycoords='data', xytext=(80, 30), textcoords='offset points',\n",
      "            size=15, va=\"center\", ha=\"center\",\n",
      "            bbox=dict(boxstyle=\"round\", fc=(0.84, 0.89, 0.9), ec=\"none\"),\n",
      "            arrowprops=dict(arrowstyle=\"wedge,tail_width=1.\",\n",
      "                            fc=(0.84, 0.89, 0.9), ec=\"none\",\n",
      "                            patchA=el,\n",
      "                            relpos=(0.2, 0.5),\n",
      "                            )\n",
      "            )\n",
      "\n",
      "# Temporization\n",
      "ax22.annotate(\n",
      "            \"S2 : demande d'activation\",\n",
      "            xy=(pump_algo.index[np.where(pump_algo['Flow_S2_out']<1)][2],\n",
      "                pump_algo['S2_state'][pump_algo.index[np.where(pump_algo['Flow_S2_out']<1)][2]]),\n",
      "            xycoords='data', xytext=(110, 30), textcoords='offset points',\n",
      "            size=15, va=\"center\", ha=\"center\",\n",
      "            bbox=dict(boxstyle=\"round\", fc=(0.84, 0.89, 0.9), ec=\"none\"),\n",
      "            arrowprops=dict(arrowstyle=\"wedge,tail_width=1.\",\n",
      "                            fc=(0.84, 0.89, 0.9), ec=\"none\",\n",
      "                            patchA=el,\n",
      "                            relpos=(0.2, 0.5),\n",
      "                            )\n",
      "            )\n",
      "ax23.annotate(\n",
      "            \"S2 : temporisation\",\n",
      "            xy=(pump_algo.index[np.where(pump_algo['Flow_S2_out']<1)][2],\n",
      "                pump_algo['Flow_S2_out'][pump_algo.index[np.where(pump_algo['Flow_S2_out']<1)][2]]),\n",
      "            xycoords='data', xytext=(80, 30), textcoords='offset points',\n",
      "            size=15, va=\"center\", ha=\"center\",\n",
      "            bbox=dict(boxstyle=\"round\", fc=(0.84, 0.89, 0.9), ec=\"none\"),\n",
      "            arrowprops=dict(arrowstyle=\"wedge,tail_width=1.\",\n",
      "                            fc=(0.84, 0.89, 0.9), ec=\"none\",\n",
      "                            patchA=el,\n",
      "                            relpos=(0.2, 0.5),\n",
      "                            )\n",
      "            )\n",
      "\n",
      "# Allow to plot axis labels only in the lower plot\n",
      "fig.autofmt_xdate()"
     ],
     "language": "python",
     "metadata": {},
     "outputs": [],
     "prompt_number": 430
    },
    {
     "cell_type": "code",
     "collapsed": false,
     "input": [
      "import numpy as np\n",
      "x = np.arange(11)\n",
      "fig = plt.figure()\n",
      "ax1 = fig.add_subplot(311)\n",
      "ax1.plot(x, x);\n",
      "ax2 = fig.add_subplot(312, sharex=ax1)\n",
      "ax2.plot(2*x, 2*x);\n",
      "ax3 = fig.add_subplot(313, sharex=ax1)\n",
      "ax3.plot(3*x, 3*x);\n",
      "plt.show()"
     ],
     "language": "python",
     "metadata": {},
     "outputs": [],
     "prompt_number": 70
    },
    {
     "cell_type": "heading",
     "level": 2,
     "metadata": {},
     "source": [
      "Testing"
     ]
    },
    {
     "cell_type": "code",
     "collapsed": false,
     "input": [
      "datas_mini.max(axis=0)"
     ],
     "language": "python",
     "metadata": {},
     "outputs": [
      {
       "metadata": {},
       "output_type": "pyout",
       "prompt_number": 314,
       "text": [
        "10629.75"
       ]
      }
     ],
     "prompt_number": 314
    },
    {
     "cell_type": "code",
     "collapsed": false,
     "input": [
      "datas_mini.idxmax(axis=0)[]"
     ],
     "language": "python",
     "metadata": {},
     "outputs": [
      {
       "metadata": {},
       "output_type": "pyout",
       "prompt_number": 309,
       "text": [
        "T12_house         2014-07-29 17:00:00\n",
        "T12_rad_house     2014-07-29 18:00:00\n",
        "T9_mini           2014-07-21 00:00:00\n",
        "T9_moy            2014-07-21 00:00:00\n",
        "T9_ext            2014-07-09 17:00:00\n",
        "Flow_Extraction   2014-01-01 00:00:00\n",
        "House_Power       2014-01-15 10:00:00\n",
        "House_Energy      2015-01-01 00:00:00\n",
        "dtype: datetime64[ns]"
       ]
      }
     ],
     "prompt_number": 309
    },
    {
     "cell_type": "code",
     "collapsed": false,
     "input": [
      "datas_mini[\"2014-10-29 9:00:00\":\"2014-05-19 9:00:00\"][\"House_Energy\"]"
     ],
     "language": "python",
     "metadata": {},
     "outputs": [
      {
       "metadata": {},
       "output_type": "pyout",
       "prompt_number": 20,
       "text": [
        "2014-05-19 09:00:00    6081.014\n",
        "Freq: 60T, Name: House_Energy, dtype: float64"
       ]
      }
     ],
     "prompt_number": 20
    },
    {
     "cell_type": "code",
     "collapsed": false,
     "input": [
      "datas_mini[\"House_Energy\"][\"2014-10-29 9:00:00\"]"
     ],
     "language": "python",
     "metadata": {},
     "outputs": [
      {
       "metadata": {},
       "output_type": "pyout",
       "prompt_number": 63,
       "text": [
        "6752.6620000000003"
       ]
      }
     ],
     "prompt_number": 63
    },
    {
     "cell_type": "code",
     "collapsed": false,
     "input": [
      "pump_algo['Flow_Solar'].index[0]"
     ],
     "language": "python",
     "metadata": {},
     "outputs": [
      {
       "metadata": {},
       "output_type": "pyout",
       "prompt_number": 74,
       "text": [
        "Timestamp('2014-01-01 00:00:00', tz=None)"
       ]
      }
     ],
     "prompt_number": 74
    },
    {
     "cell_type": "code",
     "collapsed": false,
     "input": [
      "# Change line style and update legend with nb1 is a matplotlib.axes.AxesSubplot instance\n",
      "nb1.lines[1].set_linewidth(4)\n",
      "nb1.lines[1].set_linestyle('--')\n",
      "nb1.legend(ncol=2)"
     ],
     "language": "python",
     "metadata": {},
     "outputs": [],
     "prompt_number": 141
    },
    {
     "cell_type": "code",
     "collapsed": false,
     "input": [
      "# Create new colormap\n",
      "import numpy as np\n",
      "\n",
      "cdict = {'red': ((0.0, 0.0, 0.0),\n",
      "                 (0.5, 1.0, 0.7),\n",
      "                 (1.0, 1.0, 1.0)),\n",
      "         'green': ((0.0, 0.0, 0.0),\n",
      "                   (0.5, 1.0, 0.0),\n",
      "                   (1.0, 1.0, 1.0)),\n",
      "         'blue': ((0.0, 0.0, 0.0),\n",
      "                  (0.5, 1.0, 0.0),\n",
      "                  (1.0, 0.5, 1.0))}\n",
      "my_cmap = matplotlib.colors.LinearSegmentedColormap('my_colormap',cdict,256)\n",
      "plt.pcolor(np.random.rand(10,10),cmap=my_cmap)\n",
      "colorbar()"
     ],
     "language": "python",
     "metadata": {},
     "outputs": [
      {
       "metadata": {},
       "output_type": "pyout",
       "prompt_number": 180,
       "text": [
        "<matplotlib.colorbar.Colorbar at 0x696d1518>"
       ]
      }
     ],
     "prompt_number": 180
    },
    {
     "cell_type": "code",
     "collapsed": false,
     "input": [
      "# Filter by column and slicing\n",
      "# plotting1.ix[:,:'Flow_S5_in']"
     ],
     "language": "python",
     "metadata": {},
     "outputs": [],
     "prompt_number": 37
    },
    {
     "cell_type": "code",
     "collapsed": false,
     "input": [
      "# Recup axes colors\n",
      "# a = ax13.lines\n",
      "# for el in a:\n",
      "#     print(el.get_color())"
     ],
     "language": "python",
     "metadata": {},
     "outputs": [],
     "prompt_number": 154
    },
    {
     "cell_type": "code",
     "collapsed": false,
     "input": [
      "# Get line color\n",
      "# ax12.lines[0].get_color()"
     ],
     "language": "python",
     "metadata": {},
     "outputs": [],
     "prompt_number": 155
    },
    {
     "cell_type": "code",
     "collapsed": false,
     "input": [
      "# Last timestep from index\n",
      "# print(pump_algo.index[-1], type(pump_algo.index[-1]))"
     ],
     "language": "python",
     "metadata": {},
     "outputs": [],
     "prompt_number": 209
    },
    {
     "cell_type": "code",
     "collapsed": false,
     "input": [
      "# First occurence of 1 in Vextra_state\n",
      "# pump_algo.ix[pump_algo.Vextra_state > 1, :0][:1].index\n",
      "# Same\n",
      "# pump_algo.index[np.where(pump_algo['Vextra_state']>1)[0][0]]"
     ],
     "language": "python",
     "metadata": {},
     "outputs": [],
     "prompt_number": 158
    },
    {
     "cell_type": "code",
     "collapsed": false,
     "input": [
      "# Value of first occurence of 1 in Vextra_state\n",
      "# test = np.where(pump_algo['Vextra_state']>1)[0][0]\n",
      "# test"
     ],
     "language": "python",
     "metadata": {},
     "outputs": [],
     "prompt_number": 159
    },
    {
     "cell_type": "code",
     "collapsed": false,
     "input": [
      "# All columns value for first occurence of 1 in Vextra_state\n",
      "# pump_algo.groupby(pump_algo['Vextra_state']).first()"
     ],
     "language": "python",
     "metadata": {},
     "outputs": [],
     "prompt_number": 160
    },
    {
     "cell_type": "code",
     "collapsed": false,
     "input": [
      "# Flow Solar value at first occurence of 1 in Vextra_state\n",
      "# pump_algo[\"Flow_Solar\"][pump_algo.index[np.where(pump_algo['Vextra_state']>1)[0][0]]]"
     ],
     "language": "python",
     "metadata": {},
     "outputs": [],
     "prompt_number": 206
    },
    {
     "cell_type": "code",
     "collapsed": false,
     "input": [
      "# Multiple columns\n",
      "# pump_algo[['Flow_Solar', 'Vextra_state']]"
     ],
     "language": "python",
     "metadata": {},
     "outputs": [],
     "prompt_number": 204
    },
    {
     "cell_type": "code",
     "collapsed": false,
     "input": [
      "# Get array list of pump_algo['Flow_S5_out'] when condition True\n",
      "# np.where(pump_algo['Flow_S5_out']==45/2)\n",
      "# Get first pump_algo['Flow_S5_out'] dataframe when condition True\n",
      "# pump_algo.ix[pump_algo['Flow_S5_out']==45/2, :\"Flow_Solar\"][:1]\n",
      "# Get second timestamp when condition True (can bused as x axis position) \n",
      "# pump_algo.index[np.where(pump_algo['Flow_S5_out']==45/2)[0][1]]\n",
      "# Get first pump_algo['Flow_S5_out'] dataframe index when condition True\n",
      "# pump_algo.ix[pump_algo['Flow_S5_out']==45/2, :\"Flow_Solar\"].index[0]"
     ],
     "language": "python",
     "metadata": {},
     "outputs": [],
     "prompt_number": 402
    },
    {
     "cell_type": "code",
     "collapsed": false,
     "input": [
      "# pump_algo[['Flow_S4_out', 'Flow_S1_out']]"
     ],
     "language": "python",
     "metadata": {},
     "outputs": [],
     "prompt_number": 401
    },
    {
     "cell_type": "code",
     "collapsed": false,
     "input": [
      "ax11.get_xticks()"
     ],
     "language": "python",
     "metadata": {},
     "outputs": [
      {
       "metadata": {},
       "output_type": "pyout",
       "prompt_number": 399,
       "text": [
        "array([ 735234.00208333,  735234.00555556,  735234.00902778])"
       ]
      }
     ],
     "prompt_number": 399
    },
    {
     "cell_type": "code",
     "collapsed": false,
     "input": [],
     "language": "python",
     "metadata": {},
     "outputs": []
    }
   ],
   "metadata": {}
  }
 ]
}