{
 "metadata": {
  "name": "",
  "signature": "sha256:a41925b210f8e7696764a4484b969a056ff72fe7b30284f3f62b1c480c1b2e20"
 },
 "nbformat": 3,
 "nbformat_minor": 0,
 "worksheets": [
  {
   "cells": [
    {
     "cell_type": "heading",
     "level": 1,
     "metadata": {
      "slideshow": {
       "slide_type": "slide"
      }
     },
     "source": [
      "Used to get DJU values from dymola output"
     ]
    },
    {
     "cell_type": "heading",
     "level": 2,
     "metadata": {},
     "source": [
      "Tools and imports"
     ]
    },
    {
     "cell_type": "code",
     "collapsed": false,
     "input": [
      "import pandas as pd\n",
      "import matplotlib.pyplot as plt\n",
      "%matplotlib qt\n",
      "import numpy as np\n",
      "import datetime as dt"
     ],
     "language": "python",
     "metadata": {},
     "outputs": [],
     "prompt_number": 1
    },
    {
     "cell_type": "code",
     "collapsed": false,
     "input": [
      "cd \"D:\\GitHub\\SolarSystem\\Outputs\\raw\""
     ],
     "language": "python",
     "metadata": {},
     "outputs": [
      {
       "output_type": "stream",
       "stream": "stdout",
       "text": [
        "D:\\GitHub\\SolarSystem\\Outputs\\raw\n"
       ]
      }
     ],
     "prompt_number": 2
    },
    {
     "cell_type": "code",
     "collapsed": false,
     "input": [
      "# Convert each values inside a specific column\n",
      "def to_celsius(struct, column):\n",
      "    \"\"\"\n",
      "        Kelvin temperature into Celsius inside struct[column].\n",
      "          - struct is a panda dataFrame\n",
      "          - column is a panda dataFrame column name\n",
      "    \"\"\"\n",
      "    struct[column] -= 273.15\n",
      "    \n",
      "def to_KWh(struct, column):\n",
      "    \"\"\"\n",
      "        Joules into KWh inside struct[column].\n",
      "          - struct is a panda dataFrame\n",
      "          - column is a panda dataFrame column name\n",
      "    \"\"\"\n",
      "    struct[column] /= 1000.*3600."
     ],
     "language": "python",
     "metadata": {},
     "outputs": [],
     "prompt_number": 3
    },
    {
     "cell_type": "code",
     "collapsed": false,
     "input": [
      "def remove_duplicate(struct):\n",
      "    \"\"\"\n",
      "        Removes all duplicated rows according to index column\n",
      "          - struct is a panda dataFrame\n",
      "    \"\"\"\n",
      "    print(\"\\nRemoves Duplicated rows from <{}> column\".format(struct.index.name))\n",
      "    before = len(struct.index)\n",
      "    struct = struct.groupby(struct.index).last()\n",
      "    after = len(struct.index)\n",
      "    # Forces the field to be right-aligned within the available space\n",
      "    print(\"Before treatment : {0:{fill}{align}6} rows\".format(before,\n",
      "                                                              fill=\" \",\n",
      "                                                              align=\">\"))\n",
      "    print(\"After treatment  : {0:{fill}{align}6} rows\".format(after,\n",
      "                                                              fill=\" \",\n",
      "                                                              align=\">\"))\n",
      "    print(\"-\"*10 + \">\" + \" \"*7 +\n",
      "          \" {0:{fill}{align}6} removed\\n\".format(before-after,\n",
      "                                                 fill=\" \",\n",
      "                                                 align=\">\"))\n",
      "    # Return reorganized struct\n",
      "    return struct"
     ],
     "language": "python",
     "metadata": {},
     "outputs": [],
     "prompt_number": 4
    },
    {
     "cell_type": "code",
     "collapsed": false,
     "input": [
      "def rm_double(array, base=18):\n",
      "    \"\"\"\n",
      "        Return a generator expression of DJU according to base value\n",
      "    \"\"\"\n",
      "    for el in range(1, len(array)):\n",
      "        if array[el-1] != array[el]:\n",
      "            yield base - array[el]"
     ],
     "language": "python",
     "metadata": {},
     "outputs": [],
     "prompt_number": 5
    },
    {
     "cell_type": "heading",
     "level": 2,
     "metadata": {},
     "source": [
      "Data formatting"
     ]
    },
    {
     "cell_type": "code",
     "collapsed": false,
     "input": [
      "# Loading data to analyse\n",
      "structure = pd.read_csv(\"olivier_house.csv\", skiprows=1, delimiter=\",\",\n",
      "                        names=(\"Date\", \"Tair\", \"Trad\", \"Tmini\", \"Tmoy\", \"Text\",\n",
      "                               \"other\", \"Power\", \"Energy\"))\n",
      "to_celsius(structure, \"Tair\")\n",
      "to_celsius(structure, \"Text\")\n",
      "to_celsius(structure, \"Tmini\")\n",
      "to_celsius(structure, \"Tmoy\")\n",
      "to_KWh(structure, \"Energy\")"
     ],
     "language": "python",
     "metadata": {},
     "outputs": [],
     "prompt_number": 6
    },
    {
     "cell_type": "code",
     "collapsed": false,
     "input": [
      "structure = remove_duplicate(structure)"
     ],
     "language": "python",
     "metadata": {},
     "outputs": [
      {
       "output_type": "stream",
       "stream": "stdout",
       "text": [
        "\n",
        "Removes Duplicated rows from <None> column\n",
        "Before treatment : 315365 rows"
       ]
      },
      {
       "output_type": "stream",
       "stream": "stdout",
       "text": [
        "\n",
        "After treatment  : 315365 rows\n",
        "---------->             0 removed\n",
        "\n"
       ]
      }
     ],
     "prompt_number": 7
    },
    {
     "cell_type": "code",
     "collapsed": false,
     "input": [
      "# Add max temperature of the day to data structure\n",
      "structure[\"Tmax\"] = pd.Series(structure[\"Tmoy\"]*2 - structure[\"Tmini\"],\n",
      "                              index=structure.index)\n",
      "# Here we have Tmoy for each days. We construct an array of base - Tmoy\n",
      "difference = np.array([el for el in rm_double(structure[\"Tmoy\"])])"
     ],
     "language": "python",
     "metadata": {},
     "outputs": [],
     "prompt_number": 8
    },
    {
     "cell_type": "heading",
     "level": 2,
     "metadata": {},
     "source": [
      "Full year DJU computing"
     ]
    },
    {
     "cell_type": "code",
     "collapsed": false,
     "input": [
      "# Here we have all DJU (full year)\n",
      "DJU = np.sum(difference[np.where(difference > 0)])\n",
      "print(\"Day range = \", len(difference))\n",
      "print(\"DJU = {:0f} \u00b0C\".format(DJU))"
     ],
     "language": "python",
     "metadata": {},
     "outputs": [
      {
       "output_type": "stream",
       "stream": "stdout",
       "text": [
        "Day range =  365\n",
        "DJU = 2968.542000 \u00b0C\n"
       ]
      }
     ],
     "prompt_number": 9
    },
    {
     "cell_type": "heading",
     "level": 2,
     "metadata": {},
     "source": [
      "Heating period DJU computing"
     ]
    },
    {
     "cell_type": "code",
     "collapsed": false,
     "input": [
      "# Heating period computing\n",
      "ref = dt.datetime(2014, 1, 1)\n",
      "start, end = dt.datetime(2014, 10, 1), dt.datetime(2014, 5, 20)\n",
      "end = ((end - ref).total_seconds()) / (3600*24)\n",
      "start = ((start - ref).total_seconds()) / (3600*24)\n",
      "# Keep only DJU inside heating period\n",
      "heat_period = np.concatenate([difference[:end+1], difference[start:]])\n",
      "print(\"Day start = \", start, \"\\t Day end = \", end, \"\\t Day range = \", len(heat_period))\n",
      "DJU_heat = np.sum(heat_period)\n",
      "print(DJU_heat, \"\u00b0C\")"
     ],
     "language": "python",
     "metadata": {},
     "outputs": [
      {
       "output_type": "stream",
       "stream": "stdout",
       "text": [
        "Day start =  273.0 \t Day end =  139.0 \t Day range =  232\n",
        "2767.335 \u00b0C\n"
       ]
      }
     ],
     "prompt_number": 10
    },
    {
     "cell_type": "heading",
     "level": 2,
     "metadata": {},
     "source": [
      "D\u00e9perditions du b\u00e2timent"
     ]
    },
    {
     "cell_type": "code",
     "collapsed": false,
     "input": [
      "# Energy needed\n",
      "besoin_year = structure[\"Energy\"][len(structure[\"Energy\"])-1]\n",
      "besoin_heat = besoin_year - (structure[\"Energy\"][start] - structure[\"Energy\"][end+1])\n",
      "besoin_year, besoin_heat"
     ],
     "language": "python",
     "metadata": {},
     "outputs": [
      {
       "metadata": {},
       "output_type": "pyout",
       "prompt_number": 11,
       "text": [
        "(10629.75, 10623.742666666667)"
       ]
      }
     ],
     "prompt_number": 11
    },
    {
     "cell_type": "code",
     "collapsed": false,
     "input": [
      "# Volume\n",
      "V = 67.5 * 2.7\n",
      "\n",
      "# Volumique loses\n",
      "G_year = besoin_year*1000 / (V * DJU * 24)\n",
      "G_heat = besoin_heat*1000 / (V * DJU_heat * 24)\n",
      "print(\"G_year = \", G_year, \"\\t G_heat = \", G_heat)"
     ],
     "language": "python",
     "metadata": {},
     "outputs": [
      {
       "output_type": "stream",
       "stream": "stdout",
       "text": [
        "G_year =  0.818655292742 \t G_heat =  0.877681668949\n"
       ]
      }
     ],
     "prompt_number": 12
    },
    {
     "cell_type": "heading",
     "level": 2,
     "metadata": {},
     "source": [
      "Conclusion :"
     ]
    },
    {
     "cell_type": "code",
     "collapsed": false,
     "input": [
      "print(\"Energy needs during {1} days is {0} Kwh\".format(int(besoin_year+0.5), len(difference)))\n",
      "print(\"\\nValues for a year :\")\n",
      "print(\"DJU value during {1} days is {0} \u00b0C\".format(int(DJU_heat+0.5), len(heat_period)))\n",
      "print(\"G value during {1} days is {0} W/m3.\u00b0C\".format(G_year, len(heat_period)))"
     ],
     "language": "python",
     "metadata": {},
     "outputs": [
      {
       "output_type": "stream",
       "stream": "stdout",
       "text": [
        "Energy needs during 365 days is 10630 Kwh\n",
        "\n",
        "Values for a year :\n",
        "DJU value during 232 days is 2767 \u00b0C\n",
        "G value during 232 days is 0.8186552927421753 W/m3.\u00b0C\n"
       ]
      }
     ],
     "prompt_number": 14
    },
    {
     "cell_type": "code",
     "collapsed": false,
     "input": [
      "print(\"Energy needs during {1} days is {0} Kwh\".format(int(besoin_heat+0.5), len(heat_period)))\n",
      "print(\"\\nValues for a year :\")\n",
      "print(\"DJU value during {1} days is {0} \u00b0C\".format(int(DJU_heat+0.5), len(heat_period)))\n",
      "print(\"G value during {1} days is {0} W/m3.\u00b0C\".format(G_heat, len(heat_period)))"
     ],
     "language": "python",
     "metadata": {},
     "outputs": [
      {
       "output_type": "stream",
       "stream": "stdout",
       "text": [
        "Energy needs during 232 days is 10624 Kwh\n",
        "\n",
        "Values for a year :\n",
        "DJU value during 232 days is 2767 \u00b0C\n",
        "G value during 232 days is 0.8776816689491028 W/m3.\u00b0C\n"
       ]
      }
     ],
     "prompt_number": 15
    }
   ],
   "metadata": {}
  }
 ]
}