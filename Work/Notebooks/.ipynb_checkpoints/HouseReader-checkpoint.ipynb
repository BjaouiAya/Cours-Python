{
 "metadata": {
  "name": "",
  "signature": "sha256:75eb154c56667e4f148911684f3333e16b40a1d61764cc55d530a23b6f90aa3d"
 },
 "nbformat": 3,
 "nbformat_minor": 0,
 "worksheets": []
}