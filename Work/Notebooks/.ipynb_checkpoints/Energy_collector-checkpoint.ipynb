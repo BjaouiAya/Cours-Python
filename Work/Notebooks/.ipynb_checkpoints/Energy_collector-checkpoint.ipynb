{
 "metadata": {
  "name": ""
 },
 "nbformat": 3,
 "nbformat_minor": 0,
 "worksheets": [
  {
   "cells": [
    {
     "cell_type": "code",
     "collapsed": false,
     "input": [
      "import pandas as pd\n",
      "import matplotlib.pyplot as plt\n",
      "%matplotlib\n",
      "import numpy as np\n",
      "import datetime as dt"
     ],
     "language": "python",
     "metadata": {},
     "outputs": [
      {
       "output_type": "stream",
       "stream": "stdout",
       "text": [
        "Using matplotlib backend: Qt4Agg\n"
       ]
      }
     ],
     "prompt_number": 216
    },
    {
     "cell_type": "code",
     "collapsed": false,
     "input": [
      "cd \"C:\\Users\\bois\\Documents\\Dymola\\Data\\raw\""
     ],
     "language": "python",
     "metadata": {},
     "outputs": [
      {
       "output_type": "stream",
       "stream": "stdout",
       "text": [
        "C:\\Users\\bois\\Documents\\Dymola\\Data\\raw\n"
       ]
      }
     ],
     "prompt_number": 217
    },
    {
     "cell_type": "code",
     "collapsed": false,
     "input": [
      "def to_celsius(struct, column):\n",
      "    \"\"\"\n",
      "        Kelvin temperature into Celsius inside struct[column].\n",
      "          - struct is a panda dataFrame\n",
      "          - column is a panda dataFrame column name\n",
      "    \"\"\"\n",
      "    struct[column] -= 273.15\n",
      "    \n",
      "def to_KWh(struct, column):\n",
      "    \"\"\"\n",
      "        Joules into KWh inside struct[column].\n",
      "          - struct is a panda dataFrame\n",
      "          - column is a panda dataFrame column name\n",
      "    \"\"\"\n",
      "    struct[column] /= 1000.*3600."
     ],
     "language": "python",
     "metadata": {},
     "outputs": [],
     "prompt_number": 218
    },
    {
     "cell_type": "code",
     "collapsed": false,
     "input": [
      "def remove_duplicate(struct):\n",
      "    \"\"\"\n",
      "        Removes all duplicated rows according to index column\n",
      "          - struct is a panda dataFrame\n",
      "    \"\"\"\n",
      "    print(\"\\nRemoves Duplicated rows from <{}> column\".format(struct.index.name))\n",
      "    before = len(struct.index)\n",
      "    struct = struct.groupby(struct.index).last()\n",
      "    after = len(struct.index)\n",
      "    # Forces the field to be right-aligned within the available space\n",
      "    print(\"Before treatment : {0:{fill}{align}6} rows\".format(before,\n",
      "                                                              fill=\" \",\n",
      "                                                              align=\">\"))\n",
      "    print(\"After treatment  : {0:{fill}{align}6} rows\".format(after,\n",
      "                                                              fill=\" \",\n",
      "                                                              align=\">\"))\n",
      "    print(\"-\"*10 + \">\" + \" \"*7 +\n",
      "          \" {0:{fill}{align}6} removed\\n\".format(before-after,\n",
      "                                                 fill=\" \",\n",
      "                                                 align=\">\"))\n",
      "    # Return reorganized struct\n",
      "    return struct"
     ],
     "language": "python",
     "metadata": {},
     "outputs": [],
     "prompt_number": 219
    },
    {
     "cell_type": "code",
     "collapsed": false,
     "input": [
      "def rm_double(array, base=18):\n",
      "    \"\"\"\n",
      "        Return a generator expression of DJU according to base value\n",
      "    \"\"\"\n",
      "    for el in range(1, len(array)):\n",
      "        if array[el-1] != array[el]:\n",
      "            yield base - array[el]"
     ],
     "language": "python",
     "metadata": {},
     "outputs": [],
     "prompt_number": 220
    },
    {
     "cell_type": "code",
     "collapsed": false,
     "input": [
      "structure = pd.read_csv(\"bad.csv\", skiprows=1, delimiter=\",\", names=(\"Date\", \"Tair\", \"Power\", \"Energy\",\n",
      "                                                                     \"Text\", \"Tmini\", \"Tmoy\"))"
     ],
     "language": "python",
     "metadata": {},
     "outputs": [],
     "prompt_number": 221
    },
    {
     "cell_type": "code",
     "collapsed": false,
     "input": [
      "to_celsius(structure, \"Tair\")\n",
      "to_celsius(structure, \"Text\")\n",
      "to_celsius(structure, \"Tmini\")\n",
      "to_celsius(structure, \"Tmoy\")\n",
      "to_KWh(structure, \"Energy\")"
     ],
     "language": "python",
     "metadata": {},
     "outputs": [],
     "prompt_number": 222
    },
    {
     "cell_type": "code",
     "collapsed": false,
     "input": [
      "structure = remove_duplicate(structure)"
     ],
     "language": "python",
     "metadata": {},
     "outputs": [
      {
       "output_type": "stream",
       "stream": "stdout",
       "text": [
        "\n",
        "Removes Duplicated rows from <None> column\n",
        "Before treatment : 140164 rows\n",
        "After treatment  : 140164 rows\n",
        "---------->             0 removed\n",
        "\n"
       ]
      }
     ],
     "prompt_number": 223
    },
    {
     "cell_type": "code",
     "collapsed": false,
     "input": [
      "# Add max temperature of the day to data structure\n",
      "structure[\"Tmax\"] = pd.Series(structure[\"Tmoy\"]*2 - structure[\"Tmini\"], index=structure.index)"
     ],
     "language": "python",
     "metadata": {},
     "outputs": [],
     "prompt_number": 224
    },
    {
     "cell_type": "code",
     "collapsed": false,
     "input": [
      "# Here we have Tmoy for all the years without duplicated values\n",
      "result = np.array([el for el in rm_double(structure[\"Tmoy\"])])"
     ],
     "language": "python",
     "metadata": {},
     "outputs": [],
     "prompt_number": 225
    },
    {
     "cell_type": "code",
     "collapsed": false,
     "input": [
      "\n",
      "# Here we have all DJU (full year)\n",
      "DJU = np.sum(result[np.where(result > 0)])\n",
      "DJU, len(result)"
     ],
     "language": "python",
     "metadata": {},
     "outputs": [
      {
       "metadata": {},
       "output_type": "pyout",
       "prompt_number": 226,
       "text": [
        "(2968.6429999999923, 365)"
       ]
      }
     ],
     "prompt_number": 226
    },
    {
     "cell_type": "code",
     "collapsed": false,
     "input": [
      "# Heating period computing\n",
      "ref = dt.datetime(2014, 1, 1)\n",
      "start, end = dt.datetime(2014, 10, 1), dt.datetime(2014, 5, 20)\n",
      "end = ((end - ref).total_seconds()) / (3600*24)\n",
      "start = ((start - ref).total_seconds()) / (3600*24)\n",
      "print(\"start = \", start, \"\\t end = \", end)"
     ],
     "language": "python",
     "metadata": {},
     "outputs": [
      {
       "output_type": "stream",
       "stream": "stdout",
       "text": [
        "start =  273.0 \t end =  139.0\n"
       ]
      }
     ],
     "prompt_number": 227
    },
    {
     "cell_type": "code",
     "collapsed": false,
     "input": [
      "heat_period = np.concatenate([result[:end+1], result[start:]])\n",
      "# Here we have all DJU (heating period)\n",
      "DJU_heat = np.sum(heat_period)\n",
      "DJU_heat, len(heat_period)"
     ],
     "language": "python",
     "metadata": {},
     "outputs": [
      {
       "metadata": {},
       "output_type": "pyout",
       "prompt_number": 228,
       "text": [
        "(2767.4459999999931, 232)"
       ]
      }
     ],
     "prompt_number": 228
    },
    {
     "cell_type": "code",
     "collapsed": false,
     "input": [
      "# Compute energy needed\n",
      "besoin_year = structure[\"Energy\"][len(structure[\"Energy\"])-1]\n",
      "besoin_heat = besoin_year - (structure[\"Energy\"][start] - structure[\"Energy\"][end+1])\n",
      "besoin_year, besoin_heat"
     ],
     "language": "python",
     "metadata": {},
     "outputs": [
      {
       "metadata": {},
       "output_type": "pyout",
       "prompt_number": 229,
       "text": [
        "(10658.277777777777, 10645.062166666667)"
       ]
      }
     ],
     "prompt_number": 229
    },
    {
     "cell_type": "code",
     "collapsed": false,
     "input": [
      "# Volume\n",
      "V = 67.5 * 2.7\n",
      "\n",
      "# Volumique loses\n",
      "G_year = besoin_year*1000 / (V * DJU * 24)\n",
      "G_heat = besoin_heat*1000 / (V * DJU_heat * 24)\n",
      "print(\"G_year = \", G_year, \"\\t G_heat = \", G_heat)"
     ],
     "language": "python",
     "metadata": {},
     "outputs": [
      {
       "output_type": "stream",
       "stream": "stdout",
       "text": [
        "G_year =  0.820824445957 \t G_heat =  0.879407708046\n"
       ]
      }
     ],
     "prompt_number": 230
    },
    {
     "cell_type": "heading",
     "level": 1,
     "metadata": {},
     "source": [
      "Conclusion :"
     ]
    },
    {
     "cell_type": "code",
     "collapsed": false,
     "input": [
      "print(\"Energy needs during {1} days is {0} Kwh\".format(int(besoin_year+0.5), len(heat_period)))\n",
      "print(\"\\nValues for a year :\")\n",
      "print(\"DJU value during {1} days is {0} \u00b0C\".format(int(DJU_heat+0.5), len(heat_period)))\n",
      "print(\"G value during {1} days is {0} W/m3.\u00b0C\".format(G_heat, len(heat_period)))"
     ],
     "language": "python",
     "metadata": {},
     "outputs": [
      {
       "output_type": "stream",
       "stream": "stdout",
       "text": [
        "Energy needs during 232 days is 10658 Kwh\n",
        "\n",
        "Values for a year :\n",
        "DJU value during 232 days is 2767 \u00b0C\n",
        "G value during 232 days is 0.8794077080464965 W/m3.\u00b0C\n"
       ]
      }
     ],
     "prompt_number": 231
    },
    {
     "cell_type": "code",
     "collapsed": false,
     "input": [
      "print(\"Energy needs during {1} days is {0} Kwh\".format(int(besoin_heat+0.5), len(heat_period)))\n",
      "print(\"\\nValues for a year :\")\n",
      "print(\"DJU value during {1} days is {0} \u00b0C\".format(int(DJU_heat+0.5), len(heat_period)))\n",
      "print(\"G value during {1} days is {0} W/m3.\u00b0C\".format(G_heat, len(heat_period)))"
     ],
     "language": "python",
     "metadata": {},
     "outputs": [
      {
       "output_type": "stream",
       "stream": "stdout",
       "text": [
        "Energy needs during 232 days is 10645 Kwh\n",
        "\n",
        "Values for a year :\n",
        "DJU value during 232 days is 2767 \u00b0C\n",
        "G value during 232 days is 0.8794077080464965 W/m3.\u00b0C\n"
       ]
      }
     ],
     "prompt_number": 232
    }
   ],
   "metadata": {}
  }
 ]
}