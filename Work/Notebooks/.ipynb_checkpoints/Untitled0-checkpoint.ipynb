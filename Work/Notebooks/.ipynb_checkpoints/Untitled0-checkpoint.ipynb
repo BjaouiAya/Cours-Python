{
 "metadata": {
  "name": "",
  "signature": "sha256:f554ef504e323135f31734137ce938498593a2e30216db3ef7d525751c7392b1"
 },
 "nbformat": 3,
 "nbformat_minor": 0,
 "worksheets": []
}