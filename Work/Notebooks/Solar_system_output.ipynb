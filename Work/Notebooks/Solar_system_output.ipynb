{
 "metadata": {
  "name": "",
  "signature": "sha256:6668b949bb8a685cfa6c6b52e1e096ebbc6ac5a2296bc171242a2252c77843f0"
 },
 "nbformat": 3,
 "nbformat_minor": 0,
 "worksheets": [
  {
   "cells": [
    {
     "cell_type": "heading",
     "level": 1,
     "metadata": {},
     "source": [
      "Solar system simulation treatment"
     ]
    },
    {
     "cell_type": "code",
     "collapsed": false,
     "input": [
      "import pandas as pd\n",
      "import numpy as np\n",
      "import datetime\n",
      "import matplotlib\n",
      "\n",
      "from matplotlib.patches import Ellipse, Polygon  # Used to draw shapes inside plots\n",
      "from matplotlib.dates import MinuteLocator, DateFormatter, SecondLocator"
     ],
     "language": "python",
     "metadata": {},
     "outputs": [],
     "prompt_number": 1
    },
    {
     "cell_type": "code",
     "collapsed": false,
     "input": [
      "import matplotlib.pyplot as plt\n",
      "%matplotlib qt"
     ],
     "language": "python",
     "metadata": {},
     "outputs": [],
     "prompt_number": 2
    },
    {
     "cell_type": "heading",
     "level": 2,
     "metadata": {},
     "source": [
      "Fonctions"
     ]
    },
    {
     "cell_type": "code",
     "collapsed": false,
     "input": [
      "def convert_to_datetime(step, start=datetime.datetime(2014, 1, 1)):\n",
      "    \"\"\"\n",
      "      This parser convert to a real datetime format\n",
      "    \"\"\"\n",
      "    for el in step:\n",
      "        yield start + datetime.timedelta(seconds=int(el))"
     ],
     "language": "python",
     "metadata": {},
     "outputs": [],
     "prompt_number": 3
    },
    {
     "cell_type": "code",
     "collapsed": false,
     "input": [
      "def data_steps_iterator(dataframe, start=0, steps=[], interval=None):\n",
      "    \"\"\"\n",
      "        Create an iterator to treat a dataframe by parts\n",
      "        \n",
      "        example :\n",
      "            start=0\n",
      "            steps=[el*48 for el in (31, 28, 31, 30, 31, 30, 31, 31, 30, 31, 30, 31)]\n",
      "            interval=12\n",
      "        --> Month dataframe iterator\n",
      "    \"\"\"\n",
      "    end = start + steps[0]\n",
      "    yield dataframe[start:end]\n",
      "    for el in range(interval-1):\n",
      "        start = end\n",
      "        end += steps[el+1]\n",
      "        yield dataframe[start:end]"
     ],
     "language": "python",
     "metadata": {},
     "outputs": [],
     "prompt_number": 4
    },
    {
     "cell_type": "code",
     "collapsed": false,
     "input": [
      "def set_boxes(box, colors=('#268bd2', '#002b36', '#268bd2', '#268bd2', '#dc322f'),\n",
      "                   linewidth=(1.5, 1, 1, 0.5, 1), marker=1): \n",
      "    \"\"\"\n",
      "        Change boxplot color structure\n",
      "        current display colors are : ('blue', 'black', 'blue', 'blue', 'red')\n",
      "    \"\"\"\n",
      "    plt.setp(box['boxes'], color=colors[0], linewidth=linewidth[0])  # boxes \n",
      "    plt.setp(box['caps'], color=colors[1], linewidth=linewidth[1])  # limits \n",
      "    plt.setp(box['whiskers'], color=colors[2], linewidth=linewidth[2])  # points \n",
      "    plt.setp(box['fliers'], color=colors[3], linewidth=linewidth[3],\n",
      "             marker=marker)  # markers\n",
      "    plt.setp(box['medians'], color=colors[4], linewidth=linewidth[4])  # medians "
     ],
     "language": "python",
     "metadata": {},
     "outputs": [],
     "prompt_number": 5
    },
    {
     "cell_type": "code",
     "collapsed": false,
     "input": [
      "# Not working !!!\n",
      "# def color_boxes(box_plot, numBoxes, facecolor):\n",
      "#     \"\"\"\n",
      "#         Iterate (numBoxes iterations) over box_plot['boxes'] coordinates to draw\n",
      "#         a polygon which matched box plot boxes.\n",
      "#         Can be used to change boxes background color\n",
      "#     \"\"\"\n",
      "#     for i in range(numBoxes):\n",
      "#         box = box_plot['boxes'][i]\n",
      "#         boxX = (box.get_xdata()[j] for j in range(5))\n",
      "#         boxY = (box.get_ydata()[j] for j in range(5))\n",
      "#         yield Polygon(zip(boxX, boxY), facecolor=facecolor)"
     ],
     "language": "python",
     "metadata": {},
     "outputs": [],
     "prompt_number": 6
    },
    {
     "cell_type": "heading",
     "level": 2,
     "metadata": {},
     "source": [
      "Matplotlib parameters"
     ]
    },
    {
     "cell_type": "code",
     "collapsed": false,
     "input": [
      "# Change font properties\n",
      "font_base = {'family' : 'serif',\n",
      "             'size'   : 13}\n",
      "font_title = {'size'   : 18,\n",
      "              'family':'Anonymous Pro'}\n",
      "font_mainTitle = {'color': '#002b36',\n",
      "                  'weight': 'bold',\n",
      "                  'size': '25',\n",
      "                  'family': 'Anonymous Pro'}\n",
      "\n",
      "# Change default label settings\n",
      "matplotlib.rc('font', **font_base)\n",
      "matplotlib.rc('xtick', labelsize=10) \n",
      "matplotlib.rc('ytick', labelsize=10)\n",
      "matplotlib.rc('legend', fontsize=10)\n",
      "matplotlib.rc('legend', labelspacing=0.2)\n",
      "\n",
      "# font = matplotlib.font_manager.FontProperties(family='Tahoma', size=12)\n",
      "# matplotlib.rc('annotate', fontproperties=font)\n",
      "\n",
      "# Adding artist element\n",
      "el = Ellipse((2, -1), 0.5, 0.5)\n",
      "\n",
      "# Formatter\n",
      "minutes = MinuteLocator(interval=4)\n",
      "minutes_formatter = DateFormatter(\"%M:%S\")\n",
      "\n",
      "secondes = SecondLocator(interval=10)\n",
      "secondes_formatter = DateFormatter(\"%M:%S\")\n",
      "\n",
      "matplotlib.use('Qt4Agg')\n",
      "matplotlib.rcParams['backend.qt4']='PySide'"
     ],
     "language": "python",
     "metadata": {},
     "outputs": [],
     "prompt_number": 7
    },
    {
     "cell_type": "heading",
     "level": 2,
     "metadata": {},
     "source": [
      "Treatment"
     ]
    },
    {
     "cell_type": "code",
     "collapsed": false,
     "input": [
      "# Month variation of temperatures\n",
      "months = (31, 28, 31, 30, 31, 30, 31, 31, 30, 31, 30, 31)\n",
      "# Here select folder\n",
      "%cd \"D:\\GitHub\\SolarSystem\\Outputs\\clean\""
     ],
     "language": "python",
     "metadata": {},
     "outputs": [
      {
       "output_type": "stream",
       "stream": "stdout",
       "text": [
        "D:\\GitHub\\SolarSystem\\Outputs\\clean\n"
       ]
      }
     ],
     "prompt_number": 8
    },
    {
     "cell_type": "heading",
     "level": 3,
     "metadata": {},
     "source": [
      "Chambery"
     ]
    },
    {
     "cell_type": "code",
     "collapsed": false,
     "input": [
      "chambery_csv = 'chambery_30062014.csv'\n",
      "# Your Dataframe structure\n",
      "chambery = pd.read_csv(chambery_csv, skiprows=1, delimiter=\";\", index_col=\"Date\")\n",
      "# Convert to datetime index\n",
      "chambery.index = [ind for ind in convert_to_datetime(chambery.index)]\n",
      "# Removes duplicated values\n",
      "chambery = chambery.groupby(chambery.index).last()\n",
      "chambery_all = chambery\n",
      "# Resample to keep only one value each 30min (reduce data treatment and increase speed)\n",
      "chambery = chambery[:].resample('30min').interpolate()\n",
      "# Resample to have one value per incrementation (here per month)\n",
      "chambery_month = chambery[:].resample('1m')\n",
      "type(chambery.index)"
     ],
     "language": "python",
     "metadata": {},
     "outputs": [
      {
       "metadata": {},
       "output_type": "pyout",
       "prompt_number": 9,
       "text": [
        "pandas.tseries.index.DatetimeIndex"
       ]
      }
     ],
     "prompt_number": 9
    },
    {
     "cell_type": "code",
     "collapsed": false,
     "input": [
      "chambery.index[-1863]  #-1863"
     ],
     "language": "python",
     "metadata": {},
     "outputs": [
      {
       "metadata": {},
       "output_type": "pyout",
       "prompt_number": 10,
       "text": [
        "Timestamp('2014-11-25 13:00:00', offset='30T')"
       ]
      }
     ],
     "prompt_number": 10
    },
    {
     "cell_type": "code",
     "collapsed": false,
     "input": [
      "# Store dataframe values of each months inside a tuple \n",
      "T3_T4_T5_ch = tuple(el for el in data_steps_iterator(chambery[['T3', 'T4', 'T5']],\n",
      "                                                     steps=[el*48 for el in months],\n",
      "                                                     interval=12))\n",
      "T1_Tint_ch = [el for el in data_steps_iterator(chambery[['T1', 'T12_house']],\n",
      "                                               steps=[el*48 for el in months],\n",
      "                                               interval=12)]\n",
      "\n",
      "Hdif_Hdir_ch = [el for el in data_steps_iterator(chambery[['HDifHor', 'HDirNor',\n",
      "                                                            'HDifTil_collector',\n",
      "                                                            'HDirTil_collector']],\n",
      "                                                 steps=[el*48 for el in months],\n",
      "                                                 interval=12)]\n",
      "# Keep only daily sun values (8h to 18h30)\n",
      "for i in range(len(Hdif_Hdir_ch)):\n",
      "    Hdif_Hdir_ch[i] = Hdif_Hdir_ch[i].loc[Hdif_Hdir_ch[i].index.hour <= 18]\n",
      "    Hdif_Hdir_ch[i] = Hdif_Hdir_ch[i].loc[Hdif_Hdir_ch[i].index.hour >= 9]\n",
      "for i in range(len(T1_Tint_ch)):\n",
      "    T1_Tint_ch[i] = T1_Tint_ch[i].loc[T1_Tint_ch[i].index.hour <= 18]\n",
      "    T1_Tint_ch[i] = T1_Tint_ch[i].loc[T1_Tint_ch[i].index.hour >= 9]\n",
      "len(chambery_month), len(T3_T4_T5_ch), len(T1_Tint_ch), len(Hdif_Hdir_ch)  # Testing"
     ],
     "language": "python",
     "metadata": {},
     "outputs": [
      {
       "metadata": {},
       "output_type": "pyout",
       "prompt_number": 11,
       "text": [
        "(13, 12, 12, 12)"
       ]
      }
     ],
     "prompt_number": 11
    },
    {
     "cell_type": "heading",
     "level": 3,
     "metadata": {},
     "source": [
      "Marseille"
     ]
    },
    {
     "cell_type": "code",
     "collapsed": false,
     "input": [
      "marseille_csv = 'marseille_30062014.csv'\n",
      "# Your Dataframe structure\n",
      "marseille = pd.read_csv(marseille_csv, skiprows=1, delimiter=\";\", index_col=\"Date\")\n",
      "# Convert to datetime index\n",
      "marseille.index = [ind for ind in convert_to_datetime(marseille.index)]\n",
      "# Removes duplicated values\n",
      "marseille = marseille.groupby(marseille.index).last()\n",
      "marseille_all = marseille\n",
      "# Resample to keep only one value each 30min (reduce data treatment and increase speed)\n",
      "marseille = marseille[:].resample('30min').interpolate()\n",
      "# Resample to have one value per incrementation (here per month)\n",
      "marseille_month = marseille[:].resample('1m')\n",
      "type(marseille.index)"
     ],
     "language": "python",
     "metadata": {},
     "outputs": [
      {
       "metadata": {},
       "output_type": "pyout",
       "prompt_number": 12,
       "text": [
        "pandas.tseries.index.DatetimeIndex"
       ]
      }
     ],
     "prompt_number": 12
    },
    {
     "cell_type": "code",
     "collapsed": false,
     "input": [
      "# Store dataframe values of each months inside a tuple \n",
      "T3_T4_T5_ma = [el for el in data_steps_iterator(marseille[['T3', 'T4', 'T5']],\n",
      "                                                     steps=[el*48 for el in months],\n",
      "                                                     interval=12)]\n",
      "T1_Tint_ma = [el for el in data_steps_iterator(marseille[['T1', 'T12_house']],\n",
      "                                               steps=[el*48 for el in months],\n",
      "                                               interval=12)]\n",
      "\n",
      "Hdif_Hdir_ma = [el for el in data_steps_iterator(marseille[['HDifHor', 'HDirNor',\n",
      "                                                            'HDifTil_collector',\n",
      "                                                            'HDirTil_collector']],\n",
      "                                                 steps=[el*48 for el in months],\n",
      "                                                 interval=12)]\n",
      "# Keep only daily sun values (8h to 18h30)\n",
      "for i in range(len(Hdif_Hdir_ma)):\n",
      "    Hdif_Hdir_ma[i] = Hdif_Hdir_ma[i].loc[Hdif_Hdir_ma[i].index.hour <= 18]\n",
      "    Hdif_Hdir_ma[i] = Hdif_Hdir_ma[i].loc[Hdif_Hdir_ma[i].index.hour >= 9]\n",
      "for i in range(len(T1_Tint_ma)):\n",
      "    T1_Tint_ma[i] = T1_Tint_ma[i].loc[T1_Tint_ma[i].index.hour <= 18]\n",
      "    T1_Tint_ma[i] = T1_Tint_ma[i].loc[T1_Tint_ma[i].index.hour >= 9]\n",
      "len(marseille_month), len(T3_T4_T5_ma), len(T1_Tint_ma), len(Hdif_Hdir_ma)  # Testing"
     ],
     "language": "python",
     "metadata": {},
     "outputs": [
      {
       "metadata": {},
       "output_type": "pyout",
       "prompt_number": 13,
       "text": [
        "(13, 12, 12, 12)"
       ]
      }
     ],
     "prompt_number": 13
    },
    {
     "cell_type": "heading",
     "level": 2,
     "metadata": {},
     "source": [
      "Csv / Dataframe fields"
     ]
    },
    {
     "cell_type": "code",
     "collapsed": false,
     "input": [
      "# Csv columns names\n",
      "for i, col in enumerate(chambery.columns):\n",
      "    print(\"column {} \\t\\t{}\".format(i, col))"
     ],
     "language": "python",
     "metadata": {},
     "outputs": [
      {
       "output_type": "stream",
       "stream": "stdout",
       "text": [
        "column 0 \t\tT1\n",
        "column 1 \t\tT2\n",
        "column 2 \t\tT3\n",
        "column 3 \t\tT4\n",
        "column 4 \t\tT5\n",
        "column 5 \t\tT7\n",
        "column 6 \t\tT8\n",
        "column 7 \t\tT9_ext\n",
        "column 8 \t\tT12_house\n",
        "column 9 \t\tS6_state\n",
        "column 10 \t\tS5_state\n",
        "column 11 \t\tS4_state\n",
        "column 12 \t\tS2_state\n",
        "column 13 \t\tFlow_S6\n",
        "column 14 \t\tFlow_S5\n",
        "column 15 \t\tFlow_S4\n",
        "column 16 \t\tFlow_S2\n",
        "column 17 \t\tVextra_state\n",
        "column 18 \t\tVsolar_state\n",
        "column 19 \t\tCHAUFF_state\n",
        "column 20 \t\tECS_state\n",
        "column 21 \t\tBackup_algo_state\n",
        "column 22 \t\tBackup_state\n",
        "column 23 \t\tFlow_Collector\n",
        "column 24 \t\tFlow_ExchTank_bot\n",
        "column 25 \t\tFlow_ExchTank_top\n",
        "column 26 \t\tFlow_ExchStorTank\n",
        "column 27 \t\tFlow_Boiler\n",
        "column 28 \t\tHDifHor\n",
        "column 29 \t\tHDirNor\n",
        "column 30 \t\tHDifTil_collector\n",
        "column 31 \t\tHDirTil_collector\n",
        "column 32 \t\tCollector_Energy\n",
        "column 33 \t\tBoiler_Energy\n",
        "column 34 \t\tRadiator_Energy\n",
        "column 35 \t\tDrawingUp_Energy\n"
       ]
      }
     ],
     "prompt_number": 14
    },
    {
     "cell_type": "code",
     "collapsed": false,
     "input": [
      "np.max(T1_Tint_ch[8]['T1'])"
     ],
     "language": "python",
     "metadata": {},
     "outputs": [
      {
       "metadata": {},
       "output_type": "pyout",
       "prompt_number": 15,
       "text": [
        "108.43562499999997"
       ]
      }
     ],
     "prompt_number": 15
    },
    {
     "cell_type": "heading",
     "level": 2,
     "metadata": {},
     "source": [
      "Box plot"
     ]
    },
    {
     "cell_type": "heading",
     "level": 3,
     "metadata": {},
     "source": [
      "T3 T4 T5"
     ]
    },
    {
     "cell_type": "code",
     "collapsed": false,
     "input": [
      "# Prepare figure and adjust it\n",
      "fig = plt.figure(figsize=(20, 10), facecolor=(0.84, 0.89, 0.9))\n",
      "ax11 = fig.add_subplot(2, 1, 1)\n",
      "ax21 = fig.add_subplot(2, 1, 2, sharex=ax11)\n",
      "fig.subplots_adjust(top=0.85,bottom=0.05,left=0.05,right=0.95)\n",
      "fig.canvas.manager.set_window_title(\"\")\n",
      "text = \"Evolution mensuel de la variation des temp\u00e9ratures des ballons \"\n",
      "plt.figtext(0.5, 0.95, text,\n",
      "            ha='center', fontdict=font_mainTitle)\n",
      "\n",
      "# First row\n",
      "ax11.set_title(label=\"Chambery\", fontdict=font_title)\n",
      "# Draw T3 boxes\n",
      "T3_ch = ax11.boxplot([el['T3'] for el in T3_T4_T5_ch],\n",
      "                  positions=[el for el in range(0, 12*4, 4)], widths = 0.6, whis=1000,\n",
      "                  patch_artist=True)\n",
      "set_boxes(T3_ch, colors=('#268bd2', '#002b36', '#268bd2', '#268bd2', '#dc322f'))\n",
      "# Draw T4 boxes\n",
      "T4_ch = ax11.boxplot([el['T4'] for el in T3_T4_T5_ch],\n",
      "                  positions=[el for el in range(1, 12*4, 4)], widths = 0.6, whis=1000,\n",
      "                  patch_artist=True)\n",
      "set_boxes(T4_ch, colors=('#586e75', '#002b36', '#586e75', '#586e75', '#dc322f'))  \n",
      "# Draw T5 boxes\n",
      "T5_ch = ax11.boxplot([el['T5'] for el in T3_T4_T5_ch],\n",
      "                  positions=[el for el in range(2, 12*4, 4)], widths = 0.6, whis=1000,\n",
      "                  patch_artist=True)\n",
      "set_boxes(T5_ch, colors=('#859900', '#002b36', '#859900', '#859900', '#dc322f'))\n",
      "\n",
      "\n",
      "# Second row\n",
      "ax21.set_title(label=\"Marseille\", fontdict=font_title)\n",
      "# Draw T3 boxes\n",
      "T3_ma = ax21.boxplot([el['T3'] for el in T3_T4_T5_ma],\n",
      "                  positions=[el for el in range(0, 12*4, 4)], widths = 0.6, whis=1000)\n",
      "set_boxes(T3_ma, colors=('#268bd2', '#002b36', '#268bd2', '#268bd2', '#dc322f'))\n",
      "# Draw T4 boxes\n",
      "T4_ma = ax21.boxplot([el['T4'] for el in T3_T4_T5_ma],\n",
      "                  positions=[el for el in range(1, 12*4, 4)], widths = 0.6, whis=1000)\n",
      "set_boxes(T4_ma, colors=('#586e75', '#002b36', '#586e75', '#586e75', '#dc322f')) \n",
      "# Draw T5 boxes\n",
      "T5_ma = ax21.boxplot([el['T5'] for el in T3_T4_T5_ma],\n",
      "                  positions=[el for el in range(2, 12*4, 4)], widths = 0.6, whis=1000)\n",
      "set_boxes(T5_ma, colors=('#859900', '#002b36', '#859900', '#859900', '#dc322f'))\n",
      "\n",
      "\n",
      "# Change xticks values to put xtickslabels between boxes (same tick per boxes pair)\n",
      "ax11.set_xticks([el for el in range(1, 12*4, 4)])\n",
      "ax11.set_xlim((-1, 12*4))\n",
      "ax11.set_xticklabels(['{:%B}'.format(el) for el in chambery_month.index])\n",
      "\n",
      "\n",
      "# Draw temporary lines and use them to create a legend\n",
      "h1, = ax11.plot([1,1], '#268bd2')\n",
      "h2, = ax11.plot([1,1], '#586e75')\n",
      "h3, = ax11.plot([1,1], '#859900')\n",
      "ax11.legend((h1, h2, h3),('T3', 'T4', 'T5'), prop=font_title)\n",
      "h1.set_visible(False)\n",
      "h2.set_visible(False)\n",
      "h3.set_visible(False)\n",
      "\n",
      "# fig.autofmt_xdate(0.1)"
     ],
     "language": "python",
     "metadata": {},
     "outputs": [],
     "prompt_number": 34
    },
    {
     "cell_type": "heading",
     "level": 3,
     "metadata": {},
     "source": [
      "T1 Text"
     ]
    },
    {
     "cell_type": "code",
     "collapsed": false,
     "input": [
      "# Prepare figure and adjust it\n",
      "fig = plt.figure(figsize=(20, 10), facecolor=(0.84, 0.89, 0.9))\n",
      "ax11 = fig.add_subplot(2, 1, 1)\n",
      "ax21 = fig.add_subplot(2, 1, 2, sharex=ax11)\n",
      "fig.subplots_adjust(top=0.85,bottom=0.05,left=0.05,right=0.95)\n",
      "fig.canvas.manager.set_window_title(\"\")\n",
      "text = \"Evolution mensuel de la variation des temp\u00e9ratures\\n\" + \\\n",
      "       \" du collecteur (T1) et du ballon de stockage(T5)\"\n",
      "plt.figtext(0.5, 0.9, text,\n",
      "            ha='center', fontdict=font_mainTitle)\n",
      "\n",
      "\n",
      "# Iterate to Hdif_Hdir to get a specific column of values during sun range\n",
      "# D\u00e9but 8h  Fin 18h30\n",
      "\n",
      "\n",
      "# First row\n",
      "ax11.set_title(label=\"Chambery\", fontdict=font_title)\n",
      "# Draw T1 boxes\n",
      "T1_ch = ax11.boxplot([el['T1'] for el in T1_Tint_ch],\n",
      "                  positions=[el for el in range(0, 12*3, 3)], widths = 0.6, whis=1000)\n",
      "set_boxes(T1_ch, colors=('#268bd2', '#002b36', '#268bd2', '#268bd2', '#dc322f'))\n",
      "# Draw T12 boxes\n",
      "Tint_ch = ax11.boxplot([el['T12_house'] for el in T1_Tint_ch],\n",
      "                  positions=[el for el in range(1, 12*3, 3)], widths = 0.6, whis=1000)\n",
      "set_boxes(Tint_ch, colors=('#586e75', '#002b36', '#586e75', '#586e75', '#dc322f'))\n",
      "\n",
      "\n",
      "# Second row\n",
      "ax21.set_title(label=\"Marseille\", fontdict=font_title)\n",
      "# Draw T1 boxes\n",
      "T1_ma = ax21.boxplot([el['T1'] for el in T1_Tint_ma],\n",
      "                  positions=[el for el in range(0, 12*3, 3)], widths = 0.6, whis=1000)\n",
      "set_boxes(T1_ma, colors=('#268bd2', '#002b36', '#268bd2', '#268bd2', '#dc322f'))\n",
      "# Draw T12 boxes\n",
      "Tint_ma = ax21.boxplot([el['T12_house'] for el in T1_Tint_ma],\n",
      "                  positions=[el for el in range(1, 12*3, 3)], widths = 0.6, whis=1000)\n",
      "set_boxes(Tint_ma, colors=('#586e75', '#002b36', '#586e75', '#586e75', '#dc322f'))\n",
      "\n",
      "\n",
      "# Change xticks values to put xtickslabels between boxes (same tick per boxes pair)\n",
      "ax11.set_xticks(np.linspace(.5, 33.5, 12))  # float range\n",
      "ax11.set_xlim((-1, 12*3))\n",
      "ax11.set_xticklabels(['{:%B}'.format(el) for el in chambery_month.index])\n",
      "\n",
      "# Draw temporary lines and use them to create a legend\n",
      "h1, = ax11.plot([1,1], '#268bd2')\n",
      "h2, = ax11.plot([1,1], '#586e75')\n",
      "ax11.legend((h1, h2),('T1', 'Tint'), prop=font_title)\n",
      "h1.set_visible(False)\n",
      "h2.set_visible(False)\n",
      "\n",
      "fig.autofmt_xdate(0.1)"
     ],
     "language": "python",
     "metadata": {},
     "outputs": [],
     "prompt_number": 72
    },
    {
     "cell_type": "heading",
     "level": 3,
     "metadata": {},
     "source": [
      "Rayonnement diffus et direct"
     ]
    },
    {
     "cell_type": "code",
     "collapsed": false,
     "input": [
      "# Prepare figure and adjust it\n",
      "fig = plt.figure(figsize=(20, 10), facecolor=(0.84, 0.89, 0.9))\n",
      "ax11 = fig.add_subplot(2, 1, 1)\n",
      "ax21 = fig.add_subplot(2, 1, 2, sharex=ax11)\n",
      "fig.subplots_adjust(top=0.85,bottom=0.05,left=0.05,right=0.95)\n",
      "fig.canvas.manager.set_window_title(\"\")\n",
      "text = \"Evolution mensuel de la variation du rayonnement\\n\" + \\\n",
      "       \" diffus (Hdif) et direct(Hdir)\"\n",
      "plt.figtext(0.5, 0.9, text,\n",
      "            ha='center', fontdict=font_mainTitle)\n",
      "\n",
      "\n",
      "# Iterate to Hdif_Hdir to get a specific column of values during sun range\n",
      "# D\u00e9but 8h  Fin 18h30\n",
      "\n",
      "\n",
      "# First row\n",
      "ax11.set_title(label=\"Chambery\", fontdict=font_title)\n",
      "# Draw hdif boxes\n",
      "hdif_ch = ax11.boxplot([el['HDifHor'] for el in Hdif_Hdir_ch],\n",
      "                       positions=[el for el in range(0, 12*3, 3)], widths = 0.6, whis=1000)\n",
      "set_boxes(hdif_ch, colors=('#268bd2', '#002b36', '#268bd2', '#268bd2', '#dc322f'))\n",
      "# Draw hdir boxes\n",
      "hdir_ch = ax11.boxplot([el['HDirNor'] for el in Hdif_Hdir_ch],\n",
      "                       positions=[el for el in range(1, 12*3, 3)], widths = 0.6, whis=1000)\n",
      "set_boxes(hdir_ch, colors=('#586e75', '#002b36', '#586e75', '#586e75', '#dc322f'))\n",
      "\n",
      "\n",
      "# Second row\n",
      "ax21.set_title(label=\"Marseille\", fontdict=font_title)\n",
      "# Draw hdif boxes\n",
      "hdif_ma = ax21.boxplot([el['HDifHor'] for el in Hdif_Hdir_ma],\n",
      "                       positions=[el for el in range(0, 12*3, 3)], widths = 0.6, whis=1000)\n",
      "set_boxes(hdif_ma, colors=('#268bd2', '#002b36', '#268bd2', '#268bd2', '#dc322f'))\n",
      "# Draw hdir boxes\n",
      "hdir_ma = ax21.boxplot([el['HDirNor'] for el in Hdif_Hdir_ma],\n",
      "                       positions=[el for el in range(1, 12*3, 3)], widths = 0.6)\n",
      "set_boxes(hdir_ma, colors=('#586e75', '#002b36', '#586e75', '#586e75', '#dc322f'))\n",
      "\n",
      "\n",
      "# Change xticks values to put xtickslabels between boxes (same tick per boxes pair)\n",
      "ax11.set_xticks(np.linspace(.5, 33.5, 12))  # float range\n",
      "ax11.set_xlim((-1, 12*3))\n",
      "ax11.set_ylim((-100, 1000))\n",
      "ax21.set_ylim((-100, 1000))\n",
      "ax11.set_xticklabels(['{:%B}'.format(el) for el in chambery_month.index])\n",
      "\n",
      "\n",
      "# Draw temporary lines and use them to create a legend\n",
      "h1, = ax11.plot([1,1], '#268bd2')\n",
      "h2, = ax11.plot([1,1], '#586e75')\n",
      "ax11.legend((h1, h2),('Hdif', 'Hdir'), prop=font_title)\n",
      "h1.set_visible(False)\n",
      "h2.set_visible(False)\n",
      "\n",
      "fig.autofmt_xdate(0.1)"
     ],
     "language": "python",
     "metadata": {},
     "outputs": [],
     "prompt_number": 32
    },
    {
     "cell_type": "code",
     "collapsed": false,
     "input": [
      "# Prepare figure and adjust it\n",
      "fig = plt.figure(figsize=(20, 10), facecolor=(0.84, 0.89, 0.9))\n",
      "ax11 = fig.add_subplot(2, 1, 1)\n",
      "ax21 = fig.add_subplot(2, 1, 2, sharex=ax11)\n",
      "fig.subplots_adjust(top=0.85,bottom=0.05,left=0.05,right=0.95)\n",
      "fig.canvas.manager.set_window_title(\"\")\n",
      "text = \"Evolution mensuel de la variation du rayonnement\\n\" + \\\n",
      "       \" diffus (Hdif) et direct(Hdir)\"\n",
      "plt.figtext(0.5, 0.9, text,\n",
      "            ha='center', fontdict=font_mainTitle)\n",
      "\n",
      "\n",
      "# Iterate to Hdif_Hdir to get a specific column of values during sun range\n",
      "# D\u00e9but 8h  Fin 18h30\n",
      "\n",
      "\n",
      "# First row\n",
      "ax11.set_title(label=\"Chambery\", fontdict=font_title)\n",
      "# Draw hdif boxes\n",
      "hdif_ch = ax11.boxplot([el['HDifTil_collector'] for el in Hdif_Hdir_ch],\n",
      "                       positions=[el for el in range(0, 12*3, 3)], widths = 0.6, whis=1000)\n",
      "set_boxes(hdif_ch, colors=('#268bd2', '#002b36', '#268bd2', '#268bd2', '#dc322f'))\n",
      "# Draw hdir boxes\n",
      "hdir_ch = ax11.boxplot([el['HDirTil_collector'] for el in Hdif_Hdir_ch],\n",
      "                       positions=[el for el in range(1, 12*3, 3)], widths = 0.6, whis=1000)\n",
      "set_boxes(hdir_ch, colors=('#586e75', '#002b36', '#586e75', '#586e75', '#dc322f'))\n",
      "\n",
      "\n",
      "# Second row\n",
      "ax21.set_title(label=\"Marseille\", fontdict=font_title)\n",
      "# Draw hdif boxes\n",
      "hdif_ma = ax21.boxplot([el['HDifTil_collector'] for el in Hdif_Hdir_ma],\n",
      "                       positions=[el for el in range(0, 12*3, 3)], widths = 0.6, whis=1000)\n",
      "set_boxes(hdif_ma, colors=('#268bd2', '#002b36', '#268bd2', '#268bd2', '#dc322f'))\n",
      "# Draw hdir boxes\n",
      "hdir_ma = ax21.boxplot([el['HDirTil_collector'] for el in Hdif_Hdir_ma],\n",
      "                       positions=[el for el in range(1, 12*3, 3)], widths = 0.6, whis=1000)\n",
      "set_boxes(hdir_ma, colors=('#586e75', '#002b36', '#586e75', '#586e75', '#dc322f'))\n",
      "\n",
      "\n",
      "# Change xticks values to put xtickslabels between boxes (same tick per boxes pair)\n",
      "ax11.set_xticks(np.linspace(.5, 33.5, 12))  # float range\n",
      "ax11.set_xlim((-1, 12*3))\n",
      "ax11.set_ylim((-100, 1000))\n",
      "ax21.set_ylim((-100, 1000))\n",
      "ax11.set_xticklabels(['{:%B}'.format(el) for el in chambery_month.index])\n",
      "\n",
      "\n",
      "# Draw temporary lines and use them to create a legend\n",
      "h1, = ax11.plot([1,1], '#268bd2')\n",
      "h2, = ax11.plot([1,1], '#586e75')\n",
      "ax11.legend((h1, h2),('Hdif', 'Hdir'), prop=font_title)\n",
      "h1.set_visible(False)\n",
      "h2.set_visible(False)\n",
      "\n",
      "fig.autofmt_xdate(0.1)"
     ],
     "language": "python",
     "metadata": {},
     "outputs": [],
     "prompt_number": 31
    },
    {
     "cell_type": "heading",
     "level": 2,
     "metadata": {},
     "source": [
      "Energy printer"
     ]
    },
    {
     "cell_type": "code",
     "collapsed": false,
     "input": [
      "names = {\"Radiator_Energy\", \"DrawingUp_Energy\", \"Pertes\"}"
     ],
     "language": "python",
     "metadata": {},
     "outputs": [],
     "prompt_number": 17
    },
    {
     "cell_type": "heading",
     "level": 3,
     "metadata": {},
     "source": [
      "Chambery"
     ]
    },
    {
     "cell_type": "code",
     "collapsed": false,
     "input": [
      "# Recup Energy fields only\n",
      "chamb = chambery.ix[:, 'Collector_Energy':]\n",
      "# Create a tuple of dataframe. One for each month ---> 12\n",
      "chambs = tuple([el for el in data_steps_iterator(chamb[chamb.columns],\n",
      "                                                 steps=[el*48 for el in months],\n",
      "                                                 interval=12)])\n",
      "# Keep only last month value for each months\n",
      "chambs = [chambs[i][-1:] for i in range(len(chambs))]\n",
      "# Protect from error next cell\n",
      "energy_months_ch = 1"
     ],
     "language": "python",
     "metadata": {},
     "outputs": [],
     "prompt_number": 18
    },
    {
     "cell_type": "code",
     "collapsed": false,
     "input": [
      "if energy_months_ch == 1:    \n",
      "    # Get energy consumption per month\n",
      "    energy_months_ch = (chambs[0],) + tuple(chambs[ind+1] - chambs[ind].values for ind, el in enumerate(chambs[:-1]))\n",
      "    # Check if energy month values accumulated lead to total energy used in a year\n",
      "    assert np.all(sum(el['Collector_Energy'].values for el in energy_months_ch) == \n",
      "              chambs[11]['Collector_Energy'].values), 'Last month value mismatch'\n",
      "    # Check first month energy values \n",
      "    assert np.all(energy_months_ch[0].values == chambs[0].values), \"First month value error\"\n",
      "\n",
      "    for data in energy_months_ch:\n",
      "        # Diurnal overheating inside energy_ch[\"Radiator_Energy\"]. Bad issue ???\n",
      "        data[\"Besoins\"] = (data[\"DrawingUp_Energy\"] + \n",
      "                           data[\"Radiator_Energy\"])\n",
      "        data[\"Consommations\"] = (data[\"Collector_Energy\"] + \n",
      "                                 data[\"Boiler_Energy\"])\n",
      "        data[\"Pertes\"] = data[\"Consommations\"] - data[\"Besoins\"]\n",
      "        data[\"Taux de couverture\"] = (data[\"Collector_Energy\"] /\n",
      "                                     (data[\"Consommations\"]))\n",
      "\n",
      "year_ch = pd.concat([el for el in energy_months_ch])\n",
      "# Pie charts values must be inside the same dataframe column ---> transpose with sum\n",
      "energy_ch = pd.DataFrame(year_ch.sum(), columns=['Full year'])\n",
      "# Update taux de couverture solaire\n",
      "energy_ch[-1:] = (energy_ch[\"Collector_Energy\":\"Collector_Energy\"].values /\n",
      "                 (energy_ch[\"Consommations\":\"Consommations\"].values))\n",
      "energy_ch"
     ],
     "language": "python",
     "metadata": {},
     "outputs": [
      {
       "html": [
        "<div style=\"max-height:1000px;max-width:1500px;overflow:auto;\">\n",
        "<table border=\"1\" class=\"dataframe\">\n",
        "  <thead>\n",
        "    <tr style=\"text-align: right;\">\n",
        "      <th></th>\n",
        "      <th>Full year</th>\n",
        "    </tr>\n",
        "  </thead>\n",
        "  <tbody>\n",
        "    <tr>\n",
        "      <th>Collector_Energy</th>\n",
        "      <td>  3795.250000</td>\n",
        "    </tr>\n",
        "    <tr>\n",
        "      <th>Boiler_Energy</th>\n",
        "      <td> 10664.252941</td>\n",
        "    </tr>\n",
        "    <tr>\n",
        "      <th>Radiator_Energy</th>\n",
        "      <td>  9718.290000</td>\n",
        "    </tr>\n",
        "    <tr>\n",
        "      <th>DrawingUp_Energy</th>\n",
        "      <td>  2039.880000</td>\n",
        "    </tr>\n",
        "    <tr>\n",
        "      <th>Besoins</th>\n",
        "      <td> 11758.170000</td>\n",
        "    </tr>\n",
        "    <tr>\n",
        "      <th>Consommations</th>\n",
        "      <td> 14459.502941</td>\n",
        "    </tr>\n",
        "    <tr>\n",
        "      <th>Pertes</th>\n",
        "      <td>  2701.332941</td>\n",
        "    </tr>\n",
        "    <tr>\n",
        "      <th>Taux de couverture</th>\n",
        "      <td>     0.262474</td>\n",
        "    </tr>\n",
        "  </tbody>\n",
        "</table>\n",
        "</div>"
       ],
       "metadata": {},
       "output_type": "pyout",
       "prompt_number": 19,
       "text": [
        "                       Full year\n",
        "Collector_Energy     3795.250000\n",
        "Boiler_Energy       10664.252941\n",
        "Radiator_Energy      9718.290000\n",
        "DrawingUp_Energy     2039.880000\n",
        "Besoins             11758.170000\n",
        "Consommations       14459.502941\n",
        "Pertes               2701.332941\n",
        "Taux de couverture      0.262474"
       ]
      }
     ],
     "prompt_number": 19
    },
    {
     "cell_type": "code",
     "collapsed": false,
     "input": [
      "besoins_ch = pd.concat([energy_ch[energy_ch.index == specific_name] for specific_name in names])"
     ],
     "language": "python",
     "metadata": {},
     "outputs": [],
     "prompt_number": 20
    },
    {
     "cell_type": "heading",
     "level": 3,
     "metadata": {},
     "source": [
      "Marseille"
     ]
    },
    {
     "cell_type": "code",
     "collapsed": false,
     "input": [
      "# Recup Energy fields only\n",
      "mar = marseille.ix[:, 'Collector_Energy':]\n",
      "# Create a tuple of dtaframe. One for each month ---> 12\n",
      "mars = tuple([el for el in data_steps_iterator(mar[chamb.columns],\n",
      "                                               steps=[el*48 for el in months],\n",
      "                                               interval=12)])\n",
      "# Keep only last month value for each months\n",
      "mars = [mars[i][-1:] for i in range(len(mars))]\n",
      "# Protect from error next cell\n",
      "energy_months_ma = 1"
     ],
     "language": "python",
     "metadata": {},
     "outputs": [],
     "prompt_number": 21
    },
    {
     "cell_type": "code",
     "collapsed": false,
     "input": [
      "if energy_months_ma == 1:   \n",
      "    # Get energy consumption per month\n",
      "    energy_months_ma = (mars[0],) + tuple(mars[ind+1]-mars[ind].values for (ind, el) in enumerate(mars[:-1]))\n",
      "\n",
      "    # Check if energy month values accumulated lead to total energy used in a year\n",
      "    assert np.all(sum(el['Collector_Energy'].values for el in energy_months_ma) == \n",
      "              mars[11]['Collector_Energy'].values), 'Last month value mismatch'\n",
      "    # Check first month energy values \n",
      "    assert np.all(energy_months_ma[0].values == mars[0].values), \"First month value error\"\n",
      "\n",
      "    for data in energy_months_ma:\n",
      "        # Diurne overheating inside energy_ch[\"Radiator_Energy\"]. Bad issue ???\n",
      "        data[\"Besoins\"] = (data[\"DrawingUp_Energy\"] + \n",
      "                           data[\"Radiator_Energy\"])\n",
      "        data[\"Consommations\"] = (data[\"Collector_Energy\"] + \n",
      "                                 data[\"Boiler_Energy\"])\n",
      "        data[\"Pertes\"] = data[\"Consommations\"] - data[\"Besoins\"]\n",
      "        data[\"Taux de couverture\"] = (data[\"Collector_Energy\"] /\n",
      "                                     (data[\"Consommations\"]))\n",
      "\n",
      "year_ma = pd.concat([el for el in energy_months_ma])\n",
      "# Pie charts values must be inside the same dataframe column ---> transpose with sum\n",
      "energy_ma = pd.DataFrame(year_ma.sum(), columns=['Full year'])\n",
      "# Update taux de couverture solaire\n",
      "energy_ma[-1:] = (energy_ma[\"Collector_Energy\":\"Collector_Energy\"].values /\n",
      "                    (energy_ma[\"Consommations\":\"Consommations\"].values))\n",
      "energy_ma"
     ],
     "language": "python",
     "metadata": {},
     "outputs": [
      {
       "html": [
        "<div style=\"max-height:1000px;max-width:1500px;overflow:auto;\">\n",
        "<table border=\"1\" class=\"dataframe\">\n",
        "  <thead>\n",
        "    <tr style=\"text-align: right;\">\n",
        "      <th></th>\n",
        "      <th>Full year</th>\n",
        "    </tr>\n",
        "  </thead>\n",
        "  <tbody>\n",
        "    <tr>\n",
        "      <th>Collector_Energy</th>\n",
        "      <td> 5068.080000</td>\n",
        "    </tr>\n",
        "    <tr>\n",
        "      <th>Boiler_Energy</th>\n",
        "      <td> 4619.138125</td>\n",
        "    </tr>\n",
        "    <tr>\n",
        "      <th>Radiator_Energy</th>\n",
        "      <td> 5014.970625</td>\n",
        "    </tr>\n",
        "    <tr>\n",
        "      <th>DrawingUp_Energy</th>\n",
        "      <td> 1738.350000</td>\n",
        "    </tr>\n",
        "    <tr>\n",
        "      <th>Besoins</th>\n",
        "      <td> 6753.320625</td>\n",
        "    </tr>\n",
        "    <tr>\n",
        "      <th>Consommations</th>\n",
        "      <td> 9687.218125</td>\n",
        "    </tr>\n",
        "    <tr>\n",
        "      <th>Pertes</th>\n",
        "      <td> 2933.897500</td>\n",
        "    </tr>\n",
        "    <tr>\n",
        "      <th>Taux de couverture</th>\n",
        "      <td>    0.523172</td>\n",
        "    </tr>\n",
        "  </tbody>\n",
        "</table>\n",
        "</div>"
       ],
       "metadata": {},
       "output_type": "pyout",
       "prompt_number": 22,
       "text": [
        "                      Full year\n",
        "Collector_Energy    5068.080000\n",
        "Boiler_Energy       4619.138125\n",
        "Radiator_Energy     5014.970625\n",
        "DrawingUp_Energy    1738.350000\n",
        "Besoins             6753.320625\n",
        "Consommations       9687.218125\n",
        "Pertes              2933.897500\n",
        "Taux de couverture     0.523172"
       ]
      }
     ],
     "prompt_number": 22
    },
    {
     "cell_type": "code",
     "collapsed": false,
     "input": [
      "besoins_ma = pd.concat([energy_ma[energy_ma.index == specific_name] for specific_name in names])\n",
      "besoins_ma"
     ],
     "language": "python",
     "metadata": {},
     "outputs": [
      {
       "html": [
        "<div style=\"max-height:1000px;max-width:1500px;overflow:auto;\">\n",
        "<table border=\"1\" class=\"dataframe\">\n",
        "  <thead>\n",
        "    <tr style=\"text-align: right;\">\n",
        "      <th></th>\n",
        "      <th>Full year</th>\n",
        "    </tr>\n",
        "  </thead>\n",
        "  <tbody>\n",
        "    <tr>\n",
        "      <th>DrawingUp_Energy</th>\n",
        "      <td> 1738.350000</td>\n",
        "    </tr>\n",
        "    <tr>\n",
        "      <th>Pertes</th>\n",
        "      <td> 2933.897500</td>\n",
        "    </tr>\n",
        "    <tr>\n",
        "      <th>Radiator_Energy</th>\n",
        "      <td> 5014.970625</td>\n",
        "    </tr>\n",
        "  </tbody>\n",
        "</table>\n",
        "</div>"
       ],
       "metadata": {},
       "output_type": "pyout",
       "prompt_number": 23,
       "text": [
        "                    Full year\n",
        "DrawingUp_Energy  1738.350000\n",
        "Pertes            2933.897500\n",
        "Radiator_Energy   5014.970625"
       ]
      }
     ],
     "prompt_number": 23
    },
    {
     "cell_type": "heading",
     "level": 3,
     "metadata": {},
     "source": [
      "Pie chart : Collector, boiler and heating, drawing up, losses"
     ]
    },
    {
     "cell_type": "code",
     "collapsed": false,
     "input": [
      "explode1 = (0.1, 0)  # only \"explode\" the 1st slice (i.e. 'Collector_Energy')\n",
      "explode2 = (0, 0, 0)\n",
      "radius = 1\n",
      "# Colors    green      blue      orange      black     magenta\n",
      "colors = ['#859900', '#268bd2', '#cb4b16', '#073642', '#d33682']\n",
      "colors1 = ['#859900', '#268bd2', '#cb4b16']\n",
      "colors2 = ['#859900', '#268bd2']\n",
      "labels = ['Solaire', 'Chaudi\u00e8re','Chauffage', 'ECS', 'Pertes']\n",
      "\n",
      "# Prepare figure and adjust it\n",
      "fig = plt.figure(figsize=(20, 10), facecolor=(0.84, 0.89, 0.9))\n",
      "fig.subplots_adjust(top=0.85,bottom=0.05,left=0.05,right=0.95)\n",
      "fig.canvas.manager.set_window_title(\"\")\n",
      "text = \"Taux de couverture solaire de \" + \\\n",
      "       \"{0:.2%} (Chambery) et de {1:.2%} (Marseille)\".format(energy_ch.get_value('Taux de couverture', 'Full year'),\n",
      "                                                             energy_ma.get_value('Taux de couverture', 'Full year'))\n",
      "plt.figtext(0.5, 0.9, text,\n",
      "            ha='center', fontdict=font_mainTitle)\n",
      "ax11 = fig.add_subplot(2, 1, 1)\n",
      "ax12 = fig.add_subplot(2, 1, 2)\n",
      "# fig.subplots_adjust(top=0.8,bottom=0.05,left=0.05, right=0.95, wspace=0.2)\n",
      "# Change title parameters\n",
      "ax11.set_title(label=\"Chambery\",\n",
      "               fontdict=font_title)\n",
      "ax12.set_title(label=\"Marseille\",\n",
      "               fontdict=font_title)\n",
      "\n",
      "# First column\n",
      "ax11.pie(besoins_ch,\n",
      "         explode=explode2, colors=colors1,\n",
      "         labels=labels[2:],\n",
      "         autopct='%1.1f%%', shadow=True, startangle=90, radius=radius)\n",
      "ax11.legend(prop=font_title)\n",
      "\n",
      "\n",
      "# Second column\n",
      "ax12.pie(besoins_ma,\n",
      "         explode=explode2, colors=colors1,\n",
      "         labels=labels[2:],\n",
      "         autopct='%1.1f%%', shadow=True, startangle=90, radius=radius)\n",
      "ax12.legend(prop=font_title)"
     ],
     "language": "python",
     "metadata": {},
     "outputs": [
      {
       "metadata": {},
       "output_type": "pyout",
       "prompt_number": 24,
       "text": [
        "<matplotlib.legend.Legend at 0x8f11320>"
       ]
      }
     ],
     "prompt_number": 24
    },
    {
     "cell_type": "code",
     "collapsed": false,
     "input": [
      "besoins_ch.plot(kind=\"pie\", subplots=True, shadow=True, radius=1, legend=False)"
     ],
     "language": "python",
     "metadata": {},
     "outputs": [
      {
       "metadata": {},
       "output_type": "pyout",
       "prompt_number": 30,
       "text": [
        "array([<matplotlib.axes.AxesSubplot object at 0x000000000D783A58>], dtype=object)"
       ]
      }
     ],
     "prompt_number": 30
    },
    {
     "cell_type": "heading",
     "level": 2,
     "metadata": {},
     "source": [
      "Histogram Consommations"
     ]
    },
    {
     "cell_type": "heading",
     "level": 3,
     "metadata": {},
     "source": [
      "Chambery et marseille"
     ]
    },
    {
     "cell_type": "code",
     "collapsed": false,
     "input": [
      "# Color set\n",
      "colors = {\"Boiler_Energy\": \"#dc322f\", \"Radiator_Energy\": \"#fdf6e3\",\n",
      "          \"DrawingUp_Energy\": \"#268bd2\", \"Collector_Energy\": \"orange\"}\n",
      "\n",
      "# Chambery\n",
      "consos_ch = year_ch.reindex_axis([\"Boiler_Energy\", \"Radiator_Energy\", \"Collector_Energy\",\n",
      "                                   \"DrawingUp_Energy\"], axis=1)\n",
      "# New index values\n",
      "new_ind = [\"{:%B}\".format(consos_ch.index[i]) for i in range(12)]\n",
      "# Prepare index\n",
      "consos_ch.index = [el for el in range(1, 13)]\n",
      "\n",
      "# Marseille\n",
      "consos_ma = year_ma.reindex_axis([\"Boiler_Energy\", \"Radiator_Energy\", \"Collector_Energy\",\n",
      "                                   \"DrawingUp_Energy\"], axis=1)\n",
      "consos_ma.index = [el for el in range(1, 13)]\n",
      "consos_ma\n",
      "print(consos_ch)"
     ],
     "language": "python",
     "metadata": {},
     "outputs": [
      {
       "output_type": "stream",
       "stream": "stdout",
       "text": [
        "    Boiler_Energy  Radiator_Energy  Collector_Energy  DrawingUp_Energy\n",
        "1     2403.302000      2057.572800            133.65            193.22\n",
        "2     1694.637091      1543.503564            246.51            168.09\n",
        "3     1261.090909      1167.753636            356.24            178.86\n",
        "4      430.658125       528.138125            472.46            166.24\n",
        "5      237.641875       225.451875            375.12            159.71\n",
        "6        9.000000        22.770000            355.77            148.02\n",
        "7        0.030000         0.000000            391.21            151.25\n",
        "8        0.000000         0.000000            375.24            156.55\n",
        "9        1.280000        40.980000            422.49            162.27\n",
        "10     622.474000       633.002000            304.75            178.08\n",
        "11    1710.649529      1490.730941            174.59            184.22\n",
        "12    2293.489412      2008.387059            187.22            193.37\n"
       ]
      }
     ],
     "prompt_number": 23
    },
    {
     "cell_type": "code",
     "collapsed": false,
     "input": [
      "# Prepare figure and adjust it\n",
      "fig = plt.figure(figsize=(20, 10), facecolor=(0.84, 0.89, 0.9))\n",
      "fig.canvas.manager.set_window_title(\"\")\n",
      "ax11 = fig.add_subplot(2, 1, 1)\n",
      "ax21 = fig.add_subplot(2, 1, 2, sharex=ax11)\n",
      "\n",
      "# Change title parameters\n",
      "ax11.set_title(label=\"Chambery\",\n",
      "               fontdict=font_title)\n",
      "ax21.set_title(label=\"Marseille\",\n",
      "               fontdict=font_title)\n",
      "\n",
      "# First row\n",
      "bars_ch = [ax11.bar(consos_ch.index.values, consos_ch[col].values,\n",
      "                    color=colors[col],  width=0.9) for col in consos_ch.columns]\n",
      "\n",
      "# Draw a line at the top of each \"Boiler_Energy\" barplots\n",
      "tops = ([(el.get_x(), el.get_x()+bars_ch[0][0].get_width()),\n",
      "         (el.get_height(),)*2] for el in bars_ch[0])\n",
      "for top in tops:\n",
      "    l = matplotlib.lines.Line2D(top[0],top[1], linewidth=3, color=colors[\"Boiler_Energy\"])                                    \n",
      "    ax11.add_line(l)\n",
      "# Set axe parameters  \n",
      "ax11.set_ylabel(\"Energie en Kwh\", labelpad=20)\n",
      "ax11.set_xlabel(\"Mois de l'annn\u00e9e\", labelpad=20)\n",
      "ax11.set_xlim(0.9, 13)\n",
      "ax11.set_xticks(np.arange(1.45, 13.45, 1))\n",
      "ax11.set_xticklabels(new_ind)\n",
      "\n",
      "\n",
      "# Second row\n",
      "bars_ma = [ax21.bar(consos_ma.index.values, consos_ma[col].values,\n",
      "                 color=colors[col], width=0.9, fill=True) for col in consos_ma.columns]\n",
      "# Draw top of each \"Boiler_Energy\" bar\n",
      "tops = ([(el.get_x(), el.get_x()+bars_ma[0][0].get_width()),\n",
      "         (el.get_height(),)*2] for el in bars_ma[0])\n",
      "for top in tops:\n",
      "    l = matplotlib.lines.Line2D(top[0],top[1], linewidth=3, color=colors[\"Boiler_Energy\"])                                    \n",
      "    ax21.add_line(l)\n",
      "    ax21.plot()\n",
      "# Set axe parameters  \n",
      "ax21.set_ylabel(\"Energie en Kwh\", labelpad=20)\n",
      "ax21.set_xlim(0.9, 13)\n",
      "ax21.set_xticks(np.arange(1.45, 13.45, 1))\n",
      "ax21.set_xticklabels(new_ind)\n",
      "\n",
      "\n",
      "# Add auto legend\n",
      "ax11.legend([bars_ch[i] for i in range(len(consos_ch.columns))], list(consos_ch.columns),\n",
      "            loc=\"best\", prop=font_title)\n",
      "\n",
      "fig.autofmt_xdate(0.1)\n",
      "print(bars_ch)"
     ],
     "language": "python",
     "metadata": {},
     "outputs": [
      {
       "output_type": "stream",
       "stream": "stdout",
       "text": [
        "[<Container object of 12 artists>, <Container object of 12 artists>, <Container object of 12 artists>, <Container object of 12 artists>]\n"
       ]
      }
     ],
     "prompt_number": 43
    },
    {
     "cell_type": "code",
     "collapsed": false,
     "input": [
      "consos_ch.columns = [1, 2, 3, 4]\n",
      "consos_ch.columns"
     ],
     "language": "python",
     "metadata": {},
     "outputs": [
      {
       "html": [
        "<div style=\"max-height:1000px;max-width:1500px;overflow:auto;\">\n",
        "<table border=\"1\" class=\"dataframe\">\n",
        "  <thead>\n",
        "    <tr style=\"text-align: right;\">\n",
        "      <th></th>\n",
        "      <th>1</th>\n",
        "      <th>2</th>\n",
        "      <th>3</th>\n",
        "      <th>4</th>\n",
        "    </tr>\n",
        "  </thead>\n",
        "  <tbody>\n",
        "    <tr>\n",
        "      <th>1 </th>\n",
        "      <td> 2403.302000</td>\n",
        "      <td> 2057.572800</td>\n",
        "      <td> 133.65</td>\n",
        "      <td> 193.22</td>\n",
        "    </tr>\n",
        "    <tr>\n",
        "      <th>2 </th>\n",
        "      <td> 1694.637091</td>\n",
        "      <td> 1543.503564</td>\n",
        "      <td> 246.51</td>\n",
        "      <td> 168.09</td>\n",
        "    </tr>\n",
        "    <tr>\n",
        "      <th>3 </th>\n",
        "      <td> 1261.090909</td>\n",
        "      <td> 1167.753636</td>\n",
        "      <td> 356.24</td>\n",
        "      <td> 178.86</td>\n",
        "    </tr>\n",
        "    <tr>\n",
        "      <th>4 </th>\n",
        "      <td>  430.658125</td>\n",
        "      <td>  528.138125</td>\n",
        "      <td> 472.46</td>\n",
        "      <td> 166.24</td>\n",
        "    </tr>\n",
        "    <tr>\n",
        "      <th>5 </th>\n",
        "      <td>  237.641875</td>\n",
        "      <td>  225.451875</td>\n",
        "      <td> 375.12</td>\n",
        "      <td> 159.71</td>\n",
        "    </tr>\n",
        "    <tr>\n",
        "      <th>6 </th>\n",
        "      <td>    9.000000</td>\n",
        "      <td>   22.770000</td>\n",
        "      <td> 355.77</td>\n",
        "      <td> 148.02</td>\n",
        "    </tr>\n",
        "    <tr>\n",
        "      <th>7 </th>\n",
        "      <td>    0.030000</td>\n",
        "      <td>    0.000000</td>\n",
        "      <td> 391.21</td>\n",
        "      <td> 151.25</td>\n",
        "    </tr>\n",
        "    <tr>\n",
        "      <th>8 </th>\n",
        "      <td>    0.000000</td>\n",
        "      <td>    0.000000</td>\n",
        "      <td> 375.24</td>\n",
        "      <td> 156.55</td>\n",
        "    </tr>\n",
        "    <tr>\n",
        "      <th>9 </th>\n",
        "      <td>    1.280000</td>\n",
        "      <td>   40.980000</td>\n",
        "      <td> 422.49</td>\n",
        "      <td> 162.27</td>\n",
        "    </tr>\n",
        "    <tr>\n",
        "      <th>10</th>\n",
        "      <td>  622.474000</td>\n",
        "      <td>  633.002000</td>\n",
        "      <td> 304.75</td>\n",
        "      <td> 178.08</td>\n",
        "    </tr>\n",
        "    <tr>\n",
        "      <th>11</th>\n",
        "      <td> 1710.649529</td>\n",
        "      <td> 1490.730941</td>\n",
        "      <td> 174.59</td>\n",
        "      <td> 184.22</td>\n",
        "    </tr>\n",
        "    <tr>\n",
        "      <th>12</th>\n",
        "      <td> 2293.489412</td>\n",
        "      <td> 2008.387059</td>\n",
        "      <td> 187.22</td>\n",
        "      <td> 193.37</td>\n",
        "    </tr>\n",
        "  </tbody>\n",
        "</table>\n",
        "</div>"
       ],
       "metadata": {},
       "output_type": "pyout",
       "prompt_number": 54,
       "text": [
        "              1            2       3       4\n",
        "1   2403.302000  2057.572800  133.65  193.22\n",
        "2   1694.637091  1543.503564  246.51  168.09\n",
        "3   1261.090909  1167.753636  356.24  178.86\n",
        "4    430.658125   528.138125  472.46  166.24\n",
        "5    237.641875   225.451875  375.12  159.71\n",
        "6      9.000000    22.770000  355.77  148.02\n",
        "7      0.030000     0.000000  391.21  151.25\n",
        "8      0.000000     0.000000  375.24  156.55\n",
        "9      1.280000    40.980000  422.49  162.27\n",
        "10   622.474000   633.002000  304.75  178.08\n",
        "11  1710.649529  1490.730941  174.59  184.22\n",
        "12  2293.489412  2008.387059  187.22  193.37"
       ]
      }
     ],
     "prompt_number": 54
    },
    {
     "cell_type": "heading",
     "level": 2,
     "metadata": {},
     "source": [
      "Line plot"
     ]
    },
    {
     "cell_type": "heading",
     "level": 3,
     "metadata": {},
     "source": [
      "Energy"
     ]
    },
    {
     "cell_type": "code",
     "collapsed": false,
     "input": [
      "# Prepare figure and adjust it\n",
      "fig = plt.figure(figsize=(20, 10), facecolor=(0.84, 0.89, 0.9))\n",
      "fig.canvas.manager.set_window_title(\"\")\n",
      "text = \"Evolution des des apports et des consommations du syst\u00e8me solaire\"\n",
      "plt.figtext(0.5, 0.9, text,\n",
      "            ha='center', fontdict=font_mainTitle)\n",
      "ax11 = fig.add_subplot(2, 1, 1)\n",
      "ax21 = fig.add_subplot(2, 1, 2, sharex=ax11)\n",
      "\n",
      "# First row\n",
      "chambery.ix[:, 'Collector_Energy':'DrawingUp_Energy'].plot(ax=ax11, colormap=\"Accent\",\n",
      "                                                           linewidth=2)\n",
      "ax11.legend(prop=font_title, loc='best')\n",
      "\n",
      "# Second row\n",
      "marseille.ix[:, 'Collector_Energy':'DrawingUp_Energy'].plot(ax=ax21, colormap=\"Accent\",\n",
      "                                                            linewidth=2)\n",
      "# Remove legend inside second plot (keep only legend inside top plot)\n",
      "ax21.legend_ = None\n",
      "\n",
      "# Adding y axes labels with colors\n",
      "ax11.set_ylabel('Kwh')\n",
      "ax21.set_ylabel('Kwh')\n",
      "\n",
      "fig.autofmt_xdate()\n",
      "fig.subplots_adjust(top=0.85,bottom=0.05,left=0.05, right=0.95, wspace=0.2)"
     ],
     "language": "python",
     "metadata": {},
     "outputs": [],
     "prompt_number": 16
    },
    {
     "cell_type": "heading",
     "level": 3,
     "metadata": {},
     "source": [
      "Text Tinside"
     ]
    },
    {
     "cell_type": "code",
     "collapsed": false,
     "input": [
      "# Prepare figure and adjust it\n",
      "fig = plt.figure(figsize=(20, 10), facecolor=(0.84, 0.89, 0.9))\n",
      "fig.canvas.manager.set_window_title(\"\")\n",
      "text = \"Evolution des \u00e9nergie du syst\u00e8me solaire combin\u00e9\"\n",
      "plt.figtext(0.5, 0.9, text,\n",
      "            ha='center', fontdict=font_mainTitle)\n",
      "ax11 = fig.add_subplot(1, 1, 1)\n",
      "fig.subplots_adjust(top=0.8,bottom=0.05,left=0.05, right=0.95, wspace=0.2)\n",
      "\n",
      "chambery[['T9_ext', 'T12_house']].plot(ax=ax11, colormap=\"Accent\",\n",
      "                                      linewidth=2)\n",
      "ax11.legend(prop=font_title, )\n",
      "\n",
      "# Adding y axes labels with colors\n",
      "ax11.set_ylabel('\u00b0C')\n",
      "\n",
      "fig.autofmt_xdate()"
     ],
     "language": "python",
     "metadata": {},
     "outputs": [
      {
       "ename": "NameError",
       "evalue": "name 'plt' is not defined",
       "output_type": "pyerr",
       "traceback": [
        "\u001b[1;31m---------------------------------------------------------------------------\u001b[0m\n\u001b[1;31mNameError\u001b[0m                                 Traceback (most recent call last)",
        "\u001b[1;32m<ipython-input-1-6291fcc51cc0>\u001b[0m in \u001b[0;36m<module>\u001b[1;34m()\u001b[0m\n\u001b[0;32m      1\u001b[0m \u001b[1;31m# Prepare figure and adjust it\u001b[0m\u001b[1;33m\u001b[0m\u001b[1;33m\u001b[0m\u001b[0m\n\u001b[1;32m----> 2\u001b[1;33m \u001b[0mfig\u001b[0m \u001b[1;33m=\u001b[0m \u001b[0mplt\u001b[0m\u001b[1;33m.\u001b[0m\u001b[0mfigure\u001b[0m\u001b[1;33m(\u001b[0m\u001b[0mfigsize\u001b[0m\u001b[1;33m=\u001b[0m\u001b[1;33m(\u001b[0m\u001b[1;36m20\u001b[0m\u001b[1;33m,\u001b[0m \u001b[1;36m10\u001b[0m\u001b[1;33m)\u001b[0m\u001b[1;33m,\u001b[0m \u001b[0mfacecolor\u001b[0m\u001b[1;33m=\u001b[0m\u001b[1;33m(\u001b[0m\u001b[1;36m0.84\u001b[0m\u001b[1;33m,\u001b[0m \u001b[1;36m0.89\u001b[0m\u001b[1;33m,\u001b[0m \u001b[1;36m0.9\u001b[0m\u001b[1;33m)\u001b[0m\u001b[1;33m)\u001b[0m\u001b[1;33m\u001b[0m\u001b[0m\n\u001b[0m\u001b[0;32m      3\u001b[0m \u001b[0mfig\u001b[0m\u001b[1;33m.\u001b[0m\u001b[0mcanvas\u001b[0m\u001b[1;33m.\u001b[0m\u001b[0mmanager\u001b[0m\u001b[1;33m.\u001b[0m\u001b[0mset_window_title\u001b[0m\u001b[1;33m(\u001b[0m\u001b[1;34m\"\"\u001b[0m\u001b[1;33m)\u001b[0m\u001b[1;33m\u001b[0m\u001b[0m\n\u001b[0;32m      4\u001b[0m \u001b[0mtext\u001b[0m \u001b[1;33m=\u001b[0m \u001b[1;34m\"Evolution des \u00e9nergie du syst\u00e8me solaire combin\u00e9\"\u001b[0m\u001b[1;33m\u001b[0m\u001b[0m\n\u001b[0;32m      5\u001b[0m plt.figtext(0.5, 0.9, text,\n",
        "\u001b[1;31mNameError\u001b[0m: name 'plt' is not defined"
       ]
      }
     ],
     "prompt_number": 1
    },
    {
     "cell_type": "heading",
     "level": 3,
     "metadata": {},
     "source": [
      "T1 T3 T4 T5, Vextra, Vsolar"
     ]
    },
    {
     "cell_type": "code",
     "collapsed": false,
     "input": [
      "# Very fast valve switch  ---> have to keep all datas ---> long initialization\n",
      "\n",
      "# Prepare figure and adjust it\n",
      "fig = plt.figure(figsize=(20, 10), facecolor=(0.84, 0.89, 0.9))\n",
      "fig.canvas.manager.set_window_title(\"\")\n",
      "text = \"Evolution des temp\u00e9rature T1, T3, T4, T5\"\n",
      "plt.figtext(0.5, 0.9, text,\n",
      "            ha='center', fontdict=font_mainTitle)\n",
      "ax11 = fig.add_subplot(2, 1, 1)\n",
      "ax12 = fig.add_subplot(2, 1, 2, sharex=ax11)\n",
      "\n",
      "a = chambery_all[['T1', 'T3', 'T4', 'T5']].plot(ax=ax11, colormap=\"Accent\",\n",
      "                                                  linewidth=1, ylim=(-1, 130))\n",
      "ax11.legend(prop=font_title)\n",
      "chambery_all[['Vextra_state', 'Vsolar_state']].plot(ax=ax12, color=('#cb4b16', '#859900'),\n",
      "                                                          linewidth=2, ylim=(-1, 130))\n",
      "ax12.legend(prop=font_title)\n",
      "\n",
      "# Adding y axes labels with colors\n",
      "ax11.set_ylabel('\u00b0C')\n",
      "\n",
      "fig.autofmt_xdate()\n",
      "fig.subplots_adjust(top=0.85,bottom=0.05,left=0.05, right=0.95)"
     ],
     "language": "python",
     "metadata": {},
     "outputs": [
      {
       "ename": "AttributeError",
       "evalue": "'AxesSubplot' object has no attribute 'set_sharex'",
       "output_type": "pyerr",
       "traceback": [
        "\u001b[1;31m---------------------------------------------------------------------------\u001b[0m\n\u001b[1;31mAttributeError\u001b[0m                            Traceback (most recent call last)",
        "\u001b[1;32m<ipython-input-52-d9618dd78cfa>\u001b[0m in \u001b[0;36m<module>\u001b[1;34m()\u001b[0m\n\u001b[0;32m      9\u001b[0m \u001b[0max11\u001b[0m \u001b[1;33m=\u001b[0m \u001b[0mfig\u001b[0m\u001b[1;33m.\u001b[0m\u001b[0madd_subplot\u001b[0m\u001b[1;33m(\u001b[0m\u001b[1;36m2\u001b[0m\u001b[1;33m,\u001b[0m \u001b[1;36m1\u001b[0m\u001b[1;33m,\u001b[0m \u001b[1;36m1\u001b[0m\u001b[1;33m)\u001b[0m\u001b[1;33m\u001b[0m\u001b[0m\n\u001b[0;32m     10\u001b[0m \u001b[0max12\u001b[0m \u001b[1;33m=\u001b[0m \u001b[0mfig\u001b[0m\u001b[1;33m.\u001b[0m\u001b[0madd_subplot\u001b[0m\u001b[1;33m(\u001b[0m\u001b[1;36m2\u001b[0m\u001b[1;33m,\u001b[0m \u001b[1;36m1\u001b[0m\u001b[1;33m,\u001b[0m \u001b[1;36m2\u001b[0m\u001b[1;33m)\u001b[0m\u001b[1;33m\u001b[0m\u001b[0m\n\u001b[1;32m---> 11\u001b[1;33m \u001b[0max12\u001b[0m\u001b[1;33m.\u001b[0m\u001b[0mset\u001b[0m\u001b[1;33m(\u001b[0m\u001b[0msharex\u001b[0m\u001b[1;33m=\u001b[0m\u001b[0max11\u001b[0m\u001b[1;33m)\u001b[0m\u001b[1;33m\u001b[0m\u001b[0m\n\u001b[0m\u001b[0;32m     12\u001b[0m \u001b[1;33m\u001b[0m\u001b[0m\n\u001b[0;32m     13\u001b[0m a = chambery_all[['T1', 'T3', 'T4', 'T5']].plot(ax=ax11, colormap=\"Accent\",\n",
        "\u001b[1;32mC:\\Users\\bois\\Anaconda\\envs\\py33\\lib\\site-packages\\matplotlib\\artist.py\u001b[0m in \u001b[0;36mset\u001b[1;34m(self, **kwargs)\u001b[0m\n\u001b[0;32m    808\u001b[0m             \u001b[0mk\u001b[0m \u001b[1;33m=\u001b[0m \u001b[0mk\u001b[0m\u001b[1;33m.\u001b[0m\u001b[0mlower\u001b[0m\u001b[1;33m(\u001b[0m\u001b[1;33m)\u001b[0m\u001b[1;33m\u001b[0m\u001b[0m\n\u001b[0;32m    809\u001b[0m             \u001b[0mfuncName\u001b[0m \u001b[1;33m=\u001b[0m \u001b[1;34m\"set_%s\"\u001b[0m \u001b[1;33m%\u001b[0m \u001b[0mk\u001b[0m\u001b[1;33m\u001b[0m\u001b[0m\n\u001b[1;32m--> 810\u001b[1;33m             \u001b[0mfunc\u001b[0m \u001b[1;33m=\u001b[0m \u001b[0mgetattr\u001b[0m\u001b[1;33m(\u001b[0m\u001b[0mself\u001b[0m\u001b[1;33m,\u001b[0m \u001b[0mfuncName\u001b[0m\u001b[1;33m)\u001b[0m\u001b[1;33m\u001b[0m\u001b[0m\n\u001b[0m\u001b[0;32m    811\u001b[0m             \u001b[0mret\u001b[0m\u001b[1;33m.\u001b[0m\u001b[0mextend\u001b[0m\u001b[1;33m(\u001b[0m\u001b[1;33m[\u001b[0m\u001b[0mfunc\u001b[0m\u001b[1;33m(\u001b[0m\u001b[0mv\u001b[0m\u001b[1;33m)\u001b[0m\u001b[1;33m]\u001b[0m\u001b[1;33m)\u001b[0m\u001b[1;33m\u001b[0m\u001b[0m\n\u001b[0;32m    812\u001b[0m         \u001b[1;32mreturn\u001b[0m \u001b[0mret\u001b[0m\u001b[1;33m\u001b[0m\u001b[0m\n",
        "\u001b[1;31mAttributeError\u001b[0m: 'AxesSubplot' object has no attribute 'set_sharex'"
       ]
      }
     ],
     "prompt_number": 52
    },
    {
     "cell_type": "code",
     "collapsed": false,
     "input": [
      "fig, axes = plt.subplots(2, 2, sharex=False)\n",
      "a = axes[0][0]\n",
      "a.set_xticklabels("
     ],
     "language": "python",
     "metadata": {},
     "outputs": [
      {
       "ename": "SyntaxError",
       "evalue": "unexpected EOF while parsing (<ipython-input-72-aef328a6aa32>, line 3)",
       "output_type": "pyerr",
       "traceback": [
        "\u001b[1;36m  File \u001b[1;32m\"<ipython-input-72-aef328a6aa32>\"\u001b[1;36m, line \u001b[1;32m3\u001b[0m\n\u001b[1;33m    a.set_xtickslabels(\u001b[0m\n\u001b[1;37m                       ^\u001b[0m\n\u001b[1;31mSyntaxError\u001b[0m\u001b[1;31m:\u001b[0m unexpected EOF while parsing\n"
       ]
      }
     ],
     "prompt_number": 72
    },
    {
     "cell_type": "heading",
     "level": 1,
     "metadata": {},
     "source": [
      "Testing"
     ]
    },
    {
     "cell_type": "code",
     "collapsed": false,
     "input": [
      "# Group data per month and check index values\n",
      "for el in data_iterator(struct=chambery.index,\n",
      "                             steps=[el*48 for el in (31, 28, 31, 30, 31, 30, 31, 31, 30, 31, 30, 31)],\n",
      "                             interval=12):\n",
      "    print(len(el), \"\\t\", \"month day :\", len(el)//(24*2), \"\\t\", el[0], \"\\t\", el[-1])\n",
      "print(\"\\nLast index value are : \", chambery.index[-1])"
     ],
     "language": "python",
     "metadata": {},
     "outputs": [
      {
       "output_type": "stream",
       "stream": "stdout",
       "text": [
        "1488 \t month day : 31 \t 2014-01-01 00:00:00 \t 2014-01-31 23:30:00\n",
        "1344 \t month day : 28 \t 2014-02-01 00:00:00 \t 2014-02-28 23:30:00\n",
        "1488 \t month day : 31 \t 2014-03-01 00:00:00 \t 2014-03-31 23:30:00\n",
        "1440 \t month day : 30 \t 2014-04-01 00:00:00 \t 2014-04-30 23:30:00\n",
        "1488 \t month day : 31 \t 2014-05-01 00:00:00 \t 2014-05-31 23:30:00\n",
        "1440 \t month day : 30 \t 2014-06-01 00:00:00 \t 2014-06-30 23:30:00\n",
        "1488 \t month day : 31 \t 2014-07-01 00:00:00 \t 2014-07-31 23:30:00\n",
        "1488 \t month day : 31 \t 2014-08-01 00:00:00 \t 2014-08-31 23:30:00\n",
        "1440 \t month day : 30 \t 2014-09-01 00:00:00 \t 2014-09-30 23:30:00\n",
        "1488 \t month day : 31 \t 2014-10-01 00:00:00 \t 2014-10-31 23:30:00\n",
        "1440 \t month day : 30 \t 2014-11-01 00:00:00 \t 2014-11-30 23:30:00\n",
        "17 \t month day : 0 \t 2014-12-01 00:00:00 \t 2014-12-01 08:00:00\n",
        "\n",
        "Last index value are :  2014-12-01 08:00:00\n"
       ]
      }
     ],
     "prompt_number": 23
    },
    {
     "cell_type": "code",
     "collapsed": false,
     "input": [
      "chambery[chambery.index.month == 12][-1:][[\"Boiler_Energy\", 'T1', 'T3', 'T4', 'T5']]"
     ],
     "language": "python",
     "metadata": {},
     "outputs": [
      {
       "html": [
        "<div style=\"max-height:1000px;max-width:1500px;overflow:auto;\">\n",
        "<table border=\"1\" class=\"dataframe\">\n",
        "  <thead>\n",
        "    <tr style=\"text-align: right;\">\n",
        "      <th></th>\n",
        "      <th>Boiler_Energy</th>\n",
        "      <th>T1</th>\n",
        "      <th>T3</th>\n",
        "      <th>T4</th>\n",
        "      <th>T5</th>\n",
        "    </tr>\n",
        "  </thead>\n",
        "  <tbody>\n",
        "    <tr>\n",
        "      <th>2014-12-31 23:30:00</th>\n",
        "      <td> 10664.252941</td>\n",
        "      <td> 6.946471</td>\n",
        "      <td> 25.735882</td>\n",
        "      <td> 43.231176</td>\n",
        "      <td> 28.377059</td>\n",
        "    </tr>\n",
        "  </tbody>\n",
        "</table>\n",
        "</div>"
       ],
       "metadata": {},
       "output_type": "pyout",
       "prompt_number": 46,
       "text": [
        "                     Boiler_Energy        T1         T3         T4         T5\n",
        "2014-12-31 23:30:00   10664.252941  6.946471  25.735882  43.231176  28.377059"
       ]
      }
     ],
     "prompt_number": 46
    },
    {
     "cell_type": "code",
     "collapsed": false,
     "input": [
      "chambery.boxplot("
     ],
     "language": "python",
     "metadata": {},
     "outputs": []
    }
   ],
   "metadata": {}
  }
 ]
}