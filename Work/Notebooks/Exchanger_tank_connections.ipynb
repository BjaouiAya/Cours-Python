{
 "metadata": {
  "name": "",
  "signature": "sha256:97414bf5dc44b14bdcbc32e1fe8c7be71ebe700c89ff388333759bf7a3c8b513"
 },
 "nbformat": 3,
 "nbformat_minor": 0,
 "worksheets": [
  {
   "cells": [
    {
     "cell_type": "heading",
     "level": 1,
     "metadata": {},
     "source": [
      "Exchanger and Tank connections :"
     ]
    },
    {
     "cell_type": "heading",
     "level": 3,
     "metadata": {},
     "source": [
      "Current model implementation"
     ]
    },
    {
     "cell_type": "code",
     "collapsed": false,
     "input": [
      "def connexion_base(nSeg=20, hexSegMult=2, botHexSeg=3, topHexSeg=18):\n",
      "    \"\"\"\n",
      "        \n",
      "        Two nonfunctional things :\n",
      "            - Exchanger first segment always connected to last tank segment (tank bottom)\n",
      "                ---> Exchanger position has no effect\n",
      "            - Connections of the exchanger are done from bottom to top\n",
      "                ---> Top exchanger segment inside bottom tank segment\n",
      "            \n",
      "        Modelica equivalent :\n",
      "            for j in 1:nSegHexTan loop\n",
      "                for i in 1:hexSegMult loop\n",
      "                    connect(indTanHex.port[(j-1)*hexSegMult+i], heaPorVol[nSeg-j+1])\n",
      "                end for;\n",
      "            end for;\n",
      "            \n",
      "    \"\"\"\n",
      "    nSegHexTan = topHexSeg - botHexSeg + 1\n",
      "    print(\"botHexSeg = \", botHexSeg, \"\\ttopHexSeg = \",  topHexSeg, \"\\tnSegHexTan = \", nSegHexTan, \"\\n\")\n",
      "    for j in range(1, nSegHexTan+1):\n",
      "        for i in range(1, hexSegMult+1):\n",
      "            print(\"Exch : \", (j-1)*hexSegMult + i, \"\\t---\\tTank : \",nSeg-j+1)"
     ],
     "language": "python",
     "metadata": {},
     "outputs": [],
     "prompt_number": 14
    },
    {
     "cell_type": "heading",
     "level": 3,
     "metadata": {},
     "source": [
      "New model implementation"
     ]
    },
    {
     "cell_type": "markdown",
     "metadata": {},
     "source": [
      "With exchanger relative position inside tank"
     ]
    },
    {
     "cell_type": "code",
     "collapsed": false,
     "input": [
      "def connexion_changed_rel(nSeg=20, hexSegMult=2, botHexSeg=3, topHexSeg=18):\n",
      "    \"\"\"\n",
      "        \n",
      "        botHexSeg < topHexSeg ---> Reversed index according to tank current model (top tank segment with smallest index)\n",
      "        \n",
      "        Changes :\n",
      "            - Exchanger segments are connected to the tank according to exchanger position \n",
      "            - Connections of the exchanger are done from top to bottom\n",
      "        \n",
      "        Modelica equivalent :\n",
      "            for j in 1:nSegHexTan loop\n",
      "                for i in 1:hexSegMult loop\n",
      "                    connect(indTanHex.port[(j-1)*hexSegMult + i], heaPorVol[nSeg - topHexSeg+j])\n",
      "                end for;\n",
      "            end for;\n",
      "    \n",
      "    \"\"\"\n",
      "    nSegHexTan = topHexSeg - botHexSeg + 1\n",
      "    print(\"botHexSeg = \", botHexSeg, \"\\ttopHexSeg = \",  topHexSeg, \"\\tnSegHexTan = \", nSegHexTan, \"\\n\")\n",
      "    for j in range(1, nSegHexTan+1):\n",
      "        for i in range(1, hexSegMult+1):\n",
      "            print(\"Exch : \", (j-1)*hexSegMult + i, \"\\t---\\tTank : \", nSeg - topHexSeg+j)"
     ],
     "language": "python",
     "metadata": {},
     "outputs": [],
     "prompt_number": 15
    },
    {
     "cell_type": "markdown",
     "metadata": {},
     "source": [
      "With exchanger absolute position inside tank"
     ]
    },
    {
     "cell_type": "code",
     "collapsed": false,
     "input": [
      "def connexion_changed_abs(nSeg=20, top_height=1.415, bot_height=0.255, hexSegMult=2, htank=1.6):\n",
      "    \"\"\"\n",
      "        \n",
      "        botHexSeg < topHexSeg ---> Reversed index according to tank current model (top tank segment with smallest index)\n",
      "        \n",
      "        Changes :\n",
      "            - Exchanger segments are connected to the tank according to exchanger position \n",
      "            - Connections of the exchanger are done from top to bottom\n",
      "        \n",
      "        Modelica equivalent :\n",
      "            for j in 1:nSegHexTan loop\n",
      "                for i in 1:hexSegMult loop\n",
      "                    connect(indTanHex.port[(j-1)*hexSegMult + i], heaPorVol[nSeg - topHexSeg+j])\n",
      "                end for;\n",
      "            end for;\n",
      "    \n",
      "    \"\"\"\n",
      "    botHexSeg = int(bot_height / (htank/nSeg))\n",
      "    topHexSeg = int(top_height/(htank/nSeg) +0.5)\n",
      "    nSegHexTan = topHexSeg - botHexSeg + 1\n",
      "    print(\"botHexSeg = \", botHexSeg, \"\\ttopHexSeg = \",  topHexSeg, \"\\tnSegHexTan = \", nSegHexTan, \"\\n\")\n",
      "    for j in range(1, nSegHexTan+1):\n",
      "        for i in range(1, hexSegMult+1):\n",
      "            print(\"Exch : \", (j-1)*hexSegMult + i, \"\\t---\\tTank : \", nSeg - topHexSeg+j)"
     ],
     "language": "python",
     "metadata": {},
     "outputs": [],
     "prompt_number": 2
    },
    {
     "cell_type": "heading",
     "level": 3,
     "metadata": {},
     "source": [
      "Tests"
     ]
    },
    {
     "cell_type": "code",
     "collapsed": false,
     "input": [
      "connexion_base()"
     ],
     "language": "python",
     "metadata": {},
     "outputs": [
      {
       "output_type": "stream",
       "stream": "stdout",
       "text": [
        "botHexSeg =  3 \ttopHexSeg =  18 \tnSegHexTan =  16 \n",
        "\n",
        "Exch :  1 \t---\tTank :  20\n",
        "Exch :  2 \t---\tTank :  20\n",
        "Exch :  3 \t---\tTank :  19\n",
        "Exch :  4 \t---\tTank :  19\n",
        "Exch :  5 \t---\tTank :  18\n",
        "Exch :  6 \t---\tTank :  18\n",
        "Exch :  7 \t---\tTank :  17\n",
        "Exch :  8 \t---\tTank :  17\n",
        "Exch :  9 \t---\tTank :  16\n",
        "Exch :  10 \t---\tTank :  16\n",
        "Exch :  11 \t---\tTank :  15\n",
        "Exch :  12 \t---\tTank :  15\n",
        "Exch :  13 \t---\tTank :  14\n",
        "Exch :  14 \t---\tTank :  14\n",
        "Exch :  15 \t---\tTank :  13\n",
        "Exch :  16 \t---\tTank :  13\n",
        "Exch :  17 \t---\tTank :  12\n",
        "Exch :  18 \t---\tTank :  12\n",
        "Exch :  19 \t---\tTank :  11\n",
        "Exch :  20 \t---\tTank :  11\n",
        "Exch :  21 \t---\tTank :  10\n",
        "Exch :  22 \t---\tTank :  10\n",
        "Exch :  23 \t---\tTank :  9\n",
        "Exch :  24 \t---\tTank :  9\n",
        "Exch :  25 \t---\tTank :  8\n",
        "Exch :  26 \t---\tTank :  8\n",
        "Exch :  27 \t---\tTank :  7\n",
        "Exch :  28 \t---\tTank :  7\n",
        "Exch :  29 \t---\tTank :  6\n",
        "Exch :  30 \t---\tTank :  6\n",
        "Exch :  31 \t---\tTank :  5\n",
        "Exch :  32 \t---\tTank :  5\n"
       ]
      }
     ],
     "prompt_number": 17
    },
    {
     "cell_type": "code",
     "collapsed": false,
     "input": [
      "connexion_changed_rel()"
     ],
     "language": "python",
     "metadata": {},
     "outputs": [
      {
       "output_type": "stream",
       "stream": "stdout",
       "text": [
        "botHexSeg =  3 \ttopHexSeg =  18 \tnSegHexTan =  16 \n",
        "\n",
        "Exch :  1 \t---\tTank :  3\n",
        "Exch :  2 \t---\tTank :  3\n",
        "Exch :  3 \t---\tTank :  4\n",
        "Exch :  4 \t---\tTank :  4\n",
        "Exch :  5 \t---\tTank :  5\n",
        "Exch :  6 \t---\tTank :  5\n",
        "Exch :  7 \t---\tTank :  6\n",
        "Exch :  8 \t---\tTank :  6\n",
        "Exch :  9 \t---\tTank :  7\n",
        "Exch :  10 \t---\tTank :  7\n",
        "Exch :  11 \t---\tTank :  8\n",
        "Exch :  12 \t---\tTank :  8\n",
        "Exch :  13 \t---\tTank :  9\n",
        "Exch :  14 \t---\tTank :  9\n",
        "Exch :  15 \t---\tTank :  10\n",
        "Exch :  16 \t---\tTank :  10\n",
        "Exch :  17 \t---\tTank :  11\n",
        "Exch :  18 \t---\tTank :  11\n",
        "Exch :  19 \t---\tTank :  12\n",
        "Exch :  20 \t---\tTank :  12\n",
        "Exch :  21 \t---\tTank :  13\n",
        "Exch :  22 \t---\tTank :  13\n",
        "Exch :  23 \t---\tTank :  14\n",
        "Exch :  24 \t---\tTank :  14\n",
        "Exch :  25 \t---\tTank :  15\n",
        "Exch :  26 \t---\tTank :  15\n",
        "Exch :  27 \t---\tTank :  16\n",
        "Exch :  28 \t---\tTank :  16\n",
        "Exch :  29 \t---\tTank :  17\n",
        "Exch :  30 \t---\tTank :  17\n",
        "Exch :  31 \t---\tTank :  18\n",
        "Exch :  32 \t---\tTank :  18\n"
       ]
      }
     ],
     "prompt_number": 18
    },
    {
     "cell_type": "code",
     "collapsed": false,
     "input": [
      "connexion_changed_abs(nSeg=10, top_height=0.9, bot_height=0.1, hexSegMult=2, htank=1)"
     ],
     "language": "python",
     "metadata": {},
     "outputs": [
      {
       "output_type": "stream",
       "stream": "stdout",
       "text": [
        "botHexSeg =  1 \ttopHexSeg =  9 \tnSegHexTan =  9 \n",
        "\n",
        "Exch :  1 \t---\tTank :  2\n",
        "Exch :  2 \t---\tTank :  2\n",
        "Exch :  3 \t---\tTank :  3\n",
        "Exch :  4 \t---\tTank :  3\n",
        "Exch :  5 \t---\tTank :  4\n",
        "Exch :  6 \t---\tTank :  4\n",
        "Exch :  7 \t---\tTank :  5\n",
        "Exch :  8 \t---\tTank :  5\n",
        "Exch :  9 \t---\tTank :  6\n",
        "Exch :  10 \t---\tTank :  6\n",
        "Exch :  11 \t---\tTank :  7\n",
        "Exch :  12 \t---\tTank :  7\n",
        "Exch :  13 \t---\tTank :  8\n",
        "Exch :  14 \t---\tTank :  8\n",
        "Exch :  15 \t---\tTank :  9\n",
        "Exch :  16 \t---\tTank :  9\n",
        "Exch :  17 \t---\tTank :  10\n",
        "Exch :  18 \t---\tTank :  10\n"
       ]
      }
     ],
     "prompt_number": 4
    }
   ],
   "metadata": {}
  }
 ]
}