{
 "metadata": {
  "name": "",
  "signature": "sha256:ed0a11e32e616c15a18c7ea240e682a7d898709ef9207fd3df0decc616e9de97"
 },
 "nbformat": 3,
 "nbformat_minor": 0,
 "worksheets": [
  {
   "cells": [
    {
     "cell_type": "code",
     "collapsed": false,
     "input": [
      "import pandas as pd"
     ],
     "language": "python",
     "metadata": {},
     "outputs": [],
     "prompt_number": 54
    },
    {
     "cell_type": "code",
     "collapsed": false,
     "input": [
      "import matplotlib.pyplot as plt\n",
      "%matplotlib qt"
     ],
     "language": "python",
     "metadata": {},
     "outputs": [],
     "prompt_number": 55
    },
    {
     "cell_type": "code",
     "collapsed": false,
     "input": [
      "# Here select folder\n",
      "%cd \"C:\\Users\\bois\\Documents\\GitHub\\SolarSystem\\Outputs\\clean\""
     ],
     "language": "python",
     "metadata": {},
     "outputs": [
      {
       "output_type": "stream",
       "stream": "stdout",
       "text": [
        "C:\\Users\\bois\\Documents\\GitHub\\SolarSystem\\Outputs\\clean\n"
       ]
      }
     ],
     "prompt_number": 56
    },
    {
     "cell_type": "code",
     "collapsed": false,
     "input": [
      "# Here select file inside folder\n",
      "clean_csv = \"olivier_house_read.csv\""
     ],
     "language": "python",
     "metadata": {},
     "outputs": [],
     "prompt_number": 57
    },
    {
     "cell_type": "code",
     "collapsed": false,
     "input": [
      "# Your Dataframe structure\n",
      "datas = pd.read_csv(clean_csv, skiprows=1, delimiter=\";\", index_col=\"Date\")"
     ],
     "language": "python",
     "metadata": {},
     "outputs": [],
     "prompt_number": 58
    },
    {
     "cell_type": "code",
     "collapsed": false,
     "input": [
      "# Your columns names\n",
      "for i, col in enumerate(datas.columns):\n",
      "    print(\"column {} \\t\\t{}\".format(i, col))"
     ],
     "language": "python",
     "metadata": {},
     "outputs": [
      {
       "output_type": "stream",
       "stream": "stdout",
       "text": [
        "column 0 \t\tT12_house\n",
        "column 1 \t\tT12_rad_house\n",
        "column 2 \t\tT9_mini\n",
        "column 3 \t\tT9_moy\n",
        "column 4 \t\tT9_ext\n",
        "column 5 \t\tFlow_Extraction\n",
        "column 6 \t\tHouse_Power\n",
        "column 7 \t\tHouse_Energy\n"
       ]
      }
     ],
     "prompt_number": 59
    },
    {
     "cell_type": "code",
     "collapsed": false,
     "input": [
      "# Here to choose what you want to print\n",
      "printer = ['T12_house', 'T12_rad_house']"
     ],
     "language": "python",
     "metadata": {},
     "outputs": [],
     "prompt_number": 60
    },
    {
     "cell_type": "code",
     "collapsed": false,
     "input": [
      "# Dataframe of selected columns\n",
      "plotting = datas[printer]"
     ],
     "language": "python",
     "metadata": {},
     "outputs": [],
     "prompt_number": 61
    },
    {
     "cell_type": "code",
     "collapsed": false,
     "input": [
      "# Your graph call\n",
      "graph = plotting.plot(title=\"chaud\")"
     ],
     "language": "python",
     "metadata": {},
     "outputs": [],
     "prompt_number": 32
    }
   ],
   "metadata": {}
  }
 ]
}