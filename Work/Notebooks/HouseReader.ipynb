{
 "metadata": {
  "name": "",
  "signature": "sha256:a2aeb54eaf23290029dd6e49bd35da7d87d06af6ddd9299aeac96c95df6e68a3"
 },
 "nbformat": 3,
 "nbformat_minor": 0,
 "worksheets": [
  {
   "cells": [
    {
     "cell_type": "code",
     "collapsed": false,
     "input": [
      "import pandas as pd\n",
      "import datetime\n",
      "from matplotlib.patches import Ellipse  # Used to draw shapes inside plots"
     ],
     "language": "python",
     "metadata": {},
     "outputs": [],
     "prompt_number": 319
    },
    {
     "cell_type": "code",
     "collapsed": false,
     "input": [
      "import matplotlib.pyplot as plt\n",
      "%matplotlib qt"
     ],
     "language": "python",
     "metadata": {},
     "outputs": [],
     "prompt_number": 241
    },
    {
     "cell_type": "code",
     "collapsed": false,
     "input": [
      "# Here select folder\n",
      "%cd \"C:\\Users\\bois\\Documents\\GitHub\\SolarSystem\\Outputs\\clean\""
     ],
     "language": "python",
     "metadata": {},
     "outputs": [
      {
       "output_type": "stream",
       "stream": "stdout",
       "text": [
        "C:\\Users\\bois\\Documents\\GitHub\\SolarSystem\\Outputs\\clean\n"
       ]
      }
     ],
     "prompt_number": 242
    },
    {
     "cell_type": "code",
     "collapsed": false,
     "input": [
      "# This parser convert to a real datetime format\n",
      "def convert_to_datetime(step, start=datetime.datetime(2014, 1, 1)):\n",
      "    for el in step:\n",
      "        yield start + datetime.timedelta(seconds=int(el))"
     ],
     "language": "python",
     "metadata": {},
     "outputs": [],
     "prompt_number": 249
    },
    {
     "cell_type": "code",
     "collapsed": false,
     "input": [
      "# Here select file inside folder\n",
      "clean_csv = \"olivier_house_read.csv\""
     ],
     "language": "python",
     "metadata": {},
     "outputs": [],
     "prompt_number": 250
    },
    {
     "cell_type": "code",
     "collapsed": false,
     "input": [
      "# Your Dataframe structure\n",
      "datas = pd.read_csv(clean_csv, skiprows=1, delimiter=\";\", index_col=\"Date\")\n",
      "# Convert to datetime index\n",
      "datas.index = [ind for ind in convert_to_datetime(datas.index)]\n",
      "type(datas.index)"
     ],
     "language": "python",
     "metadata": {},
     "outputs": [
      {
       "metadata": {},
       "output_type": "pyout",
       "prompt_number": 252,
       "text": [
        "pandas.tseries.index.DatetimeIndex"
       ]
      }
     ],
     "prompt_number": 252
    },
    {
     "cell_type": "code",
     "collapsed": false,
     "input": [
      "# Your columns names\n",
      "for i, col in enumerate(datas.columns):\n",
      "    print(\"column {} \\t\\t{}\".format(i, col))"
     ],
     "language": "python",
     "metadata": {},
     "outputs": [
      {
       "output_type": "stream",
       "stream": "stdout",
       "text": [
        "column 0 \t\tT12_house\n",
        "column 1 \t\tT12_rad_house\n",
        "column 2 \t\tT9_mini\n",
        "column 3 \t\tT9_moy\n",
        "column 4 \t\tT9_ext\n",
        "column 5 \t\tFlow_Extraction\n",
        "column 6 \t\tHouse_Power\n",
        "column 7 \t\tHouse_Energy\n"
       ]
      }
     ],
     "prompt_number": 253
    },
    {
     "cell_type": "code",
     "collapsed": false,
     "input": [
      "# Data reduce\n",
      "datas_mini = datas[:].resample('60min')\n",
      "datas[\"T9_ext\"][:10], datas_mini[\"T9_ext\"][:10]"
     ],
     "language": "python",
     "metadata": {},
     "outputs": [
      {
       "metadata": {},
       "output_type": "pyout",
       "prompt_number": 288,
       "text": [
        "(2014-01-01 00:00:00    4.70\n",
        " 2014-01-01 00:00:01    4.70\n",
        " 2014-01-01 00:02:00    4.70\n",
        " 2014-01-01 00:04:00    4.71\n",
        " 2014-01-01 00:06:00    4.71\n",
        " 2014-01-01 00:08:00    4.71\n",
        " 2014-01-01 00:10:00    4.72\n",
        " 2014-01-01 00:12:00    4.72\n",
        " 2014-01-01 00:14:00    4.72\n",
        " 2014-01-01 00:16:00    4.73\n",
        " Name: T9_ext, dtype: float64, 2014-01-01 00:00:00    4.741250\n",
        " 2014-01-01 01:00:00    4.759375\n",
        " 2014-01-01 02:00:00    4.606250\n",
        " 2014-01-01 03:00:00    4.406250\n",
        " 2014-01-01 04:00:00    4.253125\n",
        " 2014-01-01 05:00:00    4.106250\n",
        " 2014-01-01 06:00:00    3.906250\n",
        " 2014-01-01 07:00:00    3.706250\n",
        " 2014-01-01 08:00:00    3.526250\n",
        " 2014-01-01 09:00:00    3.748125\n",
        " Freq: 60T, Name: T9_ext, dtype: float64)"
       ]
      }
     ],
     "prompt_number": 288
    },
    {
     "cell_type": "code",
     "collapsed": false,
     "input": [
      "# Here to choose what you want to print\n",
      "printer1 = ['House_Energy']\n",
      "printer2 = ['House_Power']\n",
      "printer3 = ['T12_house', 'T12_rad_house', 'T9_ext']"
     ],
     "language": "python",
     "metadata": {},
     "outputs": [],
     "prompt_number": 292
    },
    {
     "cell_type": "code",
     "collapsed": false,
     "input": [
      "# Dataframe of selected columns\n",
      "plotting1 = datas_mini[printer1]\n",
      "plotting2 = datas_mini[printer2]\n",
      "plotting3 = datas_mini[printer3]"
     ],
     "language": "python",
     "metadata": {},
     "outputs": [],
     "prompt_number": 293
    },
    {
     "cell_type": "code",
     "collapsed": false,
     "input": [
      "# Your graph call\n",
      "plotting1.plot(title=\"Evolution de l'\u00e9nergie au cours de l'ann\u00e9e\", color=\"orange\", linewidth=2.5, linestyle=\"-\", )"
     ],
     "language": "python",
     "metadata": {},
     "outputs": [
      {
       "metadata": {},
       "output_type": "pyout",
       "prompt_number": 291,
       "text": [
        "<matplotlib.axes.AxesSubplot at 0xdb46e630>"
       ]
      }
     ],
     "prompt_number": 291
    },
    {
     "cell_type": "code",
     "collapsed": false,
     "input": [
      "# Multi plot\n",
      "ax1 = plt.subplot2grid((3,1), (0,0))\n",
      "ax2 = plt.subplot2grid((3,1), (1,0))\n",
      "ax3 = plt.subplot2grid((3,1), (2,0))\n",
      "plotting1.plot(ax=ax1, title=\"Evolution de l'\u00e9nergie au cours de l'ann\u00e9e\", color=\"orange\", linewidth=2.5, linestyle=\"-\", )\n",
      "plotting2.plot(ax=ax3, title=\"Evolution de l'\u00e9nergie au cours de l'ann\u00e9e\", color=\"orange\", linewidth=2.5, linestyle=\"-\", )"
     ],
     "language": "python",
     "metadata": {},
     "outputs": [
      {
       "metadata": {},
       "output_type": "pyout",
       "prompt_number": 260,
       "text": [
        "<matplotlib.axes.AxesSubplot at 0x1083d6710>"
       ]
      }
     ],
     "prompt_number": 260
    },
    {
     "cell_type": "code",
     "collapsed": false,
     "input": [
      "# Multi plot anywhere\n",
      "fig = plt.figure( )\n",
      "# First point (0, 0 at bottom left) and length\n",
      "ax1 = fig.add_axes( [.05, 0.55, .45, .4] )\n",
      "ax2 = fig.add_axes( [.05, 0.05, .45, .4] )\n",
      "ax3 = fig.add_axes( [0.6, 0.05, 0.35, 0.9] )\n",
      "plotting1.plot(ax=ax3, title=\"Evolution de l'\u00e9nergie au cours de l'ann\u00e9e\", color=\"#268bd2\", linewidth=5, linestyle=\"-\", )\n",
      "plotting2.plot(ax=ax2, title=\"Evolution de la demande en chaud au cours de l'ann\u00e9e\", color='#268bd2', linewidth=2.5, linestyle=\"-\", )\n",
      "plotting3.plot(ax=ax1, title=\"Evolution des temp\u00e9ratures au cours de l'ann\u00e9e\", color=('#dc322f', '#859900', '#268bd2'), linewidth=2.5, linestyle=\"-\", )\n",
      "\n",
      "\n",
      "# Adding max value with some cuztomisation\n",
      "el = Ellipse((2, -1), 0.5, 0.5)\n",
      "ax.add_patch(el)\n",
      "ax3.annotate(\n",
      "            \"Energy per year : {} kWh\".format(datas_mini.max(axis=0)[\"House_Energy\"]), xy=(datas_mini.idxmax(axis=0)[\"House_Energy\"], datas_mini.max(axis=0)[\"House_Energy\"]),\n",
      "             xycoords='data', xytext=(-300, 50), textcoords='offset points',\n",
      "             size=20, va=\"center\",\n",
      "             bbox=dict(boxstyle=\"round\", fc=(1.0, 0.7, 0.7), ec=\"none\"),\n",
      "             arrowprops=dict(arrowstyle=\"wedge,tail_width=1.\",\n",
      "                             fc=(1.0, 0.7, 0.7), ec=\"none\",\n",
      "                             patchA=None,\n",
      "                             patchB=el,\n",
      "                             relpos=(0.2, 0.5),\n",
      "                             )\n",
      "            )  "
     ],
     "language": "python",
     "metadata": {},
     "outputs": [
      {
       "metadata": {},
       "output_type": "pyout",
       "prompt_number": 325,
       "text": [
        "<matplotlib.text.Annotation at 0x145e06ba8>"
       ]
      }
     ],
     "prompt_number": 325
    },
    {
     "cell_type": "code",
     "collapsed": false,
     "input": [
      "datas_mini.max(axis=0)"
     ],
     "language": "python",
     "metadata": {},
     "outputs": [
      {
       "metadata": {},
       "output_type": "pyout",
       "prompt_number": 314,
       "text": [
        "10629.75"
       ]
      }
     ],
     "prompt_number": 314
    },
    {
     "cell_type": "code",
     "collapsed": false,
     "input": [
      "datas_mini.idxmax(axis=0)[]"
     ],
     "language": "python",
     "metadata": {},
     "outputs": [
      {
       "metadata": {},
       "output_type": "pyout",
       "prompt_number": 309,
       "text": [
        "T12_house         2014-07-29 17:00:00\n",
        "T12_rad_house     2014-07-29 18:00:00\n",
        "T9_mini           2014-07-21 00:00:00\n",
        "T9_moy            2014-07-21 00:00:00\n",
        "T9_ext            2014-07-09 17:00:00\n",
        "Flow_Extraction   2014-01-01 00:00:00\n",
        "House_Power       2014-01-15 10:00:00\n",
        "House_Energy      2015-01-01 00:00:00\n",
        "dtype: datetime64[ns]"
       ]
      }
     ],
     "prompt_number": 309
    },
    {
     "cell_type": "code",
     "collapsed": false,
     "input": [],
     "language": "python",
     "metadata": {},
     "outputs": []
    }
   ],
   "metadata": {}
  }
 ]
}