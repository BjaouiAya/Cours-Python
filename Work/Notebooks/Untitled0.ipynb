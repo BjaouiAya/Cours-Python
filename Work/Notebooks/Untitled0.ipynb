{
 "metadata": {
  "name": "",
  "signature": "sha256:9f9e391d991e6aeb5f001f7da8cae2cb1c698a10893a31e6c371675a4a5df792"
 },
 "nbformat": 3,
 "nbformat_minor": 0,
 "worksheets": [
  {
   "cells": [
    {
     "cell_type": "code",
     "collapsed": false,
     "input": [
      "import pandas as pd\n",
      "import numpy as np\n",
      "import datetime\n",
      "import matplotlib\n",
      "\n",
      "from matplotlib.patches import Ellipse  # Used to draw shapes inside plots\n",
      "from matplotlib.dates import MinuteLocator, DateFormatter, SecondLocator"
     ],
     "language": "python",
     "metadata": {},
     "outputs": [],
     "prompt_number": 1
    },
    {
     "cell_type": "code",
     "collapsed": false,
     "input": [
      "import matplotlib.pyplot as plt\n",
      "%matplotlib qt"
     ],
     "language": "python",
     "metadata": {},
     "outputs": [],
     "prompt_number": 2
    },
    {
     "cell_type": "code",
     "collapsed": false,
     "input": [
      "def convert_to_datetime(step, start=datetime.datetime(2014, 1, 1)):\n",
      "    \"\"\"\n",
      "      This parser convert to a real datetime format\n",
      "    \"\"\"\n",
      "    for el in step:\n",
      "        yield start + datetime.timedelta(seconds=int(el))"
     ],
     "language": "python",
     "metadata": {},
     "outputs": [],
     "prompt_number": 3
    },
    {
     "cell_type": "code",
     "collapsed": false,
     "input": [],
     "language": "python",
     "metadata": {},
     "outputs": []
    }
   ],
   "metadata": {}
  }
 ]
}